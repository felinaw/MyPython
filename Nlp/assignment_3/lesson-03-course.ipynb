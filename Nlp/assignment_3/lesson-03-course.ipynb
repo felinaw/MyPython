{
 "cells": [
  {
   "cell_type": "markdown",
   "metadata": {},
   "source": [
    "## Lesson 03: Machine Leanring Model, the first step"
   ]
  },
  {
   "cell_type": "code",
   "execution_count": 2,
   "metadata": {},
   "outputs": [
    {
     "name": "stdout",
     "output_type": "stream",
     "text": "Looking in indexes: https://pypi.tuna.tsinghua.edu.cn/simple\nRequirement already satisfied: sklearn in c:\\users\\jeffb\\appdata\\local\\programs\\python\\python37\\lib\\site-packages (0.0)\nRequirement already satisfied: scikit-learn in c:\\users\\jeffb\\appdata\\local\\programs\\python\\python37\\lib\\site-packages (from sklearn) (0.22.1)\nRequirement already satisfied: scipy>=0.17.0 in c:\\users\\jeffb\\appdata\\local\\programs\\python\\python37\\lib\\site-packages (from scikit-learn->sklearn) (1.4.1)\nRequirement already satisfied: numpy>=1.11.0 in c:\\users\\jeffb\\appdata\\local\\programs\\python\\python37\\lib\\site-packages (from scikit-learn->sklearn) (1.18.1)\nRequirement already satisfied: joblib>=0.11 in c:\\users\\jeffb\\appdata\\local\\programs\\python\\python37\\lib\\site-packages (from scikit-learn->sklearn) (0.14.1)\n"
    }
   ],
   "source": [
    "!pip install sklearn"
   ]
  },
  {
   "cell_type": "code",
   "execution_count": 3,
   "metadata": {},
   "outputs": [],
   "source": [
    "%matplotlib inline"
   ]
  },
  {
   "cell_type": "code",
   "execution_count": 4,
   "metadata": {},
   "outputs": [],
   "source": [
    "import numpy as np"
   ]
  },
  {
   "cell_type": "code",
   "execution_count": 6,
   "metadata": {},
   "outputs": [],
   "source": [
    "random_data = np.random.random((20, 2))"
   ]
  },
  {
   "cell_type": "code",
   "execution_count": 7,
   "metadata": {},
   "outputs": [
    {
     "data": {
      "text/plain": "array([[0.17681785, 0.35033508],\n       [0.70388711, 0.77623808],\n       [0.15598348, 0.37860357],\n       [0.96696102, 0.1361394 ],\n       [0.88524699, 0.74832537],\n       [0.81334287, 0.70703167],\n       [0.00291522, 0.61936962],\n       [0.4306452 , 0.83476977],\n       [0.36917121, 0.87899656],\n       [0.58689809, 0.15448571],\n       [0.70317544, 0.17664549],\n       [0.94278006, 0.64222867],\n       [0.08354284, 0.41941795],\n       [0.69749301, 0.00834922],\n       [0.66375514, 0.88536037],\n       [0.60842675, 0.13883908],\n       [0.10601136, 0.90166111],\n       [0.9356094 , 0.49515412],\n       [0.1293627 , 0.76721497],\n       [0.12116034, 0.81306099]])"
     },
     "execution_count": 7,
     "metadata": {},
     "output_type": "execute_result"
    }
   ],
   "source": [
    "random_data"
   ]
  },
  {
   "cell_type": "code",
   "execution_count": 9,
   "metadata": {},
   "outputs": [],
   "source": [
    "import matplotlib.pyplot as plt"
   ]
  },
  {
   "cell_type": "code",
   "execution_count": 10,
   "metadata": {},
   "outputs": [],
   "source": [
    "X = random_data[:, 0]"
   ]
  },
  {
   "cell_type": "code",
   "execution_count": 14,
   "metadata": {},
   "outputs": [
    {
     "data": {
      "text/plain": "array([0.17681785, 0.70388711, 0.15598348, 0.96696102, 0.88524699,\n       0.81334287, 0.00291522, 0.4306452 , 0.36917121, 0.58689809,\n       0.70317544, 0.94278006, 0.08354284, 0.69749301, 0.66375514,\n       0.60842675, 0.10601136, 0.9356094 , 0.1293627 , 0.12116034])"
     },
     "execution_count": 14,
     "metadata": {},
     "output_type": "execute_result"
    }
   ],
   "source": [
    "X"
   ]
  },
  {
   "cell_type": "code",
   "execution_count": 11,
   "metadata": {},
   "outputs": [],
   "source": [
    "y = random_data[:, 1]"
   ]
  },
  {
   "cell_type": "code",
   "execution_count": 12,
   "metadata": {},
   "outputs": [],
   "source": [
    "import random"
   ]
  },
  {
   "cell_type": "code",
   "execution_count": 15,
   "metadata": {},
   "outputs": [],
   "source": [
    "def assmuing_function(x):\n",
    "    # 在我们的日常生活中是常见的\n",
    "    # 体重 -> 高血压的概率\n",
    "    # 收入 -> 买阿玛尼的概率\n",
    "    # 其实都是一种潜在的函数关系 + 一个随机变化\n",
    "    return 13.4 * x + 5 + random.randint(-5, 5)"
   ]
  },
  {
   "cell_type": "code",
   "execution_count": 16,
   "metadata": {},
   "outputs": [],
   "source": [
    "y = [assmuing_function(x) for x in X]"
   ]
  },
  {
   "cell_type": "code",
   "execution_count": 17,
   "metadata": {},
   "outputs": [
    {
     "data": {
      "text/plain": "<matplotlib.collections.PathCollection at 0x26c06f15f88>"
     },
     "execution_count": 17,
     "metadata": {},
     "output_type": "execute_result"
    },
    {
     "data": {
      "image/png": "[encoded data removed]",
      "image/svg+xml": "<?xml version=\"1.0\" encoding=\"utf-8\" standalone=\"no\"?>\r\n<!DOCTYPE svg PUBLIC \"-//W3C//DTD SVG 1.1//EN\"\r\n  \"http://www.w3.org/Graphics/SVG/1.1/DTD/svg11.dtd\">\r\n<!-- Created with matplotlib (https://matplotlib.org/) -->\r\n<svg height=\"248.518125pt\" version=\"1.1\" viewBox=\"0 0 369.121557 248.518125\" width=\"369.121557pt\" xmlns=\"http://www.w3.org/2000/svg\" xmlns:xlink=\"http://www.w3.org/1999/xlink\">\r\n <defs>\r\n  <style type=\"text/css\">\r\n*{stroke-linecap:butt;stroke-linejoin:round;}\r\n  </style>\r\n </defs>\r\n <g id=\"figure_1\">\r\n  <g id=\"patch_1\">\r\n   <path d=\"M -0 248.518125 \r\nL 369.121557 248.518125 \r\nL 369.121557 0 \r\nL -0 0 \r\nz\r\n\" style=\"fill:none;\"/>\r\n  </g>\r\n  <g id=\"axes_1\">\r\n   <g id=\"patch_2\">\r\n    <path d=\"M 26.925 224.64 \r\nL 361.725 224.64 \r\nL 361.725 7.2 \r\nL 26.925 7.2 \r\nz\r\n\" style=\"fill:#ffffff;\"/>\r\n   </g>\r\n   <g id=\"PathCollection_1\">\r\n    <defs>\r\n     <path d=\"M 0 3 \r\nC 0.795609 3 1.55874 2.683901 2.12132 2.12132 \r\nC 2.683901 1.55874 3 0.795609 3 0 \r\nC 3 -0.795609 2.683901 -1.55874 2.12132 -2.12132 \r\nC 1.55874 -2.683901 0.795609 -3 0 -3 \r\nC -0.795609 -3 -1.55874 -2.683901 -2.12132 -2.12132 \r\nC -2.683901 -1.55874 -3 -0.795609 -3 0 \r\nC -3 0.795609 -2.683901 1.55874 -2.12132 2.12132 \r\nC -1.55874 2.683901 -0.795609 3 0 3 \r\nz\r\n\" id=\"mcfa3e3f021\" style=\"stroke:#1f77b4;\"/>\r\n    </defs>\r\n    <g clip-path=\"url(#p514cb3c22c)\">\r\n     <use style=\"fill:#1f77b4;stroke:#1f77b4;\" x=\"98.822188\" xlink:href=\"#mcfa3e3f021\" y=\"150.582521\"/>\r\n     <use style=\"fill:#1f77b4;stroke:#1f77b4;\" x=\"262.188905\" xlink:href=\"#mcfa3e3f021\" y=\"71.390964\"/>\r\n     <use style=\"fill:#1f77b4;stroke:#1f77b4;\" x=\"92.36451\" xlink:href=\"#mcfa3e3f021\" y=\"153.022045\"/>\r\n     <use style=\"fill:#1f77b4;stroke:#1f77b4;\" x=\"343.729461\" xlink:href=\"#mcfa3e3f021\" y=\"84.278085\"/>\r\n     <use style=\"fill:#1f77b4;stroke:#1f77b4;\" x=\"318.40195\" xlink:href=\"#mcfa3e3f021\" y=\"85.10793\"/>\r\n     <use style=\"fill:#1f77b4;stroke:#1f77b4;\" x=\"296.115048\" xlink:href=\"#mcfa3e3f021\" y=\"41.098327\"/>\r\n     <use style=\"fill:#1f77b4;stroke:#1f77b4;\" x=\"44.920539\" xlink:href=\"#mcfa3e3f021\" y=\"214.635804\"/>\r\n     <use style=\"fill:#1f77b4;stroke:#1f77b4;\" x=\"177.496743\" xlink:href=\"#mcfa3e3f021\" y=\"138.337858\"/>\r\n     <use style=\"fill:#1f77b4;stroke:#1f77b4;\" x=\"158.442693\" xlink:href=\"#mcfa3e3f021\" y=\"110.583294\"/>\r\n     <use style=\"fill:#1f77b4;stroke:#1f77b4;\" x=\"225.927802\" xlink:href=\"#mcfa3e3f021\" y=\"137.518317\"/>\r\n     <use style=\"fill:#1f77b4;stroke:#1f77b4;\" x=\"261.96832\" xlink:href=\"#mcfa3e3f021\" y=\"71.474295\"/>\r\n     <use style=\"fill:#1f77b4;stroke:#1f77b4;\" x=\"336.234499\" xlink:href=\"#mcfa3e3f021\" y=\"17.204196\"/>\r\n     <use style=\"fill:#1f77b4;stroke:#1f77b4;\" x=\"69.911314\" xlink:href=\"#mcfa3e3f021\" y=\"117.813422\"/>\r\n     <use style=\"fill:#1f77b4;stroke:#1f77b4;\" x=\"260.207032\" xlink:href=\"#mcfa3e3f021\" y=\"133.30677\"/>\r\n     <use style=\"fill:#1f77b4;stroke:#1f77b4;\" x=\"249.749879\" xlink:href=\"#mcfa3e3f021\" y=\"67.351911\"/>\r\n     <use style=\"fill:#1f77b4;stroke:#1f77b4;\" x=\"232.600674\" xlink:href=\"#mcfa3e3f021\" y=\"91.306704\"/>\r\n     <use style=\"fill:#1f77b4;stroke:#1f77b4;\" x=\"76.875499\" xlink:href=\"#mcfa3e3f021\" y=\"176.349664\"/>\r\n     <use style=\"fill:#1f77b4;stroke:#1f77b4;\" x=\"334.011931\" xlink:href=\"#mcfa3e3f021\" y=\"52.996453\"/>\r\n     <use style=\"fill:#1f77b4;stroke:#1f77b4;\" x=\"84.113318\" xlink:href=\"#mcfa3e3f021\" y=\"112.448314\"/>\r\n     <use style=\"fill:#1f77b4;stroke:#1f77b4;\" x=\"81.570971\" xlink:href=\"#mcfa3e3f021\" y=\"165.837692\"/>\r\n    </g>\r\n   </g>\r\n   <g id=\"matplotlib.axis_1\">\r\n    <g id=\"xtick_1\">\r\n     <g id=\"line2d_1\">\r\n      <defs>\r\n       <path d=\"M 0 0 \r\nL 0 3.5 \r\n\" id=\"m593e6230fc\" style=\"stroke:#000000;stroke-width:0.8;\"/>\r\n      </defs>\r\n      <g>\r\n       <use style=\"stroke:#000000;stroke-width:0.8;\" x=\"44.016956\" xlink:href=\"#m593e6230fc\" y=\"224.64\"/>\r\n      </g>\r\n     </g>\r\n     <g id=\"text_1\">\r\n      <!-- 0.0 -->\r\n      <defs>\r\n       <path d=\"M 31.78125 66.40625 \r\nQ 24.171875 66.40625 20.328125 58.90625 \r\nQ 16.5 51.421875 16.5 36.375 \r\nQ 16.5 21.390625 20.328125 13.890625 \r\nQ 24.171875 6.390625 31.78125 6.390625 \r\nQ 39.453125 6.390625 43.28125 13.890625 \r\nQ 47.125 21.390625 47.125 36.375 \r\nQ 47.125 51.421875 43.28125 58.90625 \r\nQ 39.453125 66.40625 31.78125 66.40625 \r\nz\r\nM 31.78125 74.21875 \r\nQ 44.046875 74.21875 50.515625 64.515625 \r\nQ 56.984375 54.828125 56.984375 36.375 \r\nQ 56.984375 17.96875 50.515625 8.265625 \r\nQ 44.046875 -1.421875 31.78125 -1.421875 \r\nQ 19.53125 -1.421875 13.0625 8.265625 \r\nQ 6.59375 17.96875 6.59375 36.375 \r\nQ 6.59375 54.828125 13.0625 64.515625 \r\nQ 19.53125 74.21875 31.78125 74.21875 \r\nz\r\n\" id=\"DejaVuSans-48\"/>\r\n       <path d=\"M 10.6875 12.40625 \r\nL 21 12.40625 \r\nL 21 0 \r\nL 10.6875 0 \r\nz\r\n\" id=\"DejaVuSans-46\"/>\r\n      </defs>\r\n      <g transform=\"translate(36.065394 239.238437)scale(0.1 -0.1)\">\r\n       <use xlink:href=\"#DejaVuSans-48\"/>\r\n       <use x=\"63.623047\" xlink:href=\"#DejaVuSans-46\"/>\r\n       <use x=\"95.410156\" xlink:href=\"#DejaVuSans-48\"/>\r\n      </g>\r\n     </g>\r\n    </g>\r\n    <g id=\"xtick_2\">\r\n     <g id=\"line2d_2\">\r\n      <g>\r\n       <use style=\"stroke:#000000;stroke-width:0.8;\" x=\"106.007564\" xlink:href=\"#m593e6230fc\" y=\"224.64\"/>\r\n      </g>\r\n     </g>\r\n     <g id=\"text_2\">\r\n      <!-- 0.2 -->\r\n      <defs>\r\n       <path d=\"M 19.1875 8.296875 \r\nL 53.609375 8.296875 \r\nL 53.609375 0 \r\nL 7.328125 0 \r\nL 7.328125 8.296875 \r\nQ 12.9375 14.109375 22.625 23.890625 \r\nQ 32.328125 33.6875 34.8125 36.53125 \r\nQ 39.546875 41.84375 41.421875 45.53125 \r\nQ 43.3125 49.21875 43.3125 52.78125 \r\nQ 43.3125 58.59375 39.234375 62.25 \r\nQ 35.15625 65.921875 28.609375 65.921875 \r\nQ 23.96875 65.921875 18.8125 64.3125 \r\nQ 13.671875 62.703125 7.8125 59.421875 \r\nL 7.8125 69.390625 \r\nQ 13.765625 71.78125 18.9375 73 \r\nQ 24.125 74.21875 28.421875 74.21875 \r\nQ 39.75 74.21875 46.484375 68.546875 \r\nQ 53.21875 62.890625 53.21875 53.421875 \r\nQ 53.21875 48.921875 51.53125 44.890625 \r\nQ 49.859375 40.875 45.40625 35.40625 \r\nQ 44.1875 33.984375 37.640625 27.21875 \r\nQ 31.109375 20.453125 19.1875 8.296875 \r\nz\r\n\" id=\"DejaVuSans-50\"/>\r\n      </defs>\r\n      <g transform=\"translate(98.056001 239.238437)scale(0.1 -0.1)\">\r\n       <use xlink:href=\"#DejaVuSans-48\"/>\r\n       <use x=\"63.623047\" xlink:href=\"#DejaVuSans-46\"/>\r\n       <use x=\"95.410156\" xlink:href=\"#DejaVuSans-50\"/>\r\n      </g>\r\n     </g>\r\n    </g>\r\n    <g id=\"xtick_3\">\r\n     <g id=\"line2d_3\">\r\n      <g>\r\n       <use style=\"stroke:#000000;stroke-width:0.8;\" x=\"167.998171\" xlink:href=\"#m593e6230fc\" y=\"224.64\"/>\r\n      </g>\r\n     </g>\r\n     <g id=\"text_3\">\r\n      <!-- 0.4 -->\r\n      <defs>\r\n       <path d=\"M 37.796875 64.3125 \r\nL 12.890625 25.390625 \r\nL 37.796875 25.390625 \r\nz\r\nM 35.203125 72.90625 \r\nL 47.609375 72.90625 \r\nL 47.609375 25.390625 \r\nL 58.015625 25.390625 \r\nL 58.015625 17.1875 \r\nL 47.609375 17.1875 \r\nL 47.609375 0 \r\nL 37.796875 0 \r\nL 37.796875 17.1875 \r\nL 4.890625 17.1875 \r\nL 4.890625 26.703125 \r\nz\r\n\" id=\"DejaVuSans-52\"/>\r\n      </defs>\r\n      <g transform=\"translate(160.046609 239.238437)scale(0.1 -0.1)\">\r\n       <use xlink:href=\"#DejaVuSans-48\"/>\r\n       <use x=\"63.623047\" xlink:href=\"#DejaVuSans-46\"/>\r\n       <use x=\"95.410156\" xlink:href=\"#DejaVuSans-52\"/>\r\n      </g>\r\n     </g>\r\n    </g>\r\n    <g id=\"xtick_4\">\r\n     <g id=\"line2d_4\">\r\n      <g>\r\n       <use style=\"stroke:#000000;stroke-width:0.8;\" x=\"229.988779\" xlink:href=\"#m593e6230fc\" y=\"224.64\"/>\r\n      </g>\r\n     </g>\r\n     <g id=\"text_4\">\r\n      <!-- 0.6 -->\r\n      <defs>\r\n       <path d=\"M 33.015625 40.375 \r\nQ 26.375 40.375 22.484375 35.828125 \r\nQ 18.609375 31.296875 18.609375 23.390625 \r\nQ 18.609375 15.53125 22.484375 10.953125 \r\nQ 26.375 6.390625 33.015625 6.390625 \r\nQ 39.65625 6.390625 43.53125 10.953125 \r\nQ 47.40625 15.53125 47.40625 23.390625 \r\nQ 47.40625 31.296875 43.53125 35.828125 \r\nQ 39.65625 40.375 33.015625 40.375 \r\nz\r\nM 52.59375 71.296875 \r\nL 52.59375 62.3125 \r\nQ 48.875 64.0625 45.09375 64.984375 \r\nQ 41.3125 65.921875 37.59375 65.921875 \r\nQ 27.828125 65.921875 22.671875 59.328125 \r\nQ 17.53125 52.734375 16.796875 39.40625 \r\nQ 19.671875 43.65625 24.015625 45.921875 \r\nQ 28.375 48.1875 33.59375 48.1875 \r\nQ 44.578125 48.1875 50.953125 41.515625 \r\nQ 57.328125 34.859375 57.328125 23.390625 \r\nQ 57.328125 12.15625 50.6875 5.359375 \r\nQ 44.046875 -1.421875 33.015625 -1.421875 \r\nQ 20.359375 -1.421875 13.671875 8.265625 \r\nQ 6.984375 17.96875 6.984375 36.375 \r\nQ 6.984375 53.65625 15.1875 63.9375 \r\nQ 23.390625 74.21875 37.203125 74.21875 \r\nQ 40.921875 74.21875 44.703125 73.484375 \r\nQ 48.484375 72.75 52.59375 71.296875 \r\nz\r\n\" id=\"DejaVuSans-54\"/>\r\n      </defs>\r\n      <g transform=\"translate(222.037217 239.238437)scale(0.1 -0.1)\">\r\n       <use xlink:href=\"#DejaVuSans-48\"/>\r\n       <use x=\"63.623047\" xlink:href=\"#DejaVuSans-46\"/>\r\n       <use x=\"95.410156\" xlink:href=\"#DejaVuSans-54\"/>\r\n      </g>\r\n     </g>\r\n    </g>\r\n    <g id=\"xtick_5\">\r\n     <g id=\"line2d_5\">\r\n      <g>\r\n       <use style=\"stroke:#000000;stroke-width:0.8;\" x=\"291.979387\" xlink:href=\"#m593e6230fc\" y=\"224.64\"/>\r\n      </g>\r\n     </g>\r\n     <g id=\"text_5\">\r\n      <!-- 0.8 -->\r\n      <defs>\r\n       <path d=\"M 31.78125 34.625 \r\nQ 24.75 34.625 20.71875 30.859375 \r\nQ 16.703125 27.09375 16.703125 20.515625 \r\nQ 16.703125 13.921875 20.71875 10.15625 \r\nQ 24.75 6.390625 31.78125 6.390625 \r\nQ 38.8125 6.390625 42.859375 10.171875 \r\nQ 46.921875 13.96875 46.921875 20.515625 \r\nQ 46.921875 27.09375 42.890625 30.859375 \r\nQ 38.875 34.625 31.78125 34.625 \r\nz\r\nM 21.921875 38.8125 \r\nQ 15.578125 40.375 12.03125 44.71875 \r\nQ 8.5 49.078125 8.5 55.328125 \r\nQ 8.5 64.0625 14.71875 69.140625 \r\nQ 20.953125 74.21875 31.78125 74.21875 \r\nQ 42.671875 74.21875 48.875 69.140625 \r\nQ 55.078125 64.0625 55.078125 55.328125 \r\nQ 55.078125 49.078125 51.53125 44.71875 \r\nQ 48 40.375 41.703125 38.8125 \r\nQ 48.828125 37.15625 52.796875 32.3125 \r\nQ 56.78125 27.484375 56.78125 20.515625 \r\nQ 56.78125 9.90625 50.3125 4.234375 \r\nQ 43.84375 -1.421875 31.78125 -1.421875 \r\nQ 19.734375 -1.421875 13.25 4.234375 \r\nQ 6.78125 9.90625 6.78125 20.515625 \r\nQ 6.78125 27.484375 10.78125 32.3125 \r\nQ 14.796875 37.15625 21.921875 38.8125 \r\nz\r\nM 18.3125 54.390625 \r\nQ 18.3125 48.734375 21.84375 45.5625 \r\nQ 25.390625 42.390625 31.78125 42.390625 \r\nQ 38.140625 42.390625 41.71875 45.5625 \r\nQ 45.3125 48.734375 45.3125 54.390625 \r\nQ 45.3125 60.0625 41.71875 63.234375 \r\nQ 38.140625 66.40625 31.78125 66.40625 \r\nQ 25.390625 66.40625 21.84375 63.234375 \r\nQ 18.3125 60.0625 18.3125 54.390625 \r\nz\r\n\" id=\"DejaVuSans-56\"/>\r\n      </defs>\r\n      <g transform=\"translate(284.027824 239.238437)scale(0.1 -0.1)\">\r\n       <use xlink:href=\"#DejaVuSans-48\"/>\r\n       <use x=\"63.623047\" xlink:href=\"#DejaVuSans-46\"/>\r\n       <use x=\"95.410156\" xlink:href=\"#DejaVuSans-56\"/>\r\n      </g>\r\n     </g>\r\n    </g>\r\n    <g id=\"xtick_6\">\r\n     <g id=\"line2d_6\">\r\n      <g>\r\n       <use style=\"stroke:#000000;stroke-width:0.8;\" x=\"353.969994\" xlink:href=\"#m593e6230fc\" y=\"224.64\"/>\r\n      </g>\r\n     </g>\r\n     <g id=\"text_6\">\r\n      <!-- 1.0 -->\r\n      <defs>\r\n       <path d=\"M 12.40625 8.296875 \r\nL 28.515625 8.296875 \r\nL 28.515625 63.921875 \r\nL 10.984375 60.40625 \r\nL 10.984375 69.390625 \r\nL 28.421875 72.90625 \r\nL 38.28125 72.90625 \r\nL 38.28125 8.296875 \r\nL 54.390625 8.296875 \r\nL 54.390625 0 \r\nL 12.40625 0 \r\nz\r\n\" id=\"DejaVuSans-49\"/>\r\n      </defs>\r\n      <g transform=\"translate(346.018432 239.238437)scale(0.1 -0.1)\">\r\n       <use xlink:href=\"#DejaVuSans-49\"/>\r\n       <use x=\"63.623047\" xlink:href=\"#DejaVuSans-46\"/>\r\n       <use x=\"95.410156\" xlink:href=\"#DejaVuSans-48\"/>\r\n      </g>\r\n     </g>\r\n    </g>\r\n   </g>\r\n   <g id=\"matplotlib.axis_2\">\r\n    <g id=\"ytick_1\">\r\n     <g id=\"line2d_7\">\r\n      <defs>\r\n       <path d=\"M 0 0 \r\nL -3.5 0 \r\n\" id=\"me5518661b5\" style=\"stroke:#000000;stroke-width:0.8;\"/>\r\n      </defs>\r\n      <g>\r\n       <use style=\"stroke:#000000;stroke-width:0.8;\" x=\"26.925\" xlink:href=\"#me5518661b5\" y=\"214.977151\"/>\r\n      </g>\r\n     </g>\r\n     <g id=\"text_7\">\r\n      <!-- 0 -->\r\n      <g transform=\"translate(13.5625 218.77637)scale(0.1 -0.1)\">\r\n       <use xlink:href=\"#DejaVuSans-48\"/>\r\n      </g>\r\n     </g>\r\n    </g>\r\n    <g id=\"ytick_2\">\r\n     <g id=\"line2d_8\">\r\n      <g>\r\n       <use style=\"stroke:#000000;stroke-width:0.8;\" x=\"26.925\" xlink:href=\"#me5518661b5\" y=\"171.286358\"/>\r\n      </g>\r\n     </g>\r\n     <g id=\"text_8\">\r\n      <!-- 5 -->\r\n      <defs>\r\n       <path d=\"M 10.796875 72.90625 \r\nL 49.515625 72.90625 \r\nL 49.515625 64.59375 \r\nL 19.828125 64.59375 \r\nL 19.828125 46.734375 \r\nQ 21.96875 47.46875 24.109375 47.828125 \r\nQ 26.265625 48.1875 28.421875 48.1875 \r\nQ 40.625 48.1875 47.75 41.5 \r\nQ 54.890625 34.8125 54.890625 23.390625 \r\nQ 54.890625 11.625 47.5625 5.09375 \r\nQ 40.234375 -1.421875 26.90625 -1.421875 \r\nQ 22.3125 -1.421875 17.546875 -0.640625 \r\nQ 12.796875 0.140625 7.71875 1.703125 \r\nL 7.71875 11.625 \r\nQ 12.109375 9.234375 16.796875 8.0625 \r\nQ 21.484375 6.890625 26.703125 6.890625 \r\nQ 35.15625 6.890625 40.078125 11.328125 \r\nQ 45.015625 15.765625 45.015625 23.390625 \r\nQ 45.015625 31 40.078125 35.4375 \r\nQ 35.15625 39.890625 26.703125 39.890625 \r\nQ 22.75 39.890625 18.8125 39.015625 \r\nQ 14.890625 38.140625 10.796875 36.28125 \r\nz\r\n\" id=\"DejaVuSans-53\"/>\r\n      </defs>\r\n      <g transform=\"translate(13.5625 175.085577)scale(0.1 -0.1)\">\r\n       <use xlink:href=\"#DejaVuSans-53\"/>\r\n      </g>\r\n     </g>\r\n    </g>\r\n    <g id=\"ytick_3\">\r\n     <g id=\"line2d_9\">\r\n      <g>\r\n       <use style=\"stroke:#000000;stroke-width:0.8;\" x=\"26.925\" xlink:href=\"#me5518661b5\" y=\"127.595564\"/>\r\n      </g>\r\n     </g>\r\n     <g id=\"text_9\">\r\n      <!-- 10 -->\r\n      <g transform=\"translate(7.2 131.394783)scale(0.1 -0.1)\">\r\n       <use xlink:href=\"#DejaVuSans-49\"/>\r\n       <use x=\"63.623047\" xlink:href=\"#DejaVuSans-48\"/>\r\n      </g>\r\n     </g>\r\n    </g>\r\n    <g id=\"ytick_4\">\r\n     <g id=\"line2d_10\">\r\n      <g>\r\n       <use style=\"stroke:#000000;stroke-width:0.8;\" x=\"26.925\" xlink:href=\"#me5518661b5\" y=\"83.90477\"/>\r\n      </g>\r\n     </g>\r\n     <g id=\"text_10\">\r\n      <!-- 15 -->\r\n      <g transform=\"translate(7.2 87.703989)scale(0.1 -0.1)\">\r\n       <use xlink:href=\"#DejaVuSans-49\"/>\r\n       <use x=\"63.623047\" xlink:href=\"#DejaVuSans-53\"/>\r\n      </g>\r\n     </g>\r\n    </g>\r\n    <g id=\"ytick_5\">\r\n     <g id=\"line2d_11\">\r\n      <g>\r\n       <use style=\"stroke:#000000;stroke-width:0.8;\" x=\"26.925\" xlink:href=\"#me5518661b5\" y=\"40.213977\"/>\r\n      </g>\r\n     </g>\r\n     <g id=\"text_11\">\r\n      <!-- 20 -->\r\n      <g transform=\"translate(7.2 44.013195)scale(0.1 -0.1)\">\r\n       <use xlink:href=\"#DejaVuSans-50\"/>\r\n       <use x=\"63.623047\" xlink:href=\"#DejaVuSans-48\"/>\r\n      </g>\r\n     </g>\r\n    </g>\r\n   </g>\r\n   <g id=\"patch_3\">\r\n    <path d=\"M 26.925 224.64 \r\nL 26.925 7.2 \r\n\" style=\"fill:none;stroke:#000000;stroke-linecap:square;stroke-linejoin:miter;stroke-width:0.8;\"/>\r\n   </g>\r\n   <g id=\"patch_4\">\r\n    <path d=\"M 361.725 224.64 \r\nL 361.725 7.2 \r\n\" style=\"fill:none;stroke:#000000;stroke-linecap:square;stroke-linejoin:miter;stroke-width:0.8;\"/>\r\n   </g>\r\n   <g id=\"patch_5\">\r\n    <path d=\"M 26.925 224.64 \r\nL 361.725 224.64 \r\n\" style=\"fill:none;stroke:#000000;stroke-linecap:square;stroke-linejoin:miter;stroke-width:0.8;\"/>\r\n   </g>\r\n   <g id=\"patch_6\">\r\n    <path d=\"M 26.925 7.2 \r\nL 361.725 7.2 \r\n\" style=\"fill:none;stroke:#000000;stroke-linecap:square;stroke-linejoin:miter;stroke-width:0.8;\"/>\r\n   </g>\r\n  </g>\r\n </g>\r\n <defs>\r\n  <clipPath id=\"p514cb3c22c\">\r\n   <rect height=\"217.44\" width=\"334.8\" x=\"26.925\" y=\"7.2\"/>\r\n  </clipPath>\r\n </defs>\r\n</svg>\r\n",
      "text/plain": "<Figure size 432x288 with 1 Axes>"
     },
     "metadata": {
      "needs_background": "light"
     },
     "output_type": "display_data"
    }
   ],
   "source": [
    "plt.scatter(X, y)"
   ]
  },
  {
   "cell_type": "code",
   "execution_count": 19,
   "metadata": {},
   "outputs": [],
   "source": [
    "y = np.array(y)"
   ]
  },
  {
   "cell_type": "code",
   "execution_count": 20,
   "metadata": {},
   "outputs": [
    {
     "data": {
      "text/plain": "array([ 7.36935925, 16.4320873 ,  7.09017866, 14.95727764, 14.86230967,\n       19.8987944 ,  0.039064  ,  8.77064564, 11.94689416,  8.8644344 ,\n       16.42255091, 22.63325277, 11.11947407,  9.34640627, 16.89431891,\n       14.15291839,  4.42055222, 18.53716592, 11.73346017,  5.62354854])"
     },
     "execution_count": 20,
     "metadata": {},
     "output_type": "execute_result"
    }
   ],
   "source": [
    "y"
   ]
  },
  {
   "cell_type": "markdown",
   "metadata": {},
   "source": [
    "## Regression -> Real Number\n",
    "## Classification -> [0, 0, 0, 1], [0, 1, 0, 0]"
   ]
  },
  {
   "cell_type": "code",
   "execution_count": 22,
   "metadata": {},
   "outputs": [],
   "source": [
    "import numpy as np\n",
    "from sklearn.linear_model import LinearRegression"
   ]
  },
  {
   "cell_type": "code",
   "execution_count": 25,
   "metadata": {},
   "outputs": [],
   "source": [
    "reg = LinearRegression().fit(X.reshape(-1, 1), y)"
   ]
  },
  {
   "cell_type": "code",
   "execution_count": 31,
   "metadata": {},
   "outputs": [
    {
     "data": {
      "text/plain": "0.6773634872987583"
     },
     "execution_count": 31,
     "metadata": {},
     "output_type": "execute_result"
    }
   ],
   "source": [
    "reg.score(X.reshape(-1, 1), y)"
   ]
  },
  {
   "cell_type": "code",
   "execution_count": 35,
   "metadata": {},
   "outputs": [
    {
     "data": {
      "text/plain": "array([14.05069782])"
     },
     "execution_count": 35,
     "metadata": {},
     "output_type": "execute_result"
    }
   ],
   "source": [
    "reg.coef_"
   ]
  },
  {
   "cell_type": "code",
   "execution_count": 39,
   "metadata": {},
   "outputs": [
    {
     "data": {
      "text/plain": "4.971944639397434"
     },
     "execution_count": 39,
     "metadata": {},
     "output_type": "execute_result"
    }
   ],
   "source": [
    "reg.intercept_"
   ]
  },
  {
   "cell_type": "code",
   "execution_count": 41,
   "metadata": {},
   "outputs": [],
   "source": [
    "def f(x): \n",
    "    return reg.coef_ * x + reg.intercept_"
   ]
  },
  {
   "cell_type": "code",
   "execution_count": 42,
   "metadata": {},
   "outputs": [
    {
     "data": {
      "text/plain": "[<matplotlib.lines.Line2D at 0x26c0a9481c8>]"
     },
     "execution_count": 42,
     "metadata": {},
     "output_type": "execute_result"
    },
    {
     "data": {
      "image/png": "[encoded data removed]",
      "image/svg+xml": "<?xml version=\"1.0\" encoding=\"utf-8\" standalone=\"no\"?>\r\n<!DOCTYPE svg PUBLIC \"-//W3C//DTD SVG 1.1//EN\"\r\n  \"http://www.w3.org/Graphics/SVG/1.1/DTD/svg11.dtd\">\r\n<!-- Created with matplotlib (https://matplotlib.org/) -->\r\n<svg height=\"248.518125pt\" version=\"1.1\" viewBox=\"0 0 369.121557 248.518125\" width=\"369.121557pt\" xmlns=\"http://www.w3.org/2000/svg\" xmlns:xlink=\"http://www.w3.org/1999/xlink\">\r\n <defs>\r\n  <style type=\"text/css\">\r\n*{stroke-linecap:butt;stroke-linejoin:round;}\r\n  </style>\r\n </defs>\r\n <g id=\"figure_1\">\r\n  <g id=\"patch_1\">\r\n   <path d=\"M -0 248.518125 \r\nL 369.121557 248.518125 \r\nL 369.121557 0 \r\nL -0 0 \r\nz\r\n\" style=\"fill:none;\"/>\r\n  </g>\r\n  <g id=\"axes_1\">\r\n   <g id=\"patch_2\">\r\n    <path d=\"M 26.925 224.64 \r\nL 361.725 224.64 \r\nL 361.725 7.2 \r\nL 26.925 7.2 \r\nz\r\n\" style=\"fill:#ffffff;\"/>\r\n   </g>\r\n   <g id=\"PathCollection_1\">\r\n    <defs>\r\n     <path d=\"M 0 3 \r\nC 0.795609 3 1.55874 2.683901 2.12132 2.12132 \r\nC 2.683901 1.55874 3 0.795609 3 0 \r\nC 3 -0.795609 2.683901 -1.55874 2.12132 -2.12132 \r\nC 1.55874 -2.683901 0.795609 -3 0 -3 \r\nC -0.795609 -3 -1.55874 -2.683901 -2.12132 -2.12132 \r\nC -2.683901 -1.55874 -3 -0.795609 -3 0 \r\nC -3 0.795609 -2.683901 1.55874 -2.12132 2.12132 \r\nC -1.55874 2.683901 -0.795609 3 0 3 \r\nz\r\n\" id=\"m0dc37e035c\" style=\"stroke:#1f77b4;\"/>\r\n    </defs>\r\n    <g clip-path=\"url(#p1499fc6f02)\">\r\n     <use style=\"fill:#1f77b4;stroke:#1f77b4;\" x=\"98.822188\" xlink:href=\"#m0dc37e035c\" y=\"150.582521\"/>\r\n     <use style=\"fill:#1f77b4;stroke:#1f77b4;\" x=\"262.188905\" xlink:href=\"#m0dc37e035c\" y=\"71.390964\"/>\r\n     <use style=\"fill:#1f77b4;stroke:#1f77b4;\" x=\"92.36451\" xlink:href=\"#m0dc37e035c\" y=\"153.022045\"/>\r\n     <use style=\"fill:#1f77b4;stroke:#1f77b4;\" x=\"343.729461\" xlink:href=\"#m0dc37e035c\" y=\"84.278085\"/>\r\n     <use style=\"fill:#1f77b4;stroke:#1f77b4;\" x=\"318.40195\" xlink:href=\"#m0dc37e035c\" y=\"85.10793\"/>\r\n     <use style=\"fill:#1f77b4;stroke:#1f77b4;\" x=\"296.115048\" xlink:href=\"#m0dc37e035c\" y=\"41.098327\"/>\r\n     <use style=\"fill:#1f77b4;stroke:#1f77b4;\" x=\"44.920539\" xlink:href=\"#m0dc37e035c\" y=\"214.635804\"/>\r\n     <use style=\"fill:#1f77b4;stroke:#1f77b4;\" x=\"177.496743\" xlink:href=\"#m0dc37e035c\" y=\"138.337858\"/>\r\n     <use style=\"fill:#1f77b4;stroke:#1f77b4;\" x=\"158.442693\" xlink:href=\"#m0dc37e035c\" y=\"110.583294\"/>\r\n     <use style=\"fill:#1f77b4;stroke:#1f77b4;\" x=\"225.927802\" xlink:href=\"#m0dc37e035c\" y=\"137.518317\"/>\r\n     <use style=\"fill:#1f77b4;stroke:#1f77b4;\" x=\"261.96832\" xlink:href=\"#m0dc37e035c\" y=\"71.474295\"/>\r\n     <use style=\"fill:#1f77b4;stroke:#1f77b4;\" x=\"336.234499\" xlink:href=\"#m0dc37e035c\" y=\"17.204196\"/>\r\n     <use style=\"fill:#1f77b4;stroke:#1f77b4;\" x=\"69.911314\" xlink:href=\"#m0dc37e035c\" y=\"117.813422\"/>\r\n     <use style=\"fill:#1f77b4;stroke:#1f77b4;\" x=\"260.207032\" xlink:href=\"#m0dc37e035c\" y=\"133.30677\"/>\r\n     <use style=\"fill:#1f77b4;stroke:#1f77b4;\" x=\"249.749879\" xlink:href=\"#m0dc37e035c\" y=\"67.351911\"/>\r\n     <use style=\"fill:#1f77b4;stroke:#1f77b4;\" x=\"232.600674\" xlink:href=\"#m0dc37e035c\" y=\"91.306704\"/>\r\n     <use style=\"fill:#1f77b4;stroke:#1f77b4;\" x=\"76.875499\" xlink:href=\"#m0dc37e035c\" y=\"176.349664\"/>\r\n     <use style=\"fill:#1f77b4;stroke:#1f77b4;\" x=\"334.011931\" xlink:href=\"#m0dc37e035c\" y=\"52.996453\"/>\r\n     <use style=\"fill:#1f77b4;stroke:#1f77b4;\" x=\"84.113318\" xlink:href=\"#m0dc37e035c\" y=\"112.448314\"/>\r\n     <use style=\"fill:#1f77b4;stroke:#1f77b4;\" x=\"81.570971\" xlink:href=\"#m0dc37e035c\" y=\"165.837692\"/>\r\n    </g>\r\n   </g>\r\n   <g id=\"matplotlib.axis_1\">\r\n    <g id=\"xtick_1\">\r\n     <g id=\"line2d_1\">\r\n      <defs>\r\n       <path d=\"M 0 0 \r\nL 0 3.5 \r\n\" id=\"m2febccc483\" style=\"stroke:#000000;stroke-width:0.8;\"/>\r\n      </defs>\r\n      <g>\r\n       <use style=\"stroke:#000000;stroke-width:0.8;\" x=\"44.016956\" xlink:href=\"#m2febccc483\" y=\"224.64\"/>\r\n      </g>\r\n     </g>\r\n     <g id=\"text_1\">\r\n      <!-- 0.0 -->\r\n      <defs>\r\n       <path d=\"M 31.78125 66.40625 \r\nQ 24.171875 66.40625 20.328125 58.90625 \r\nQ 16.5 51.421875 16.5 36.375 \r\nQ 16.5 21.390625 20.328125 13.890625 \r\nQ 24.171875 6.390625 31.78125 6.390625 \r\nQ 39.453125 6.390625 43.28125 13.890625 \r\nQ 47.125 21.390625 47.125 36.375 \r\nQ 47.125 51.421875 43.28125 58.90625 \r\nQ 39.453125 66.40625 31.78125 66.40625 \r\nz\r\nM 31.78125 74.21875 \r\nQ 44.046875 74.21875 50.515625 64.515625 \r\nQ 56.984375 54.828125 56.984375 36.375 \r\nQ 56.984375 17.96875 50.515625 8.265625 \r\nQ 44.046875 -1.421875 31.78125 -1.421875 \r\nQ 19.53125 -1.421875 13.0625 8.265625 \r\nQ 6.59375 17.96875 6.59375 36.375 \r\nQ 6.59375 54.828125 13.0625 64.515625 \r\nQ 19.53125 74.21875 31.78125 74.21875 \r\nz\r\n\" id=\"DejaVuSans-48\"/>\r\n       <path d=\"M 10.6875 12.40625 \r\nL 21 12.40625 \r\nL 21 0 \r\nL 10.6875 0 \r\nz\r\n\" id=\"DejaVuSans-46\"/>\r\n      </defs>\r\n      <g transform=\"translate(36.065394 239.238437)scale(0.1 -0.1)\">\r\n       <use xlink:href=\"#DejaVuSans-48\"/>\r\n       <use x=\"63.623047\" xlink:href=\"#DejaVuSans-46\"/>\r\n       <use x=\"95.410156\" xlink:href=\"#DejaVuSans-48\"/>\r\n      </g>\r\n     </g>\r\n    </g>\r\n    <g id=\"xtick_2\">\r\n     <g id=\"line2d_2\">\r\n      <g>\r\n       <use style=\"stroke:#000000;stroke-width:0.8;\" x=\"106.007564\" xlink:href=\"#m2febccc483\" y=\"224.64\"/>\r\n      </g>\r\n     </g>\r\n     <g id=\"text_2\">\r\n      <!-- 0.2 -->\r\n      <defs>\r\n       <path d=\"M 19.1875 8.296875 \r\nL 53.609375 8.296875 \r\nL 53.609375 0 \r\nL 7.328125 0 \r\nL 7.328125 8.296875 \r\nQ 12.9375 14.109375 22.625 23.890625 \r\nQ 32.328125 33.6875 34.8125 36.53125 \r\nQ 39.546875 41.84375 41.421875 45.53125 \r\nQ 43.3125 49.21875 43.3125 52.78125 \r\nQ 43.3125 58.59375 39.234375 62.25 \r\nQ 35.15625 65.921875 28.609375 65.921875 \r\nQ 23.96875 65.921875 18.8125 64.3125 \r\nQ 13.671875 62.703125 7.8125 59.421875 \r\nL 7.8125 69.390625 \r\nQ 13.765625 71.78125 18.9375 73 \r\nQ 24.125 74.21875 28.421875 74.21875 \r\nQ 39.75 74.21875 46.484375 68.546875 \r\nQ 53.21875 62.890625 53.21875 53.421875 \r\nQ 53.21875 48.921875 51.53125 44.890625 \r\nQ 49.859375 40.875 45.40625 35.40625 \r\nQ 44.1875 33.984375 37.640625 27.21875 \r\nQ 31.109375 20.453125 19.1875 8.296875 \r\nz\r\n\" id=\"DejaVuSans-50\"/>\r\n      </defs>\r\n      <g transform=\"translate(98.056001 239.238437)scale(0.1 -0.1)\">\r\n       <use xlink:href=\"#DejaVuSans-48\"/>\r\n       <use x=\"63.623047\" xlink:href=\"#DejaVuSans-46\"/>\r\n       <use x=\"95.410156\" xlink:href=\"#DejaVuSans-50\"/>\r\n      </g>\r\n     </g>\r\n    </g>\r\n    <g id=\"xtick_3\">\r\n     <g id=\"line2d_3\">\r\n      <g>\r\n       <use style=\"stroke:#000000;stroke-width:0.8;\" x=\"167.998171\" xlink:href=\"#m2febccc483\" y=\"224.64\"/>\r\n      </g>\r\n     </g>\r\n     <g id=\"text_3\">\r\n      <!-- 0.4 -->\r\n      <defs>\r\n       <path d=\"M 37.796875 64.3125 \r\nL 12.890625 25.390625 \r\nL 37.796875 25.390625 \r\nz\r\nM 35.203125 72.90625 \r\nL 47.609375 72.90625 \r\nL 47.609375 25.390625 \r\nL 58.015625 25.390625 \r\nL 58.015625 17.1875 \r\nL 47.609375 17.1875 \r\nL 47.609375 0 \r\nL 37.796875 0 \r\nL 37.796875 17.1875 \r\nL 4.890625 17.1875 \r\nL 4.890625 26.703125 \r\nz\r\n\" id=\"DejaVuSans-52\"/>\r\n      </defs>\r\n      <g transform=\"translate(160.046609 239.238437)scale(0.1 -0.1)\">\r\n       <use xlink:href=\"#DejaVuSans-48\"/>\r\n       <use x=\"63.623047\" xlink:href=\"#DejaVuSans-46\"/>\r\n       <use x=\"95.410156\" xlink:href=\"#DejaVuSans-52\"/>\r\n      </g>\r\n     </g>\r\n    </g>\r\n    <g id=\"xtick_4\">\r\n     <g id=\"line2d_4\">\r\n      <g>\r\n       <use style=\"stroke:#000000;stroke-width:0.8;\" x=\"229.988779\" xlink:href=\"#m2febccc483\" y=\"224.64\"/>\r\n      </g>\r\n     </g>\r\n     <g id=\"text_4\">\r\n      <!-- 0.6 -->\r\n      <defs>\r\n       <path d=\"M 33.015625 40.375 \r\nQ 26.375 40.375 22.484375 35.828125 \r\nQ 18.609375 31.296875 18.609375 23.390625 \r\nQ 18.609375 15.53125 22.484375 10.953125 \r\nQ 26.375 6.390625 33.015625 6.390625 \r\nQ 39.65625 6.390625 43.53125 10.953125 \r\nQ 47.40625 15.53125 47.40625 23.390625 \r\nQ 47.40625 31.296875 43.53125 35.828125 \r\nQ 39.65625 40.375 33.015625 40.375 \r\nz\r\nM 52.59375 71.296875 \r\nL 52.59375 62.3125 \r\nQ 48.875 64.0625 45.09375 64.984375 \r\nQ 41.3125 65.921875 37.59375 65.921875 \r\nQ 27.828125 65.921875 22.671875 59.328125 \r\nQ 17.53125 52.734375 16.796875 39.40625 \r\nQ 19.671875 43.65625 24.015625 45.921875 \r\nQ 28.375 48.1875 33.59375 48.1875 \r\nQ 44.578125 48.1875 50.953125 41.515625 \r\nQ 57.328125 34.859375 57.328125 23.390625 \r\nQ 57.328125 12.15625 50.6875 5.359375 \r\nQ 44.046875 -1.421875 33.015625 -1.421875 \r\nQ 20.359375 -1.421875 13.671875 8.265625 \r\nQ 6.984375 17.96875 6.984375 36.375 \r\nQ 6.984375 53.65625 15.1875 63.9375 \r\nQ 23.390625 74.21875 37.203125 74.21875 \r\nQ 40.921875 74.21875 44.703125 73.484375 \r\nQ 48.484375 72.75 52.59375 71.296875 \r\nz\r\n\" id=\"DejaVuSans-54\"/>\r\n      </defs>\r\n      <g transform=\"translate(222.037217 239.238437)scale(0.1 -0.1)\">\r\n       <use xlink:href=\"#DejaVuSans-48\"/>\r\n       <use x=\"63.623047\" xlink:href=\"#DejaVuSans-46\"/>\r\n       <use x=\"95.410156\" xlink:href=\"#DejaVuSans-54\"/>\r\n      </g>\r\n     </g>\r\n    </g>\r\n    <g id=\"xtick_5\">\r\n     <g id=\"line2d_5\">\r\n      <g>\r\n       <use style=\"stroke:#000000;stroke-width:0.8;\" x=\"291.979387\" xlink:href=\"#m2febccc483\" y=\"224.64\"/>\r\n      </g>\r\n     </g>\r\n     <g id=\"text_5\">\r\n      <!-- 0.8 -->\r\n      <defs>\r\n       <path d=\"M 31.78125 34.625 \r\nQ 24.75 34.625 20.71875 30.859375 \r\nQ 16.703125 27.09375 16.703125 20.515625 \r\nQ 16.703125 13.921875 20.71875 10.15625 \r\nQ 24.75 6.390625 31.78125 6.390625 \r\nQ 38.8125 6.390625 42.859375 10.171875 \r\nQ 46.921875 13.96875 46.921875 20.515625 \r\nQ 46.921875 27.09375 42.890625 30.859375 \r\nQ 38.875 34.625 31.78125 34.625 \r\nz\r\nM 21.921875 38.8125 \r\nQ 15.578125 40.375 12.03125 44.71875 \r\nQ 8.5 49.078125 8.5 55.328125 \r\nQ 8.5 64.0625 14.71875 69.140625 \r\nQ 20.953125 74.21875 31.78125 74.21875 \r\nQ 42.671875 74.21875 48.875 69.140625 \r\nQ 55.078125 64.0625 55.078125 55.328125 \r\nQ 55.078125 49.078125 51.53125 44.71875 \r\nQ 48 40.375 41.703125 38.8125 \r\nQ 48.828125 37.15625 52.796875 32.3125 \r\nQ 56.78125 27.484375 56.78125 20.515625 \r\nQ 56.78125 9.90625 50.3125 4.234375 \r\nQ 43.84375 -1.421875 31.78125 -1.421875 \r\nQ 19.734375 -1.421875 13.25 4.234375 \r\nQ 6.78125 9.90625 6.78125 20.515625 \r\nQ 6.78125 27.484375 10.78125 32.3125 \r\nQ 14.796875 37.15625 21.921875 38.8125 \r\nz\r\nM 18.3125 54.390625 \r\nQ 18.3125 48.734375 21.84375 45.5625 \r\nQ 25.390625 42.390625 31.78125 42.390625 \r\nQ 38.140625 42.390625 41.71875 45.5625 \r\nQ 45.3125 48.734375 45.3125 54.390625 \r\nQ 45.3125 60.0625 41.71875 63.234375 \r\nQ 38.140625 66.40625 31.78125 66.40625 \r\nQ 25.390625 66.40625 21.84375 63.234375 \r\nQ 18.3125 60.0625 18.3125 54.390625 \r\nz\r\n\" id=\"DejaVuSans-56\"/>\r\n      </defs>\r\n      <g transform=\"translate(284.027824 239.238437)scale(0.1 -0.1)\">\r\n       <use xlink:href=\"#DejaVuSans-48\"/>\r\n       <use x=\"63.623047\" xlink:href=\"#DejaVuSans-46\"/>\r\n       <use x=\"95.410156\" xlink:href=\"#DejaVuSans-56\"/>\r\n      </g>\r\n     </g>\r\n    </g>\r\n    <g id=\"xtick_6\">\r\n     <g id=\"line2d_6\">\r\n      <g>\r\n       <use style=\"stroke:#000000;stroke-width:0.8;\" x=\"353.969994\" xlink:href=\"#m2febccc483\" y=\"224.64\"/>\r\n      </g>\r\n     </g>\r\n     <g id=\"text_6\">\r\n      <!-- 1.0 -->\r\n      <defs>\r\n       <path d=\"M 12.40625 8.296875 \r\nL 28.515625 8.296875 \r\nL 28.515625 63.921875 \r\nL 10.984375 60.40625 \r\nL 10.984375 69.390625 \r\nL 28.421875 72.90625 \r\nL 38.28125 72.90625 \r\nL 38.28125 8.296875 \r\nL 54.390625 8.296875 \r\nL 54.390625 0 \r\nL 12.40625 0 \r\nz\r\n\" id=\"DejaVuSans-49\"/>\r\n      </defs>\r\n      <g transform=\"translate(346.018432 239.238437)scale(0.1 -0.1)\">\r\n       <use xlink:href=\"#DejaVuSans-49\"/>\r\n       <use x=\"63.623047\" xlink:href=\"#DejaVuSans-46\"/>\r\n       <use x=\"95.410156\" xlink:href=\"#DejaVuSans-48\"/>\r\n      </g>\r\n     </g>\r\n    </g>\r\n   </g>\r\n   <g id=\"matplotlib.axis_2\">\r\n    <g id=\"ytick_1\">\r\n     <g id=\"line2d_7\">\r\n      <defs>\r\n       <path d=\"M 0 0 \r\nL -3.5 0 \r\n\" id=\"m1764533221\" style=\"stroke:#000000;stroke-width:0.8;\"/>\r\n      </defs>\r\n      <g>\r\n       <use style=\"stroke:#000000;stroke-width:0.8;\" x=\"26.925\" xlink:href=\"#m1764533221\" y=\"214.977151\"/>\r\n      </g>\r\n     </g>\r\n     <g id=\"text_7\">\r\n      <!-- 0 -->\r\n      <g transform=\"translate(13.5625 218.77637)scale(0.1 -0.1)\">\r\n       <use xlink:href=\"#DejaVuSans-48\"/>\r\n      </g>\r\n     </g>\r\n    </g>\r\n    <g id=\"ytick_2\">\r\n     <g id=\"line2d_8\">\r\n      <g>\r\n       <use style=\"stroke:#000000;stroke-width:0.8;\" x=\"26.925\" xlink:href=\"#m1764533221\" y=\"171.286358\"/>\r\n      </g>\r\n     </g>\r\n     <g id=\"text_8\">\r\n      <!-- 5 -->\r\n      <defs>\r\n       <path d=\"M 10.796875 72.90625 \r\nL 49.515625 72.90625 \r\nL 49.515625 64.59375 \r\nL 19.828125 64.59375 \r\nL 19.828125 46.734375 \r\nQ 21.96875 47.46875 24.109375 47.828125 \r\nQ 26.265625 48.1875 28.421875 48.1875 \r\nQ 40.625 48.1875 47.75 41.5 \r\nQ 54.890625 34.8125 54.890625 23.390625 \r\nQ 54.890625 11.625 47.5625 5.09375 \r\nQ 40.234375 -1.421875 26.90625 -1.421875 \r\nQ 22.3125 -1.421875 17.546875 -0.640625 \r\nQ 12.796875 0.140625 7.71875 1.703125 \r\nL 7.71875 11.625 \r\nQ 12.109375 9.234375 16.796875 8.0625 \r\nQ 21.484375 6.890625 26.703125 6.890625 \r\nQ 35.15625 6.890625 40.078125 11.328125 \r\nQ 45.015625 15.765625 45.015625 23.390625 \r\nQ 45.015625 31 40.078125 35.4375 \r\nQ 35.15625 39.890625 26.703125 39.890625 \r\nQ 22.75 39.890625 18.8125 39.015625 \r\nQ 14.890625 38.140625 10.796875 36.28125 \r\nz\r\n\" id=\"DejaVuSans-53\"/>\r\n      </defs>\r\n      <g transform=\"translate(13.5625 175.085577)scale(0.1 -0.1)\">\r\n       <use xlink:href=\"#DejaVuSans-53\"/>\r\n      </g>\r\n     </g>\r\n    </g>\r\n    <g id=\"ytick_3\">\r\n     <g id=\"line2d_9\">\r\n      <g>\r\n       <use style=\"stroke:#000000;stroke-width:0.8;\" x=\"26.925\" xlink:href=\"#m1764533221\" y=\"127.595564\"/>\r\n      </g>\r\n     </g>\r\n     <g id=\"text_9\">\r\n      <!-- 10 -->\r\n      <g transform=\"translate(7.2 131.394783)scale(0.1 -0.1)\">\r\n       <use xlink:href=\"#DejaVuSans-49\"/>\r\n       <use x=\"63.623047\" xlink:href=\"#DejaVuSans-48\"/>\r\n      </g>\r\n     </g>\r\n    </g>\r\n    <g id=\"ytick_4\">\r\n     <g id=\"line2d_10\">\r\n      <g>\r\n       <use style=\"stroke:#000000;stroke-width:0.8;\" x=\"26.925\" xlink:href=\"#m1764533221\" y=\"83.90477\"/>\r\n      </g>\r\n     </g>\r\n     <g id=\"text_10\">\r\n      <!-- 15 -->\r\n      <g transform=\"translate(7.2 87.703989)scale(0.1 -0.1)\">\r\n       <use xlink:href=\"#DejaVuSans-49\"/>\r\n       <use x=\"63.623047\" xlink:href=\"#DejaVuSans-53\"/>\r\n      </g>\r\n     </g>\r\n    </g>\r\n    <g id=\"ytick_5\">\r\n     <g id=\"line2d_11\">\r\n      <g>\r\n       <use style=\"stroke:#000000;stroke-width:0.8;\" x=\"26.925\" xlink:href=\"#m1764533221\" y=\"40.213977\"/>\r\n      </g>\r\n     </g>\r\n     <g id=\"text_11\">\r\n      <!-- 20 -->\r\n      <g transform=\"translate(7.2 44.013195)scale(0.1 -0.1)\">\r\n       <use xlink:href=\"#DejaVuSans-50\"/>\r\n       <use x=\"63.623047\" xlink:href=\"#DejaVuSans-48\"/>\r\n      </g>\r\n     </g>\r\n    </g>\r\n   </g>\r\n   <g id=\"line2d_12\">\r\n    <path clip-path=\"url(#p1499fc6f02)\" d=\"M 98.822188 149.822304 \r\nL 262.188905 85.110202 \r\nL 92.36451 152.38029 \r\nL 343.729461 52.810717 \r\nL 318.40195 62.843338 \r\nL 296.115048 71.671528 \r\nL 44.920539 171.173587 \r\nL 177.496743 118.658086 \r\nL 158.442693 126.205693 \r\nL 225.927802 99.473789 \r\nL 261.96832 85.197579 \r\nL 336.234499 55.779588 \r\nL 69.911314 161.274351 \r\nL 260.207032 85.895252 \r\nL 249.749879 90.037494 \r\nL 232.600674 96.830561 \r\nL 76.875499 158.515729 \r\nL 334.011931 56.659982 \r\nL 84.113318 155.648716 \r\nL 81.570971 156.655779 \r\n\" style=\"fill:none;stroke:#ff0000;stroke-linecap:square;stroke-width:1.5;\"/>\r\n   </g>\r\n   <g id=\"patch_3\">\r\n    <path d=\"M 26.925 224.64 \r\nL 26.925 7.2 \r\n\" style=\"fill:none;stroke:#000000;stroke-linecap:square;stroke-linejoin:miter;stroke-width:0.8;\"/>\r\n   </g>\r\n   <g id=\"patch_4\">\r\n    <path d=\"M 361.725 224.64 \r\nL 361.725 7.2 \r\n\" style=\"fill:none;stroke:#000000;stroke-linecap:square;stroke-linejoin:miter;stroke-width:0.8;\"/>\r\n   </g>\r\n   <g id=\"patch_5\">\r\n    <path d=\"M 26.925 224.64 \r\nL 361.725 224.64 \r\n\" style=\"fill:none;stroke:#000000;stroke-linecap:square;stroke-linejoin:miter;stroke-width:0.8;\"/>\r\n   </g>\r\n   <g id=\"patch_6\">\r\n    <path d=\"M 26.925 7.2 \r\nL 361.725 7.2 \r\n\" style=\"fill:none;stroke:#000000;stroke-linecap:square;stroke-linejoin:miter;stroke-width:0.8;\"/>\r\n   </g>\r\n  </g>\r\n </g>\r\n <defs>\r\n  <clipPath id=\"p1499fc6f02\">\r\n   <rect height=\"217.44\" width=\"334.8\" x=\"26.925\" y=\"7.2\"/>\r\n  </clipPath>\r\n </defs>\r\n</svg>\r\n",
      "text/plain": "<Figure size 432x288 with 1 Axes>"
     },
     "metadata": {
      "needs_background": "light"
     },
     "output_type": "display_data"
    }
   ],
   "source": [
    "plt.scatter(X, y)\n",
    "plt.plot(X, f(X), color='red')"
   ]
  },
  {
   "cell_type": "code",
   "execution_count": 23,
   "metadata": {},
   "outputs": [
    {
     "data": {
      "text/plain": [
       "array([0.01378144, 0.88816028, 0.68308495, 0.94581262, 0.77201367,\n",
       "       0.65684139, 0.85956008, 0.30426879, 0.44839092, 0.44438435,\n",
       "       0.98877933, 0.14798468, 0.45341699, 0.33022263, 0.17776163,\n",
       "       0.64017952, 0.94009702, 0.42669823, 0.25859312, 0.68297636])"
      ]
     },
     "execution_count": 23,
     "metadata": {},
     "output_type": "execute_result"
    }
   ],
   "source": [
    "X"
   ]
  },
  {
   "cell_type": "code",
   "execution_count": 33,
   "metadata": {},
   "outputs": [
    {
     "data": {
      "text/plain": [
       "array([17.27264263])"
      ]
     },
     "execution_count": 33,
     "metadata": {},
     "output_type": "execute_result"
    }
   ],
   "source": [
    "reg.predict([[0.9]])"
   ]
  },
  {
   "cell_type": "markdown",
   "metadata": {},
   "source": [
    "# How to implement a KNN model"
   ]
  },
  {
   "cell_type": "code",
   "execution_count": 43,
   "metadata": {},
   "outputs": [],
   "source": [
    "def model(X, y):\n",
    "    # 直接存储 X,y 即可\n",
    "    return [(Xi, yi) for Xi, yi in zip(X, y)]"
   ]
  },
  {
   "cell_type": "code",
   "execution_count": 44,
   "metadata": {},
   "outputs": [],
   "source": [
    "from scipy.spatial.distance import cosine"
   ]
  },
  {
   "cell_type": "markdown",
   "execution_count": null,
   "metadata": {},
   "outputs": [],
   "source": [
    "$$ cosine = 1 - \\frac{u \\cdot v} {||u||_2 ||v||_2} $$"
   ]
  },
  {
   "cell_type": "code",
   "execution_count": 50,
   "metadata": {},
   "outputs": [],
   "source": [
    "def distance(x1, x2):\n",
    "    return cosine(x1, x2)"
   ]
  },
  {
   "cell_type": "code",
   "execution_count": 46,
   "metadata": {},
   "outputs": [],
   "source": [
    "def predict(x, k=5):\n",
    "    # 在predicate的时候，需要做大量的计算\n",
    "    most_similars = sorted(model(X, y), key=lambda xi: distance(xi[0], x))[:k]\n",
    "    \n",
    "    y_hats = [_y for x, _y in most_similars]\n",
    "    \n",
    "    print(most_similars)\n",
    "    \n",
    "    return np.mean(y_hats)\n",
    "    # -> regression: numerical -> most_similars (y)\n",
    "    # -> classification: categorical -> most_similar (y)\n",
    "    \n",
    "    # 已经获得了最相似的数据集\n",
    "    # 然后呢，Counter() -> most_common() -> 就可以获得出现最多的这个y了 "
   ]
  },
  {
   "cell_type": "code",
   "execution_count": 47,
   "metadata": {},
   "outputs": [
    {
     "data": {
      "text/plain": "(array([0.17681785, 0.70388711, 0.15598348, 0.96696102, 0.88524699,\n        0.81334287, 0.00291522, 0.4306452 , 0.36917121, 0.58689809,\n        0.70317544, 0.94278006, 0.08354284, 0.69749301, 0.66375514,\n        0.60842675, 0.10601136, 0.9356094 , 0.1293627 , 0.12116034]),\n array([ 7.36935925, 16.4320873 ,  7.09017866, 14.95727764, 14.86230967,\n        19.8987944 ,  0.039064  ,  8.77064564, 11.94689416,  8.8644344 ,\n        16.42255091, 22.63325277, 11.11947407,  9.34640627, 16.89431891,\n        14.15291839,  4.42055222, 18.53716592, 11.73346017,  5.62354854]))"
     },
     "execution_count": 47,
     "metadata": {},
     "output_type": "execute_result"
    }
   ],
   "source": [
    "X, y"
   ]
  },
  {
   "cell_type": "code",
   "execution_count": 52,
   "metadata": {},
   "outputs": [],
   "source": [
    "myself_knn = model(X, y)"
   ]
  },
  {
   "cell_type": "code",
   "execution_count": 51,
   "metadata": {},
   "outputs": [
    {
     "name": "stdout",
     "output_type": "stream",
     "text": "[(0.17681785459171706, 7.3693592515290085), (0.7038871120348703, 16.432087301267263), (0.15598348196902256, 7.090178658384902), (0.9669610176107394, 14.957277635983907), (0.8852469905825505, 14.862309673806177)]\n"
    },
    {
     "data": {
      "text/plain": "12.142242504194252"
     },
     "execution_count": 51,
     "metadata": {},
     "output_type": "execute_result"
    }
   ],
   "source": [
    "predict(0.9)"
   ]
  },
  {
   "cell_type": "markdown",
   "metadata": {},
   "source": [
    "## NOT简简单单的学一个算法，看到背后的思维方式：\n",
    "\n",
    "> 贝叶斯，线性回归，决策树，KNN\n",
    "\n",
    "## 新的问题，是不存在现成的解决方案的，但是呢，我们可以依据前人比较成熟的思维方法，我们发明新的方法。"
   ]
  },
  {
   "cell_type": "markdown",
   "metadata": {},
   "source": [
    "## How to implement a Decision Tree"
   ]
  },
  {
   "cell_type": "code",
   "execution_count": 53,
   "metadata": {},
   "outputs": [],
   "source": [
    "from collections import Counter"
   ]
  },
  {
   "cell_type": "markdown",
   "metadata": {},
   "source": [
    "## 1. 信息熵"
   ]
  },
  {
   "cell_type": "markdown",
   "metadata": {},
   "source": [
    "$$ Entropy = -\\sum_i^n Pr(x_i) log(Pr(x_i)) $$"
   ]
  },
  {
   "cell_type": "markdown",
   "metadata": {},
   "source": [
    "## 2. Gini 纯度\n",
    "\n",
    "$$ Gini = 1 - \\sum_{i=1}^J P_i^2 $$"
   ]
  },
  {
   "cell_type": "markdown",
   "metadata": {},
   "source": [
    "[1, 2, 3, 4, 4, 5, 5, 5, 6]\n",
    "[1, 1, 1, 1, 1, 2, 2, 2, 2]\n",
    "[2, 2, 2, 2, 2, 2, 2, 2, 3]\n",
    "[4, 4, 4, 4, 4, 4, 4, 4, 4]"
   ]
  },
  {
   "cell_type": "code",
   "execution_count": 59,
   "metadata": {},
   "outputs": [],
   "source": [
    "from icecream import ic"
   ]
  },
  {
   "cell_type": "code",
   "execution_count": 61,
   "metadata": {},
   "outputs": [],
   "source": [
    "def entropy(elements):\n",
    "    '''群体的混乱程度'''\n",
    "    counter = Counter(elements)\n",
    "    probs = [counter[c] / len(elements) for c in set(elements)]\n",
    "    ic(probs)\n",
    "    return - sum(p * np.log(p) for p in probs)"
   ]
  },
  {
   "cell_type": "code",
   "execution_count": 62,
   "metadata": {},
   "outputs": [
    {
     "name": "stderr",
     "output_type": "stream",
     "text": "ic|probs:[1.0]\n"
    },
    {
     "data": {
      "text/plain": "-0.0"
     },
     "execution_count": 62,
     "metadata": {},
     "output_type": "execute_result"
    }
   ],
   "source": [
    "entropy([1, 1, 1, 1])"
   ]
  },
  {
   "cell_type": "code",
   "execution_count": 63,
   "metadata": {},
   "outputs": [
    {
     "name": "stderr",
     "output_type": "stream",
     "text": "ic|probs:[0.25,0.75]\n"
    },
    {
     "data": {
      "text/plain": "0.5623351446188083"
     },
     "execution_count": 63,
     "metadata": {},
     "output_type": "execute_result"
    }
   ],
   "source": [
    "entropy([1, 1, 1, 0])"
   ]
  },
  {
   "cell_type": "code",
   "execution_count": 64,
   "metadata": {},
   "outputs": [
    {
     "name": "stderr",
     "output_type": "stream",
     "text": "ic|probs:[0.25,0.75]\n"
    },
    {
     "data": {
      "text/plain": "0.5623351446188083"
     },
     "execution_count": 64,
     "metadata": {},
     "output_type": "execute_result"
    }
   ],
   "source": [
    "entropy([2, 3, 3, 3])"
   ]
  },
  {
   "cell_type": "code",
   "execution_count": 65,
   "metadata": {},
   "outputs": [
    {
     "name": "stderr",
     "output_type": "stream",
     "text": "ic|probs:[0.25,0.5,0.25]\n"
    },
    {
     "data": {
      "text/plain": "1.0397207708399179"
     },
     "execution_count": 65,
     "metadata": {},
     "output_type": "execute_result"
    }
   ],
   "source": [
    "entropy([2, 3, 3, 4])"
   ]
  },
  {
   "cell_type": "code",
   "execution_count": 66,
   "metadata": {},
   "outputs": [
    {
     "name": "stderr",
     "output_type": "stream",
     "text": "ic|probs:[0.25,0.5,0.25]\n"
    },
    {
     "data": {
      "text/plain": "1.0397207708399179"
     },
     "execution_count": 66,
     "metadata": {},
     "output_type": "execute_result"
    }
   ],
   "source": [
    "entropy([1, 2, 2, 3])"
   ]
  },
  {
   "cell_type": "code",
   "execution_count": 68,
   "metadata": {},
   "outputs": [
    {
     "name": "stderr",
     "output_type": "stream",
     "text": "ic|probs:[0.25,0.25,0.25,0.25]\nic|Error:Failedtoaccesstheunderlyingsourcecodeforanalysis.Wasic()invokedinaninterpreter(e.g.python-i),afrozenapplication(e.g.packagedwithPyInstaller),ordidtheunderlyingsourcecodechangeduringexecution?\n"
    },
    {
     "data": {
      "text/plain": "1.3862943611198906"
     },
     "execution_count": 68,
     "metadata": {},
     "output_type": "execute_result"
    }
   ],
   "source": [
    "ic(entropy([1, 2, 3, 4]))"
   ]
  },
  {
   "cell_type": "markdown",
   "metadata": {},
   "source": [
    "## 决策树怎么来决定，哪一个特征来进行分割呢？ "
   ]
  },
  {
   "cell_type": "code",
   "execution_count": 71,
   "metadata": {},
   "outputs": [],
   "source": [
    "mock_data = {\n",
    "    'gender':['F', 'F', 'F', 'F', 'M', 'M', 'M'],\n",
    "    'income': ['+10', '-10', '+10', '+10', '+10', '+10', '-10'],\n",
    "    'family_number': [1, 1, 2, 1, 1, 1, 2],\n",
    "   # 'pet': [1, 1, 1, 0, 0, 0, 1],\n",
    "    'bought': [1, 1, 1, 0, 0, 0, 1],\n",
    "}"
   ]
  },
  {
   "cell_type": "code",
   "execution_count": 72,
   "metadata": {},
   "outputs": [],
   "source": [
    "import pandas as pd"
   ]
  },
  {
   "cell_type": "code",
   "execution_count": 73,
   "metadata": {},
   "outputs": [],
   "source": [
    "dataset = pd.DataFrame.from_dict(mock_data)"
   ]
  },
  {
   "cell_type": "code",
   "execution_count": 56,
   "metadata": {},
   "outputs": [
    {
     "data": {
      "text/html": [
       "<div>\n",
       "<style scoped>\n",
       "    .dataframe tbody tr th:only-of-type {\n",
       "        vertical-align: middle;\n",
       "    }\n",
       "\n",
       "    .dataframe tbody tr th {\n",
       "        vertical-align: top;\n",
       "    }\n",
       "\n",
       "    .dataframe thead th {\n",
       "        text-align: right;\n",
       "    }\n",
       "</style>\n",
       "<table border=\"1\" class=\"dataframe\">\n",
       "  <thead>\n",
       "    <tr style=\"text-align: right;\">\n",
       "      <th></th>\n",
       "      <th>gender</th>\n",
       "      <th>income</th>\n",
       "      <th>family_number</th>\n",
       "      <th>bought</th>\n",
       "    </tr>\n",
       "  </thead>\n",
       "  <tbody>\n",
       "    <tr>\n",
       "      <th>0</th>\n",
       "      <td>F</td>\n",
       "      <td>+10</td>\n",
       "      <td>1</td>\n",
       "      <td>1</td>\n",
       "    </tr>\n",
       "    <tr>\n",
       "      <th>1</th>\n",
       "      <td>F</td>\n",
       "      <td>-10</td>\n",
       "      <td>1</td>\n",
       "      <td>1</td>\n",
       "    </tr>\n",
       "    <tr>\n",
       "      <th>2</th>\n",
       "      <td>F</td>\n",
       "      <td>+10</td>\n",
       "      <td>2</td>\n",
       "      <td>1</td>\n",
       "    </tr>\n",
       "    <tr>\n",
       "      <th>3</th>\n",
       "      <td>F</td>\n",
       "      <td>+10</td>\n",
       "      <td>1</td>\n",
       "      <td>0</td>\n",
       "    </tr>\n",
       "    <tr>\n",
       "      <th>4</th>\n",
       "      <td>M</td>\n",
       "      <td>+10</td>\n",
       "      <td>1</td>\n",
       "      <td>0</td>\n",
       "    </tr>\n",
       "    <tr>\n",
       "      <th>5</th>\n",
       "      <td>M</td>\n",
       "      <td>+10</td>\n",
       "      <td>1</td>\n",
       "      <td>0</td>\n",
       "    </tr>\n",
       "    <tr>\n",
       "      <th>6</th>\n",
       "      <td>M</td>\n",
       "      <td>-10</td>\n",
       "      <td>2</td>\n",
       "      <td>1</td>\n",
       "    </tr>\n",
       "  </tbody>\n",
       "</table>\n",
       "</div>"
      ],
      "text/plain": [
       "  gender income  family_number  bought\n",
       "0      F    +10              1       1\n",
       "1      F    -10              1       1\n",
       "2      F    +10              2       1\n",
       "3      F    +10              1       0\n",
       "4      M    +10              1       0\n",
       "5      M    +10              1       0\n",
       "6      M    -10              2       1"
      ]
     },
     "execution_count": 56,
     "metadata": {},
     "output_type": "execute_result"
    }
   ],
   "source": [
    "dataset"
   ]
  },
  {
   "cell_type": "markdown",
   "metadata": {},
   "source": [
    "如果我们来了一个新的case\n",
    "::: [F, -10, 2, 1] -> ?\n",
    "\n",
    "::: [F, +10, 2, 0] -> ?"
   ]
  },
  {
   "cell_type": "code",
   "execution_count": 74,
   "metadata": {},
   "outputs": [
    {
     "name": "stderr",
     "output_type": "stream",
     "text": "ic|probs:[0.25,0.75]\nic|probs:[0.6666666666666666,0.3333333333333333]\nic|probs:[0.6,0.4]\nic|probs:[1.0]\nic|probs:[0.6,0.4]\nic|probs:[1.0]\nic|probs:[1.0]\nic|probs:[1.0]\n1.198849312913621\n0.6730116670092565\n0.6730116670092565\n"
    },
    {
     "data": {
      "text/plain": "-0.0"
     },
     "execution_count": 74,
     "metadata": {},
     "output_type": "execute_result"
    }
   ],
   "source": [
    "# split_by_gender: \n",
    "print(entropy([1, 1, 1, 0]) + entropy([0, 0, 1]))\n",
    "\n",
    "# split_by_income:\n",
    "print(entropy([1, 1, 0, 0, 0]) + entropy([1, 1]))\n",
    "\n",
    "# split_by_family_number\n",
    "print(entropy([1, 1, 0, 0, 0]) + entropy([1, 1]))\n",
    "\n",
    "# 我们最希望找到一种feature， split_by_some_feature: \n",
    "# split_by_pet\n",
    "entropy([1, 1, 1, 1]) + entropy([0, 0, 0])"
   ]
  },
  {
   "cell_type": "markdown",
   "metadata": {},
   "source": [
    "## 决策树在选择决策过程，决策顺序的时候，其实是按照，根据这个特征，进行分割之后，数据的熵最少原则进行的。"
   ]
  },
  {
   "cell_type": "code",
   "execution_count": 77,
   "metadata": {},
   "outputs": [
    {
     "data": {
      "text/plain": "{1, 2}"
     },
     "execution_count": 77,
     "metadata": {},
     "output_type": "execute_result"
    }
   ],
   "source": [
    "set(mock_data['family_number'])"
   ]
  },
  {
   "cell_type": "code",
   "execution_count": 78,
   "metadata": {},
   "outputs": [
    {
     "data": {
      "text/plain": "{'F', 'M'}"
     },
     "execution_count": 78,
     "metadata": {},
     "output_type": "execute_result"
    }
   ],
   "source": [
    "set(mock_data['gender'])"
   ]
  },
  {
   "cell_type": "code",
   "execution_count": 80,
   "metadata": {},
   "outputs": [],
   "source": [
    "sub_split_1 = dataset[dataset['family_number'] == 1]['bought'].tolist()"
   ]
  },
  {
   "cell_type": "code",
   "execution_count": 81,
   "metadata": {},
   "outputs": [],
   "source": [
    "splited_data = dataset[dataset['family_number'] == 1]"
   ]
  },
  {
   "cell_type": "code",
   "execution_count": 82,
   "metadata": {},
   "outputs": [
    {
     "data": {
      "text/html": "<div>\n<style scoped>\n    .dataframe tbody tr th:only-of-type {\n        vertical-align: middle;\n    }\n\n    .dataframe tbody tr th {\n        vertical-align: top;\n    }\n\n    .dataframe thead th {\n        text-align: right;\n    }\n</style>\n<table border=\"1\" class=\"dataframe\">\n  <thead>\n    <tr style=\"text-align: right;\">\n      <th></th>\n      <th>gender</th>\n      <th>income</th>\n      <th>family_number</th>\n      <th>bought</th>\n    </tr>\n  </thead>\n  <tbody>\n    <tr>\n      <th>0</th>\n      <td>F</td>\n      <td>+10</td>\n      <td>1</td>\n      <td>1</td>\n    </tr>\n    <tr>\n      <th>1</th>\n      <td>F</td>\n      <td>-10</td>\n      <td>1</td>\n      <td>1</td>\n    </tr>\n    <tr>\n      <th>3</th>\n      <td>F</td>\n      <td>+10</td>\n      <td>1</td>\n      <td>0</td>\n    </tr>\n    <tr>\n      <th>4</th>\n      <td>M</td>\n      <td>+10</td>\n      <td>1</td>\n      <td>0</td>\n    </tr>\n    <tr>\n      <th>5</th>\n      <td>M</td>\n      <td>+10</td>\n      <td>1</td>\n      <td>0</td>\n    </tr>\n  </tbody>\n</table>\n</div>",
      "text/plain": "  gender income  family_number  bought\n0      F    +10              1       1\n1      F    -10              1       1\n3      F    +10              1       0\n4      M    +10              1       0\n5      M    +10              1       0"
     },
     "execution_count": 82,
     "metadata": {},
     "output_type": "execute_result"
    }
   ],
   "source": [
    "splited_data"
   ]
  },
  {
   "cell_type": "code",
   "execution_count": 83,
   "metadata": {},
   "outputs": [
    {
     "data": {
      "text/html": "<div>\n<style scoped>\n    .dataframe tbody tr th:only-of-type {\n        vertical-align: middle;\n    }\n\n    .dataframe tbody tr th {\n        vertical-align: top;\n    }\n\n    .dataframe thead th {\n        text-align: right;\n    }\n</style>\n<table border=\"1\" class=\"dataframe\">\n  <thead>\n    <tr style=\"text-align: right;\">\n      <th></th>\n      <th>gender</th>\n      <th>income</th>\n      <th>family_number</th>\n      <th>bought</th>\n    </tr>\n  </thead>\n  <tbody>\n    <tr>\n      <th>0</th>\n      <td>F</td>\n      <td>+10</td>\n      <td>1</td>\n      <td>1</td>\n    </tr>\n    <tr>\n      <th>3</th>\n      <td>F</td>\n      <td>+10</td>\n      <td>1</td>\n      <td>0</td>\n    </tr>\n    <tr>\n      <th>4</th>\n      <td>M</td>\n      <td>+10</td>\n      <td>1</td>\n      <td>0</td>\n    </tr>\n    <tr>\n      <th>5</th>\n      <td>M</td>\n      <td>+10</td>\n      <td>1</td>\n      <td>0</td>\n    </tr>\n  </tbody>\n</table>\n</div>",
      "text/plain": "  gender income  family_number  bought\n0      F    +10              1       1\n3      F    +10              1       0\n4      M    +10              1       0\n5      M    +10              1       0"
     },
     "execution_count": 83,
     "metadata": {},
     "output_type": "execute_result"
    }
   ],
   "source": [
    "splited_data[splited_data['income'] == '+10']"
   ]
  },
  {
   "cell_type": "code",
   "execution_count": 74,
   "metadata": {},
   "outputs": [
    {
     "data": {
      "text/html": [
       "<div>\n",
       "<style scoped>\n",
       "    .dataframe tbody tr th:only-of-type {\n",
       "        vertical-align: middle;\n",
       "    }\n",
       "\n",
       "    .dataframe tbody tr th {\n",
       "        vertical-align: top;\n",
       "    }\n",
       "\n",
       "    .dataframe thead th {\n",
       "        text-align: right;\n",
       "    }\n",
       "</style>\n",
       "<table border=\"1\" class=\"dataframe\">\n",
       "  <thead>\n",
       "    <tr style=\"text-align: right;\">\n",
       "      <th></th>\n",
       "      <th>gender</th>\n",
       "      <th>income</th>\n",
       "      <th>family_number</th>\n",
       "      <th>bought</th>\n",
       "    </tr>\n",
       "  </thead>\n",
       "  <tbody>\n",
       "    <tr>\n",
       "      <th>1</th>\n",
       "      <td>F</td>\n",
       "      <td>-10</td>\n",
       "      <td>1</td>\n",
       "      <td>1</td>\n",
       "    </tr>\n",
       "  </tbody>\n",
       "</table>\n",
       "</div>"
      ],
      "text/plain": [
       "  gender income  family_number  bought\n",
       "1      F    -10              1       1"
      ]
     },
     "execution_count": 74,
     "metadata": {},
     "output_type": "execute_result"
    }
   ],
   "source": [
    "splited_data[splited_data['income'] == '-10']"
   ]
  },
  {
   "cell_type": "markdown",
   "metadata": {},
   "source": [
    "## ==> 根据信息熵，我们得到了一个决策过程：\n",
    "\n",
    "```\n",
    "第一步： 我们观察他的家庭成员：\n",
    "        如果他的家庭成员是2人，那么就会购买，如果不是2人，我们继续决策，进入下一步\n",
    "第二部： 我们观察他的收入情况：\n",
    "        如果他的收入是'+10'， 那么他有 3/4 的概率会购买，如果是 '-10', 那么，他肯定不买\n",
    "```"
   ]
  },
  {
   "cell_type": "code",
   "execution_count": 84,
   "metadata": {},
   "outputs": [
    {
     "name": "stderr",
     "output_type": "stream",
     "text": "ic|probs:[0.3333333333333333,0.6666666666666666]\nic|probs:[1.0]\n"
    },
    {
     "data": {
      "text/plain": "0.6365141682948128"
     },
     "execution_count": 84,
     "metadata": {},
     "output_type": "execute_result"
    }
   ],
   "source": [
    "# split by gender\n",
    "entropy([1, 1, 0]) + entropy([0, 0])"
   ]
  },
  {
   "cell_type": "code",
   "execution_count": 85,
   "metadata": {},
   "outputs": [
    {
     "name": "stderr",
     "output_type": "stream",
     "text": "ic|probs:[0.75,0.25]\nic|probs:[1.0]\n"
    },
    {
     "data": {
      "text/plain": "0.5623351446188083"
     },
     "execution_count": 85,
     "metadata": {},
     "output_type": "execute_result"
    }
   ],
   "source": [
    "# split by income\n",
    "entropy([1, 0, 0, 0]) + entropy([1])"
   ]
  },
  {
   "cell_type": "code",
   "execution_count": 86,
   "metadata": {},
   "outputs": [
    {
     "data": {
      "text/plain": "[1, 1, 0, 0, 0]"
     },
     "execution_count": 86,
     "metadata": {},
     "output_type": "execute_result"
    }
   ],
   "source": [
    "sub_split_1"
   ]
  },
  {
   "cell_type": "code",
   "execution_count": 87,
   "metadata": {},
   "outputs": [],
   "source": [
    "sub_split_2 = dataset[dataset['family_number'] != 1]['bought'].tolist()"
   ]
  },
  {
   "cell_type": "code",
   "execution_count": 88,
   "metadata": {},
   "outputs": [
    {
     "name": "stderr",
     "output_type": "stream",
     "text": "ic|probs:[0.6,0.4]\nic|probs:[1.0]\n"
    },
    {
     "data": {
      "text/plain": "0.6730116670092565"
     },
     "execution_count": 88,
     "metadata": {},
     "output_type": "execute_result"
    }
   ],
   "source": [
    "entropy(sub_split_1) + entropy(sub_split_2)"
   ]
  },
  {
   "cell_type": "code",
   "execution_count": 89,
   "metadata": {},
   "outputs": [
    {
     "data": {
      "text/plain": "[1, 1]"
     },
     "execution_count": 89,
     "metadata": {},
     "output_type": "execute_result"
    }
   ],
   "source": [
    "sub_split_2"
   ]
  },
  {
   "cell_type": "code",
   "execution_count": 90,
   "metadata": {},
   "outputs": [
    {
     "data": {
      "text/plain": "[1, 1, 0, 0, 0]"
     },
     "execution_count": 90,
     "metadata": {},
     "output_type": "execute_result"
    }
   ],
   "source": [
    "sub_split_1"
   ]
  },
  {
   "cell_type": "code",
   "execution_count": 91,
   "metadata": {},
   "outputs": [],
   "source": [
    "_sub_split_2 = dataset[dataset['gender'] != 'M']['bought'].tolist()"
   ]
  },
  {
   "cell_type": "code",
   "execution_count": 92,
   "metadata": {},
   "outputs": [],
   "source": [
    "_sub_split_1 = dataset[dataset['gender'] != 'F']['bought'].tolist()"
   ]
  },
  {
   "cell_type": "code",
   "execution_count": 93,
   "metadata": {},
   "outputs": [
    {
     "data": {
      "text/plain": "[0, 0, 1]"
     },
     "execution_count": 93,
     "metadata": {},
     "output_type": "execute_result"
    }
   ],
   "source": [
    "_sub_split_1"
   ]
  },
  {
   "cell_type": "code",
   "execution_count": 94,
   "metadata": {},
   "outputs": [
    {
     "data": {
      "text/plain": "[1, 1, 1, 0]"
     },
     "execution_count": 94,
     "metadata": {},
     "output_type": "execute_result"
    }
   ],
   "source": [
    "_sub_split_2"
   ]
  },
  {
   "cell_type": "code",
   "execution_count": 95,
   "metadata": {},
   "outputs": [
    {
     "name": "stderr",
     "output_type": "stream",
     "text": "ic|probs:[0.6666666666666666,0.3333333333333333]\nic|probs:[0.25,0.75]\n"
    },
    {
     "data": {
      "text/plain": "1.198849312913621"
     },
     "execution_count": 95,
     "metadata": {},
     "output_type": "execute_result"
    }
   ],
   "source": [
    "entropy(_sub_split_1) + entropy(_sub_split_2)"
   ]
  },
  {
   "cell_type": "code",
   "execution_count": 96,
   "metadata": {},
   "outputs": [
    {
     "name": "stderr",
     "output_type": "stream",
     "text": "ic|probs:[0.6,0.4]\nic|probs:[1.0]\n"
    },
    {
     "data": {
      "text/plain": "0.6730116670092565"
     },
     "execution_count": 96,
     "metadata": {},
     "output_type": "execute_result"
    }
   ],
   "source": [
    "entropy(sub_split_1) + entropy(sub_split_2)"
   ]
  },
  {
   "cell_type": "code",
   "execution_count": 98,
   "metadata": {},
   "outputs": [
    {
     "data": {
      "text/plain": "{'family_number', 'gender', 'income'}"
     },
     "execution_count": 98,
     "metadata": {},
     "output_type": "execute_result"
    }
   ],
   "source": [
    "set(dataset.columns.tolist()) - {'bought'}"
   ]
  },
  {
   "cell_type": "code",
   "execution_count": 99,
   "metadata": {},
   "outputs": [],
   "source": [
    "def find_the_optimal_spilter(training_data: pd.DataFrame, target: str) -> str:\n",
    "    x_fields = set(training_data.columns.tolist()) - {target}\n",
    "    \n",
    "    spliter = None\n",
    "    min_entropy = float('inf')\n",
    "    \n",
    "    for f in x_fields:\n",
    "        ic(f)\n",
    "        values = set(training_data[f])\n",
    "        ic(values)\n",
    "        for v in values:\n",
    "            sub_spliter_1 = training_data[training_data[f] == v][target].tolist()\n",
    "            ic(sub_split_1)\n",
    "            # split by the current feature and one value\n",
    "            \n",
    "            entropy_1 = entropy(sub_spliter_1)\n",
    "            ic(entropy_1)\n",
    "            \n",
    "            sub_spliter_2 = training_data[training_data[f] != v][target].tolist()\n",
    "            ic(sub_split_2)\n",
    "            \n",
    "            entropy_2 = entropy(sub_spliter_2)\n",
    "            ic(entropy_2)\n",
    "            \n",
    "            entropy_v = entropy_1 + entropy_2\n",
    "            ic(entropy_v)\n",
    "            \n",
    "            if entropy_v <= min_entropy:\n",
    "                min_entropy = entropy_v\n",
    "                spliter = (f, v)\n",
    "    \n",
    "    print('spliter is: {}'.format(spliter))\n",
    "    print('the min entropy is: {}'.format(min_entropy))\n",
    "    \n",
    "    return spliter"
   ]
  },
  {
   "cell_type": "code",
   "execution_count": 100,
   "metadata": {},
   "outputs": [
    {
     "name": "stderr",
     "output_type": "stream",
     "text": "ic|f:'family_number'\nic|values:{1,2}\nic|sub_split_1:[1,1,0,0,0]\nic|probs:[0.6,0.4]\nic|entropy_1:0.6730116670092565\nic|sub_split_2:[1,1]\nic|probs:[1.0]\nic|entropy_2:-0.0\nic|entropy_v:0.6730116670092565\nic|sub_split_1:[1,1,0,0,0]\nic|probs:[1.0]\nic|entropy_1:-0.0\nic|sub_split_2:[1,1]\nic|probs:[0.6,0.4]\nic|entropy_2:0.6730116670092565\nic|entropy_v:0.6730116670092565\nic|f:'income'\nic|values:{'-10','+10'}\nic|sub_split_1:[1,1,0,0,0]\nic|probs:[1.0]\nic|entropy_1:-0.0\nic|sub_split_2:[1,1]\nic|probs:[0.6,0.4]\nic|entropy_2:0.6730116670092565\nic|entropy_v:0.6730116670092565\nic|sub_split_1:[1,1,0,0,0]\nic|probs:[0.6,0.4]\nic|entropy_1:0.6730116670092565\nic|sub_split_2:[1,1]\nic|probs:[1.0]\nic|entropy_2:-0.0\nic|entropy_v:0.6730116670092565\nic|f:'gender'\nic|values:{'F','M'}\nic|sub_split_1:[1,1,0,0,0]\nic|probs:[0.25,0.75]\nic|entropy_1:0.5623351446188083\nic|sub_split_2:[1,1]\nic|probs:[0.6666666666666666,0.3333333333333333]\nic|entropy_2:0.6365141682948128\nic|entropy_v:1.198849312913621\nic|sub_split_1:[1,1,0,0,0]\nic|probs:[0.6666666666666666,0.3333333333333333]\nic|entropy_1:0.6365141682948128\nic|sub_split_2:[1,1]\nic|probs:[0.25,0.75]\nic|entropy_2:0.5623351446188083\nic|entropy_v:1.198849312913621\nspliter is: ('income', '+10')\nthe min entropy is: 0.6730116670092565\n"
    },
    {
     "data": {
      "text/plain": "('income', '+10')"
     },
     "execution_count": 100,
     "metadata": {},
     "output_type": "execute_result"
    }
   ],
   "source": [
    "find_the_optimal_spilter(training_data=dataset, target='bought')"
   ]
  },
  {
   "cell_type": "code",
   "execution_count": 71,
   "metadata": {},
   "outputs": [
    {
     "data": {
      "text/html": [
       "<div>\n",
       "<style scoped>\n",
       "    .dataframe tbody tr th:only-of-type {\n",
       "        vertical-align: middle;\n",
       "    }\n",
       "\n",
       "    .dataframe tbody tr th {\n",
       "        vertical-align: top;\n",
       "    }\n",
       "\n",
       "    .dataframe thead th {\n",
       "        text-align: right;\n",
       "    }\n",
       "</style>\n",
       "<table border=\"1\" class=\"dataframe\">\n",
       "  <thead>\n",
       "    <tr style=\"text-align: right;\">\n",
       "      <th></th>\n",
       "      <th>gender</th>\n",
       "      <th>income</th>\n",
       "      <th>family_number</th>\n",
       "      <th>bought</th>\n",
       "    </tr>\n",
       "  </thead>\n",
       "  <tbody>\n",
       "    <tr>\n",
       "      <th>2</th>\n",
       "      <td>F</td>\n",
       "      <td>+10</td>\n",
       "      <td>2</td>\n",
       "      <td>1</td>\n",
       "    </tr>\n",
       "    <tr>\n",
       "      <th>6</th>\n",
       "      <td>M</td>\n",
       "      <td>-10</td>\n",
       "      <td>2</td>\n",
       "      <td>1</td>\n",
       "    </tr>\n",
       "  </tbody>\n",
       "</table>\n",
       "</div>"
      ],
      "text/plain": [
       "  gender income  family_number  bought\n",
       "2      F    +10              2       1\n",
       "6      M    -10              2       1"
      ]
     },
     "execution_count": 71,
     "metadata": {},
     "output_type": "execute_result"
    }
   ],
   "source": [
    "dataset[dataset['family_number'] == 2]"
   ]
  },
  {
   "cell_type": "code",
   "execution_count": 72,
   "metadata": {},
   "outputs": [
    {
     "data": {
      "text/html": [
       "<div>\n",
       "<style scoped>\n",
       "    .dataframe tbody tr th:only-of-type {\n",
       "        vertical-align: middle;\n",
       "    }\n",
       "\n",
       "    .dataframe tbody tr th {\n",
       "        vertical-align: top;\n",
       "    }\n",
       "\n",
       "    .dataframe thead th {\n",
       "        text-align: right;\n",
       "    }\n",
       "</style>\n",
       "<table border=\"1\" class=\"dataframe\">\n",
       "  <thead>\n",
       "    <tr style=\"text-align: right;\">\n",
       "      <th></th>\n",
       "      <th>gender</th>\n",
       "      <th>income</th>\n",
       "      <th>family_number</th>\n",
       "      <th>bought</th>\n",
       "    </tr>\n",
       "  </thead>\n",
       "  <tbody>\n",
       "    <tr>\n",
       "      <th>0</th>\n",
       "      <td>F</td>\n",
       "      <td>+10</td>\n",
       "      <td>1</td>\n",
       "      <td>1</td>\n",
       "    </tr>\n",
       "    <tr>\n",
       "      <th>1</th>\n",
       "      <td>F</td>\n",
       "      <td>-10</td>\n",
       "      <td>1</td>\n",
       "      <td>1</td>\n",
       "    </tr>\n",
       "    <tr>\n",
       "      <th>3</th>\n",
       "      <td>F</td>\n",
       "      <td>+10</td>\n",
       "      <td>1</td>\n",
       "      <td>0</td>\n",
       "    </tr>\n",
       "    <tr>\n",
       "      <th>4</th>\n",
       "      <td>M</td>\n",
       "      <td>+10</td>\n",
       "      <td>1</td>\n",
       "      <td>0</td>\n",
       "    </tr>\n",
       "    <tr>\n",
       "      <th>5</th>\n",
       "      <td>M</td>\n",
       "      <td>+10</td>\n",
       "      <td>1</td>\n",
       "      <td>0</td>\n",
       "    </tr>\n",
       "  </tbody>\n",
       "</table>\n",
       "</div>"
      ],
      "text/plain": [
       "  gender income  family_number  bought\n",
       "0      F    +10              1       1\n",
       "1      F    -10              1       1\n",
       "3      F    +10              1       0\n",
       "4      M    +10              1       0\n",
       "5      M    +10              1       0"
      ]
     },
     "execution_count": 72,
     "metadata": {},
     "output_type": "execute_result"
    }
   ],
   "source": [
    "dataset[dataset['family_number'] == 1]"
   ]
  },
  {
   "cell_type": "code",
   "execution_count": 101,
   "metadata": {},
   "outputs": [
    {
     "name": "stderr",
     "output_type": "stream",
     "text": "ic|f:'family_number'\nic|values:{1}\nic|sub_split_1:[1,1,0,0,0]\nic|probs:[0.6,0.4]\nic|entropy_1:0.6730116670092565\nic|sub_split_2:[1,1]\nic|probs:[]\nic|entropy_2:0\nic|entropy_v:0.6730116670092565\nic|f:'income'\nic|values:{'-10','+10'}\nic|sub_split_1:[1,1,0,0,0]\nic|probs:[1.0]\nic|entropy_1:-0.0\nic|sub_split_2:[1,1]\nic|probs:[0.75,0.25]\nic|entropy_2:0.5623351446188083\nic|entropy_v:0.5623351446188083\nic|sub_split_1:[1,1,0,0,0]\nic|probs:[0.75,0.25]\nic|entropy_1:0.5623351446188083\nic|sub_split_2:[1,1]\nic|probs:[1.0]\nic|entropy_2:-0.0\nic|entropy_v:0.5623351446188083\nic|f:'gender'\nic|values:{'F','M'}\nic|sub_split_1:[1,1,0,0,0]\nic|probs:[0.3333333333333333,0.6666666666666666]\nic|entropy_1:0.6365141682948128\nic|sub_split_2:[1,1]\nic|probs:[1.0]\nic|entropy_2:-0.0\nic|entropy_v:0.6365141682948128\nic|sub_split_1:[1,1,0,0,0]\nic|probs:[1.0]\nic|entropy_1:-0.0\nic|sub_split_2:[1,1]\nic|probs:[0.3333333333333333,0.6666666666666666]\nic|entropy_2:0.6365141682948128\nic|entropy_v:0.6365141682948128\nspliter is: ('income', '+10')\nthe min entropy is: 0.5623351446188083\n"
    },
    {
     "data": {
      "text/plain": "('income', '+10')"
     },
     "execution_count": 101,
     "metadata": {},
     "output_type": "execute_result"
    }
   ],
   "source": [
    "find_the_optimal_spilter(dataset[dataset['family_number'] == 1], 'bought')"
   ]
  },
  {
   "cell_type": "code",
   "execution_count": 102,
   "metadata": {},
   "outputs": [],
   "source": [
    "fm_n_1 = dataset[dataset['family_number'] == 1]"
   ]
  },
  {
   "cell_type": "code",
   "execution_count": 103,
   "metadata": {},
   "outputs": [
    {
     "data": {
      "text/html": "<div>\n<style scoped>\n    .dataframe tbody tr th:only-of-type {\n        vertical-align: middle;\n    }\n\n    .dataframe tbody tr th {\n        vertical-align: top;\n    }\n\n    .dataframe thead th {\n        text-align: right;\n    }\n</style>\n<table border=\"1\" class=\"dataframe\">\n  <thead>\n    <tr style=\"text-align: right;\">\n      <th></th>\n      <th>gender</th>\n      <th>income</th>\n      <th>family_number</th>\n      <th>bought</th>\n    </tr>\n  </thead>\n  <tbody>\n    <tr>\n      <th>0</th>\n      <td>F</td>\n      <td>+10</td>\n      <td>1</td>\n      <td>1</td>\n    </tr>\n    <tr>\n      <th>3</th>\n      <td>F</td>\n      <td>+10</td>\n      <td>1</td>\n      <td>0</td>\n    </tr>\n    <tr>\n      <th>4</th>\n      <td>M</td>\n      <td>+10</td>\n      <td>1</td>\n      <td>0</td>\n    </tr>\n    <tr>\n      <th>5</th>\n      <td>M</td>\n      <td>+10</td>\n      <td>1</td>\n      <td>0</td>\n    </tr>\n  </tbody>\n</table>\n</div>",
      "text/plain": "  gender income  family_number  bought\n0      F    +10              1       1\n3      F    +10              1       0\n4      M    +10              1       0\n5      M    +10              1       0"
     },
     "execution_count": 103,
     "metadata": {},
     "output_type": "execute_result"
    }
   ],
   "source": [
    "fm_n_1[fm_n_1['income'] == '+10']"
   ]
  },
  {
   "cell_type": "code",
   "execution_count": 104,
   "metadata": {},
   "outputs": [
    {
     "name": "stderr",
     "output_type": "stream",
     "text": "ic|probs:[0.5,0.5]\nic|probs:[1.0]\nic|probs:[0.75,0.25]\n0.6931471805599453\n0.5623351446188083\n"
    }
   ],
   "source": [
    "# split_gender \n",
    "print(entropy([1, 0]) + entropy([0, 0]))\n",
    "\n",
    "# split_family_number\n",
    "print(entropy([1, 0, 0, 0]))"
   ]
  },
  {
   "cell_type": "code",
   "execution_count": 105,
   "metadata": {},
   "outputs": [
    {
     "data": {
      "text/html": "<div>\n<style scoped>\n    .dataframe tbody tr th:only-of-type {\n        vertical-align: middle;\n    }\n\n    .dataframe tbody tr th {\n        vertical-align: top;\n    }\n\n    .dataframe thead th {\n        text-align: right;\n    }\n</style>\n<table border=\"1\" class=\"dataframe\">\n  <thead>\n    <tr style=\"text-align: right;\">\n      <th></th>\n      <th>gender</th>\n      <th>income</th>\n      <th>family_number</th>\n      <th>bought</th>\n    </tr>\n  </thead>\n  <tbody>\n    <tr>\n      <th>1</th>\n      <td>F</td>\n      <td>-10</td>\n      <td>1</td>\n      <td>1</td>\n    </tr>\n  </tbody>\n</table>\n</div>",
      "text/plain": "  gender income  family_number  bought\n1      F    -10              1       1"
     },
     "execution_count": 105,
     "metadata": {},
     "output_type": "execute_result"
    }
   ],
   "source": [
    "fm_n_1[fm_n_1['income'] != '+10']"
   ]
  },
  {
   "cell_type": "code",
   "execution_count": 106,
   "metadata": {},
   "outputs": [
    {
     "data": {
      "text/html": "<div>\n<style scoped>\n    .dataframe tbody tr th:only-of-type {\n        vertical-align: middle;\n    }\n\n    .dataframe tbody tr th {\n        vertical-align: top;\n    }\n\n    .dataframe thead th {\n        text-align: right;\n    }\n</style>\n<table border=\"1\" class=\"dataframe\">\n  <thead>\n    <tr style=\"text-align: right;\">\n      <th></th>\n      <th>gender</th>\n      <th>income</th>\n      <th>family_number</th>\n      <th>bought</th>\n    </tr>\n  </thead>\n  <tbody>\n    <tr>\n      <th>0</th>\n      <td>F</td>\n      <td>+10</td>\n      <td>1</td>\n      <td>1</td>\n    </tr>\n    <tr>\n      <th>3</th>\n      <td>F</td>\n      <td>+10</td>\n      <td>1</td>\n      <td>0</td>\n    </tr>\n    <tr>\n      <th>4</th>\n      <td>M</td>\n      <td>+10</td>\n      <td>1</td>\n      <td>0</td>\n    </tr>\n    <tr>\n      <th>5</th>\n      <td>M</td>\n      <td>+10</td>\n      <td>1</td>\n      <td>0</td>\n    </tr>\n  </tbody>\n</table>\n</div>",
      "text/plain": "  gender income  family_number  bought\n0      F    +10              1       1\n3      F    +10              1       0\n4      M    +10              1       0\n5      M    +10              1       0"
     },
     "execution_count": 106,
     "metadata": {},
     "output_type": "execute_result"
    }
   ],
   "source": [
    "fm_n_1[fm_n_1['income'] == '+10']"
   ]
  },
  {
   "cell_type": "code",
   "execution_count": 107,
   "metadata": {},
   "outputs": [
    {
     "name": "stderr",
     "output_type": "stream",
     "text": "ic|f:'family_number'\nic|values:{1}\nic|sub_split_1:[1,1,0,0,0]\nic|probs:[0.75,0.25]\nic|entropy_1:0.5623351446188083\nic|sub_split_2:[1,1]\nic|probs:[]\nic|entropy_2:0\nic|entropy_v:0.5623351446188083\nic|f:'income'\nic|values:{'+10'}\nic|sub_split_1:[1,1,0,0,0]\nic|probs:[0.75,0.25]\nic|entropy_1:0.5623351446188083\nic|sub_split_2:[1,1]\nic|probs:[]\nic|entropy_2:0\nic|entropy_v:0.5623351446188083\nic|f:'gender'\nic|values:{'F','M'}\nic|sub_split_1:[1,1,0,0,0]\nic|probs:[0.5,0.5]\nic|entropy_1:0.6931471805599453\nic|sub_split_2:[1,1]\nic|probs:[1.0]\nic|entropy_2:-0.0\nic|entropy_v:0.6931471805599453\nic|sub_split_1:[1,1,0,0,0]\nic|probs:[1.0]\nic|entropy_1:-0.0\nic|sub_split_2:[1,1]\nic|probs:[0.5,0.5]\nic|entropy_2:0.6931471805599453\nic|entropy_v:0.6931471805599453\nspliter is: ('income', '+10')\nthe min entropy is: 0.5623351446188083\n"
    },
    {
     "data": {
      "text/plain": "('income', '+10')"
     },
     "execution_count": 107,
     "metadata": {},
     "output_type": "execute_result"
    }
   ],
   "source": [
    "find_the_optimal_spilter(fm_n_1[fm_n_1['income'] == '+10'], 'bought')"
   ]
  },
  {
   "cell_type": "markdown",
   "metadata": {},
   "source": [
    "## Evaluation Methods"
   ]
  },
  {
   "cell_type": "markdown",
   "metadata": {},
   "source": [
    "### 1. Accuracy\n",
    "### 2. Precision\n",
    "### 3. Recall\n",
    "### 3.5: F1 Score, F2 Score\n",
    "### 4.  AUC"
   ]
  },
  {
   "cell_type": "markdown",
   "metadata": {},
   "source": [
    "## 判断是不是垃圾邮件,是的话程序输出1， 不是输出0"
   ]
  },
  {
   "cell_type": "markdown",
   "metadata": {},
   "source": [
    "## 给了10个数据，这10个数据的真是情况是:\n",
    "## -> [1, 1, 1, 1, 0, 1, 0, 0, 1, 1] "
   ]
  },
  {
   "cell_type": "markdown",
   "metadata": {},
   "source": [
    "## F(x) \n",
    "\n",
    "## -> [1, 1, 1, 1, 1, 1, 1, 1, 0, 1]"
   ]
  },
  {
   "cell_type": "markdown",
   "metadata": {},
   "source": [
    "## Accuracy: 预测的标签中预测正确的值的个数 / 总的预测的个数"
   ]
  },
  {
   "cell_type": "markdown",
   "metadata": {},
   "source": [
    "--> 6 / 10"
   ]
  },
  {
   "cell_type": "markdown",
   "metadata": {},
   "source": [
    "## Precision:     所有说“是”的预测而且预测正确 / 所有说“是”的预测个数"
   ]
  },
  {
   "cell_type": "markdown",
   "metadata": {},
   "source": [
    "--> 6 / 9"
   ]
  },
  {
   "cell_type": "markdown",
   "metadata": {},
   "source": [
    "## Recall: 所有说“是”的预测而且预测正确 / 所有真正标签是“是”\n",
    "\n",
    "--> 6 / 7"
   ]
  },
  {
   "cell_type": "markdown",
   "metadata": {},
   "source": [
    "## Recall 和 Precision 其实往往是互相 tradeoff "
   ]
  },
  {
   "cell_type": "markdown",
   "metadata": {},
   "source": [
    "## F1 Score  = $ \\frac{2*precision*recall}{precision + recall} $"
   ]
  },
  {
   "cell_type": "markdown",
   "metadata": {},
   "source": [
    "## --> AOC/AUC"
   ]
  },
  {
   "cell_type": "markdown",
   "metadata": {},
   "source": [
    "## 到这一步就无法分割了"
   ]
  },
  {
   "cell_type": "markdown",
   "metadata": {},
   "source": [
    "## A simple example of kmeans"
   ]
  },
  {
   "cell_type": "code",
   "execution_count": 108,
   "metadata": {},
   "outputs": [],
   "source": [
    "from sklearn.cluster import KMeans"
   ]
  },
  {
   "cell_type": "code",
   "execution_count": 123,
   "metadata": {},
   "outputs": [],
   "source": [
    "X1 = [random.randint(0, 100) for _ in range(100)]\n",
    "X2 = [random.randint(0, 100) for _ in range(100)]"
   ]
  },
  {
   "cell_type": "code",
   "execution_count": 124,
   "metadata": {},
   "outputs": [
    {
     "data": {
      "text/plain": "<matplotlib.collections.PathCollection at 0x26c0cf82a88>"
     },
     "execution_count": 124,
     "metadata": {},
     "output_type": "execute_result"
    },
    {
     "data": {
      "image/png": "[encoded data removed]",
      "image/svg+xml": "<?xml version=\"1.0\" encoding=\"utf-8\" standalone=\"no\"?>\r\n<!DOCTYPE svg PUBLIC \"-//W3C//DTD SVG 1.1//EN\"\r\n  \"http://www.w3.org/Graphics/SVG/1.1/DTD/svg11.dtd\">\r\n<!-- Created with matplotlib (https://matplotlib.org/) -->\r\n<svg height=\"248.518125pt\" version=\"1.1\" viewBox=\"0 0 375.2875 248.518125\" width=\"375.2875pt\" xmlns=\"http://www.w3.org/2000/svg\" xmlns:xlink=\"http://www.w3.org/1999/xlink\">\r\n <defs>\r\n  <style type=\"text/css\">\r\n*{stroke-linecap:butt;stroke-linejoin:round;}\r\n  </style>\r\n </defs>\r\n <g id=\"figure_1\">\r\n  <g id=\"patch_1\">\r\n   <path d=\"M 0 248.518125 \r\nL 375.2875 248.518125 \r\nL 375.2875 0 \r\nL 0 0 \r\nz\r\n\" style=\"fill:none;\"/>\r\n  </g>\r\n  <g id=\"axes_1\">\r\n   <g id=\"patch_2\">\r\n    <path d=\"M 33.2875 224.64 \r\nL 368.0875 224.64 \r\nL 368.0875 7.2 \r\nL 33.2875 7.2 \r\nz\r\n\" style=\"fill:#ffffff;\"/>\r\n   </g>\r\n   <g id=\"PathCollection_1\">\r\n    <defs>\r\n     <path d=\"M 0 3 \r\nC 0.795609 3 1.55874 2.683901 2.12132 2.12132 \r\nC 2.683901 1.55874 3 0.795609 3 0 \r\nC 3 -0.795609 2.683901 -1.55874 2.12132 -2.12132 \r\nC 1.55874 -2.683901 0.795609 -3 0 -3 \r\nC -0.795609 -3 -1.55874 -2.683901 -2.12132 -2.12132 \r\nC -2.683901 -1.55874 -3 -0.795609 -3 0 \r\nC -3 0.795609 -2.683901 1.55874 -2.12132 2.12132 \r\nC -1.55874 2.683901 -0.795609 3 0 3 \r\nz\r\n\" id=\"m8ed8e99299\" style=\"stroke:#1f77b4;\"/>\r\n    </defs>\r\n    <g clip-path=\"url(#p862b900df8)\">\r\n     <use style=\"fill:#1f77b4;stroke:#1f77b4;\" x=\"199.150588\" xlink:href=\"#m8ed8e99299\" y=\"47.053245\"/>\r\n     <use style=\"fill:#1f77b4;stroke:#1f77b4;\" x=\"208.372059\" xlink:href=\"#m8ed8e99299\" y=\"206.744272\"/>\r\n     <use style=\"fill:#1f77b4;stroke:#1f77b4;\" x=\"159.19088\" xlink:href=\"#m8ed8e99299\" y=\"98.952828\"/>\r\n     <use style=\"fill:#1f77b4;stroke:#1f77b4;\" x=\"285.217653\" xlink:href=\"#m8ed8e99299\" y=\"90.968277\"/>\r\n     <use style=\"fill:#1f77b4;stroke:#1f77b4;\" x=\"245.257944\" xlink:href=\"#m8ed8e99299\" y=\"138.875585\"/>\r\n     <use style=\"fill:#1f77b4;stroke:#1f77b4;\" x=\"189.929117\" xlink:href=\"#m8ed8e99299\" y=\"198.75972\"/>\r\n     <use style=\"fill:#1f77b4;stroke:#1f77b4;\" x=\"266.77471\" xlink:href=\"#m8ed8e99299\" y=\"178.798342\"/>\r\n     <use style=\"fill:#1f77b4;stroke:#1f77b4;\" x=\"189.929117\" xlink:href=\"#m8ed8e99299\" y=\"21.103453\"/>\r\n     <use style=\"fill:#1f77b4;stroke:#1f77b4;\" x=\"171.486175\" xlink:href=\"#m8ed8e99299\" y=\"76.995312\"/>\r\n     <use style=\"fill:#1f77b4;stroke:#1f77b4;\" x=\"199.150588\" xlink:href=\"#m8ed8e99299\" y=\"120.910345\"/>\r\n     <use style=\"fill:#1f77b4;stroke:#1f77b4;\" x=\"297.512948\" xlink:href=\"#m8ed8e99299\" y=\"43.060969\"/>\r\n     <use style=\"fill:#1f77b4;stroke:#1f77b4;\" x=\"343.620304\" xlink:href=\"#m8ed8e99299\" y=\"67.014623\"/>\r\n     <use style=\"fill:#1f77b4;stroke:#1f77b4;\" x=\"285.217653\" xlink:href=\"#m8ed8e99299\" y=\"112.925793\"/>\r\n     <use style=\"fill:#1f77b4;stroke:#1f77b4;\" x=\"149.969408\" xlink:href=\"#m8ed8e99299\" y=\"154.844688\"/>\r\n     <use style=\"fill:#1f77b4;stroke:#1f77b4;\" x=\"60.82852\" xlink:href=\"#m8ed8e99299\" y=\"90.968277\"/>\r\n     <use style=\"fill:#1f77b4;stroke:#1f77b4;\" x=\"186.855293\" xlink:href=\"#m8ed8e99299\" y=\"210.736547\"/>\r\n     <use style=\"fill:#1f77b4;stroke:#1f77b4;\" x=\"232.962649\" xlink:href=\"#m8ed8e99299\" y=\"108.933518\"/>\r\n     <use style=\"fill:#1f77b4;stroke:#1f77b4;\" x=\"91.566757\" xlink:href=\"#m8ed8e99299\" y=\"124.90262\"/>\r\n     <use style=\"fill:#1f77b4;stroke:#1f77b4;\" x=\"100.788229\" xlink:href=\"#m8ed8e99299\" y=\"166.821515\"/>\r\n     <use style=\"fill:#1f77b4;stroke:#1f77b4;\" x=\"171.486175\" xlink:href=\"#m8ed8e99299\" y=\"53.041658\"/>\r\n     <use style=\"fill:#1f77b4;stroke:#1f77b4;\" x=\"199.150588\" xlink:href=\"#m8ed8e99299\" y=\"168.817653\"/>\r\n     <use style=\"fill:#1f77b4;stroke:#1f77b4;\" x=\"220.667354\" xlink:href=\"#m8ed8e99299\" y=\"110.929655\"/>\r\n     <use style=\"fill:#1f77b4;stroke:#1f77b4;\" x=\"266.77471\" xlink:href=\"#m8ed8e99299\" y=\"132.887172\"/>\r\n     <use style=\"fill:#1f77b4;stroke:#1f77b4;\" x=\"88.492934\" xlink:href=\"#m8ed8e99299\" y=\"124.90262\"/>\r\n     <use style=\"fill:#1f77b4;stroke:#1f77b4;\" x=\"325.177361\" xlink:href=\"#m8ed8e99299\" y=\"104.941242\"/>\r\n     <use style=\"fill:#1f77b4;stroke:#1f77b4;\" x=\"76.197639\" xlink:href=\"#m8ed8e99299\" y=\"146.860137\"/>\r\n     <use style=\"fill:#1f77b4;stroke:#1f77b4;\" x=\"254.479415\" xlink:href=\"#m8ed8e99299\" y=\"65.018485\"/>\r\n     <use style=\"fill:#1f77b4;stroke:#1f77b4;\" x=\"285.217653\" xlink:href=\"#m8ed8e99299\" y=\"35.076417\"/>\r\n     <use style=\"fill:#1f77b4;stroke:#1f77b4;\" x=\"85.41911\" xlink:href=\"#m8ed8e99299\" y=\"98.952828\"/>\r\n     <use style=\"fill:#1f77b4;stroke:#1f77b4;\" x=\"189.929117\" xlink:href=\"#m8ed8e99299\" y=\"116.918069\"/>\r\n     <use style=\"fill:#1f77b4;stroke:#1f77b4;\" x=\"232.962649\" xlink:href=\"#m8ed8e99299\" y=\"156.840826\"/>\r\n     <use style=\"fill:#1f77b4;stroke:#1f77b4;\" x=\"242.18412\" xlink:href=\"#m8ed8e99299\" y=\"180.79448\"/>\r\n     <use style=\"fill:#1f77b4;stroke:#1f77b4;\" x=\"94.640581\" xlink:href=\"#m8ed8e99299\" y=\"92.964415\"/>\r\n     <use style=\"fill:#1f77b4;stroke:#1f77b4;\" x=\"260.627063\" xlink:href=\"#m8ed8e99299\" y=\"134.883309\"/>\r\n     <use style=\"fill:#1f77b4;stroke:#1f77b4;\" x=\"291.3653\" xlink:href=\"#m8ed8e99299\" y=\"140.871723\"/>\r\n     <use style=\"fill:#1f77b4;stroke:#1f77b4;\" x=\"352.841775\" xlink:href=\"#m8ed8e99299\" y=\"33.08028\"/>\r\n     <use style=\"fill:#1f77b4;stroke:#1f77b4;\" x=\"260.627063\" xlink:href=\"#m8ed8e99299\" y=\"114.921931\"/>\r\n     <use style=\"fill:#1f77b4;stroke:#1f77b4;\" x=\"223.741178\" xlink:href=\"#m8ed8e99299\" y=\"80.987588\"/>\r\n     <use style=\"fill:#1f77b4;stroke:#1f77b4;\" x=\"229.888825\" xlink:href=\"#m8ed8e99299\" y=\"84.979863\"/>\r\n     <use style=\"fill:#1f77b4;stroke:#1f77b4;\" x=\"196.076764\" xlink:href=\"#m8ed8e99299\" y=\"61.026209\"/>\r\n     <use style=\"fill:#1f77b4;stroke:#1f77b4;\" x=\"269.848534\" xlink:href=\"#m8ed8e99299\" y=\"204.748134\"/>\r\n     <use style=\"fill:#1f77b4;stroke:#1f77b4;\" x=\"54.680873\" xlink:href=\"#m8ed8e99299\" y=\"198.75972\"/>\r\n     <use style=\"fill:#1f77b4;stroke:#1f77b4;\" x=\"319.029714\" xlink:href=\"#m8ed8e99299\" y=\"53.041658\"/>\r\n     <use style=\"fill:#1f77b4;stroke:#1f77b4;\" x=\"269.848534\" xlink:href=\"#m8ed8e99299\" y=\"128.894896\"/>\r\n     <use style=\"fill:#1f77b4;stroke:#1f77b4;\" x=\"137.674113\" xlink:href=\"#m8ed8e99299\" y=\"190.775169\"/>\r\n     <use style=\"fill:#1f77b4;stroke:#1f77b4;\" x=\"248.331768\" xlink:href=\"#m8ed8e99299\" y=\"194.767445\"/>\r\n     <use style=\"fill:#1f77b4;stroke:#1f77b4;\" x=\"193.002941\" xlink:href=\"#m8ed8e99299\" y=\"92.964415\"/>\r\n     <use style=\"fill:#1f77b4;stroke:#1f77b4;\" x=\"88.492934\" xlink:href=\"#m8ed8e99299\" y=\"78.99145\"/>\r\n     <use style=\"fill:#1f77b4;stroke:#1f77b4;\" x=\"223.741178\" xlink:href=\"#m8ed8e99299\" y=\"150.852412\"/>\r\n     <use style=\"fill:#1f77b4;stroke:#1f77b4;\" x=\"337.472656\" xlink:href=\"#m8ed8e99299\" y=\"82.983726\"/>\r\n     <use style=\"fill:#1f77b4;stroke:#1f77b4;\" x=\"137.674113\" xlink:href=\"#m8ed8e99299\" y=\"120.910345\"/>\r\n     <use style=\"fill:#1f77b4;stroke:#1f77b4;\" x=\"48.533225\" xlink:href=\"#m8ed8e99299\" y=\"65.018485\"/>\r\n     <use style=\"fill:#1f77b4;stroke:#1f77b4;\" x=\"189.929117\" xlink:href=\"#m8ed8e99299\" y=\"74.999174\"/>\r\n     <use style=\"fill:#1f77b4;stroke:#1f77b4;\" x=\"349.767951\" xlink:href=\"#m8ed8e99299\" y=\"21.103453\"/>\r\n     <use style=\"fill:#1f77b4;stroke:#1f77b4;\" x=\"113.083524\" xlink:href=\"#m8ed8e99299\" y=\"37.072555\"/>\r\n     <use style=\"fill:#1f77b4;stroke:#1f77b4;\" x=\"211.445883\" xlink:href=\"#m8ed8e99299\" y=\"208.74041\"/>\r\n     <use style=\"fill:#1f77b4;stroke:#1f77b4;\" x=\"291.3653\" xlink:href=\"#m8ed8e99299\" y=\"202.751996\"/>\r\n     <use style=\"fill:#1f77b4;stroke:#1f77b4;\" x=\"76.197639\" xlink:href=\"#m8ed8e99299\" y=\"88.972139\"/>\r\n     <use style=\"fill:#1f77b4;stroke:#1f77b4;\" x=\"143.821761\" xlink:href=\"#m8ed8e99299\" y=\"21.103453\"/>\r\n     <use style=\"fill:#1f77b4;stroke:#1f77b4;\" x=\"146.895585\" xlink:href=\"#m8ed8e99299\" y=\"130.891034\"/>\r\n     <use style=\"fill:#1f77b4;stroke:#1f77b4;\" x=\"325.177361\" xlink:href=\"#m8ed8e99299\" y=\"118.914207\"/>\r\n     <use style=\"fill:#1f77b4;stroke:#1f77b4;\" x=\"177.633822\" xlink:href=\"#m8ed8e99299\" y=\"55.037796\"/>\r\n     <use style=\"fill:#1f77b4;stroke:#1f77b4;\" x=\"211.445883\" xlink:href=\"#m8ed8e99299\" y=\"174.806066\"/>\r\n     <use style=\"fill:#1f77b4;stroke:#1f77b4;\" x=\"122.304995\" xlink:href=\"#m8ed8e99299\" y=\"132.887172\"/>\r\n     <use style=\"fill:#1f77b4;stroke:#1f77b4;\" x=\"79.271462\" xlink:href=\"#m8ed8e99299\" y=\"148.856274\"/>\r\n     <use style=\"fill:#1f77b4;stroke:#1f77b4;\" x=\"165.338527\" xlink:href=\"#m8ed8e99299\" y=\"154.844688\"/>\r\n     <use style=\"fill:#1f77b4;stroke:#1f77b4;\" x=\"122.304995\" xlink:href=\"#m8ed8e99299\" y=\"126.898758\"/>\r\n     <use style=\"fill:#1f77b4;stroke:#1f77b4;\" x=\"202.224412\" xlink:href=\"#m8ed8e99299\" y=\"17.111177\"/>\r\n     <use style=\"fill:#1f77b4;stroke:#1f77b4;\" x=\"275.996182\" xlink:href=\"#m8ed8e99299\" y=\"100.948966\"/>\r\n     <use style=\"fill:#1f77b4;stroke:#1f77b4;\" x=\"174.559998\" xlink:href=\"#m8ed8e99299\" y=\"98.952828\"/>\r\n     <use style=\"fill:#1f77b4;stroke:#1f77b4;\" x=\"199.150588\" xlink:href=\"#m8ed8e99299\" y=\"104.941242\"/>\r\n     <use style=\"fill:#1f77b4;stroke:#1f77b4;\" x=\"70.049991\" xlink:href=\"#m8ed8e99299\" y=\"214.728823\"/>\r\n     <use style=\"fill:#1f77b4;stroke:#1f77b4;\" x=\"193.002941\" xlink:href=\"#m8ed8e99299\" y=\"82.983726\"/>\r\n     <use style=\"fill:#1f77b4;stroke:#1f77b4;\" x=\"236.036473\" xlink:href=\"#m8ed8e99299\" y=\"55.037796\"/>\r\n     <use style=\"fill:#1f77b4;stroke:#1f77b4;\" x=\"186.855293\" xlink:href=\"#m8ed8e99299\" y=\"35.076417\"/>\r\n     <use style=\"fill:#1f77b4;stroke:#1f77b4;\" x=\"309.808243\" xlink:href=\"#m8ed8e99299\" y=\"192.771307\"/>\r\n     <use style=\"fill:#1f77b4;stroke:#1f77b4;\" x=\"165.338527\" xlink:href=\"#m8ed8e99299\" y=\"120.910345\"/>\r\n     <use style=\"fill:#1f77b4;stroke:#1f77b4;\" x=\"352.841775\" xlink:href=\"#m8ed8e99299\" y=\"196.763583\"/>\r\n     <use style=\"fill:#1f77b4;stroke:#1f77b4;\" x=\"337.472656\" xlink:href=\"#m8ed8e99299\" y=\"114.921931\"/>\r\n     <use style=\"fill:#1f77b4;stroke:#1f77b4;\" x=\"54.680873\" xlink:href=\"#m8ed8e99299\" y=\"80.987588\"/>\r\n     <use style=\"fill:#1f77b4;stroke:#1f77b4;\" x=\"229.888825\" xlink:href=\"#m8ed8e99299\" y=\"90.968277\"/>\r\n     <use style=\"fill:#1f77b4;stroke:#1f77b4;\" x=\"263.700887\" xlink:href=\"#m8ed8e99299\" y=\"88.972139\"/>\r\n     <use style=\"fill:#1f77b4;stroke:#1f77b4;\" x=\"300.586771\" xlink:href=\"#m8ed8e99299\" y=\"184.786755\"/>\r\n     <use style=\"fill:#1f77b4;stroke:#1f77b4;\" x=\"180.707646\" xlink:href=\"#m8ed8e99299\" y=\"45.057107\"/>\r\n     <use style=\"fill:#1f77b4;stroke:#1f77b4;\" x=\"208.372059\" xlink:href=\"#m8ed8e99299\" y=\"188.779031\"/>\r\n     <use style=\"fill:#1f77b4;stroke:#1f77b4;\" x=\"328.251185\" xlink:href=\"#m8ed8e99299\" y=\"112.925793\"/>\r\n     <use style=\"fill:#1f77b4;stroke:#1f77b4;\" x=\"285.217653\" xlink:href=\"#m8ed8e99299\" y=\"98.952828\"/>\r\n     <use style=\"fill:#1f77b4;stroke:#1f77b4;\" x=\"337.472656\" xlink:href=\"#m8ed8e99299\" y=\"27.091866\"/>\r\n     <use style=\"fill:#1f77b4;stroke:#1f77b4;\" x=\"349.767951\" xlink:href=\"#m8ed8e99299\" y=\"210.736547\"/>\r\n     <use style=\"fill:#1f77b4;stroke:#1f77b4;\" x=\"88.492934\" xlink:href=\"#m8ed8e99299\" y=\"82.983726\"/>\r\n     <use style=\"fill:#1f77b4;stroke:#1f77b4;\" x=\"315.95589\" xlink:href=\"#m8ed8e99299\" y=\"31.084142\"/>\r\n     <use style=\"fill:#1f77b4;stroke:#1f77b4;\" x=\"88.492934\" xlink:href=\"#m8ed8e99299\" y=\"180.79448\"/>\r\n     <use style=\"fill:#1f77b4;stroke:#1f77b4;\" x=\"288.291476\" xlink:href=\"#m8ed8e99299\" y=\"82.983726\"/>\r\n     <use style=\"fill:#1f77b4;stroke:#1f77b4;\" x=\"275.996182\" xlink:href=\"#m8ed8e99299\" y=\"23.09959\"/>\r\n     <use style=\"fill:#1f77b4;stroke:#1f77b4;\" x=\"137.674113\" xlink:href=\"#m8ed8e99299\" y=\"130.891034\"/>\r\n     <use style=\"fill:#1f77b4;stroke:#1f77b4;\" x=\"97.714405\" xlink:href=\"#m8ed8e99299\" y=\"74.999174\"/>\r\n     <use style=\"fill:#1f77b4;stroke:#1f77b4;\" x=\"113.083524\" xlink:href=\"#m8ed8e99299\" y=\"55.037796\"/>\r\n     <use style=\"fill:#1f77b4;stroke:#1f77b4;\" x=\"236.036473\" xlink:href=\"#m8ed8e99299\" y=\"118.914207\"/>\r\n     <use style=\"fill:#1f77b4;stroke:#1f77b4;\" x=\"269.848534\" xlink:href=\"#m8ed8e99299\" y=\"31.084142\"/>\r\n     <use style=\"fill:#1f77b4;stroke:#1f77b4;\" x=\"325.177361\" xlink:href=\"#m8ed8e99299\" y=\"69.010761\"/>\r\n    </g>\r\n   </g>\r\n   <g id=\"matplotlib.axis_1\">\r\n    <g id=\"xtick_1\">\r\n     <g id=\"line2d_1\">\r\n      <defs>\r\n       <path d=\"M 0 0 \r\nL 0 3.5 \r\n\" id=\"m6720621c66\" style=\"stroke:#000000;stroke-width:0.8;\"/>\r\n      </defs>\r\n      <g>\r\n       <use style=\"stroke:#000000;stroke-width:0.8;\" x=\"48.533225\" xlink:href=\"#m6720621c66\" y=\"224.64\"/>\r\n      </g>\r\n     </g>\r\n     <g id=\"text_1\">\r\n      <!-- 0 -->\r\n      <defs>\r\n       <path d=\"M 31.78125 66.40625 \r\nQ 24.171875 66.40625 20.328125 58.90625 \r\nQ 16.5 51.421875 16.5 36.375 \r\nQ 16.5 21.390625 20.328125 13.890625 \r\nQ 24.171875 6.390625 31.78125 6.390625 \r\nQ 39.453125 6.390625 43.28125 13.890625 \r\nQ 47.125 21.390625 47.125 36.375 \r\nQ 47.125 51.421875 43.28125 58.90625 \r\nQ 39.453125 66.40625 31.78125 66.40625 \r\nz\r\nM 31.78125 74.21875 \r\nQ 44.046875 74.21875 50.515625 64.515625 \r\nQ 56.984375 54.828125 56.984375 36.375 \r\nQ 56.984375 17.96875 50.515625 8.265625 \r\nQ 44.046875 -1.421875 31.78125 -1.421875 \r\nQ 19.53125 -1.421875 13.0625 8.265625 \r\nQ 6.59375 17.96875 6.59375 36.375 \r\nQ 6.59375 54.828125 13.0625 64.515625 \r\nQ 19.53125 74.21875 31.78125 74.21875 \r\nz\r\n\" id=\"DejaVuSans-48\"/>\r\n      </defs>\r\n      <g transform=\"translate(45.351975 239.238438)scale(0.1 -0.1)\">\r\n       <use xlink:href=\"#DejaVuSans-48\"/>\r\n      </g>\r\n     </g>\r\n    </g>\r\n    <g id=\"xtick_2\">\r\n     <g id=\"line2d_2\">\r\n      <g>\r\n       <use style=\"stroke:#000000;stroke-width:0.8;\" x=\"110.0097\" xlink:href=\"#m6720621c66\" y=\"224.64\"/>\r\n      </g>\r\n     </g>\r\n     <g id=\"text_2\">\r\n      <!-- 20 -->\r\n      <defs>\r\n       <path d=\"M 19.1875 8.296875 \r\nL 53.609375 8.296875 \r\nL 53.609375 0 \r\nL 7.328125 0 \r\nL 7.328125 8.296875 \r\nQ 12.9375 14.109375 22.625 23.890625 \r\nQ 32.328125 33.6875 34.8125 36.53125 \r\nQ 39.546875 41.84375 41.421875 45.53125 \r\nQ 43.3125 49.21875 43.3125 52.78125 \r\nQ 43.3125 58.59375 39.234375 62.25 \r\nQ 35.15625 65.921875 28.609375 65.921875 \r\nQ 23.96875 65.921875 18.8125 64.3125 \r\nQ 13.671875 62.703125 7.8125 59.421875 \r\nL 7.8125 69.390625 \r\nQ 13.765625 71.78125 18.9375 73 \r\nQ 24.125 74.21875 28.421875 74.21875 \r\nQ 39.75 74.21875 46.484375 68.546875 \r\nQ 53.21875 62.890625 53.21875 53.421875 \r\nQ 53.21875 48.921875 51.53125 44.890625 \r\nQ 49.859375 40.875 45.40625 35.40625 \r\nQ 44.1875 33.984375 37.640625 27.21875 \r\nQ 31.109375 20.453125 19.1875 8.296875 \r\nz\r\n\" id=\"DejaVuSans-50\"/>\r\n      </defs>\r\n      <g transform=\"translate(103.6472 239.238438)scale(0.1 -0.1)\">\r\n       <use xlink:href=\"#DejaVuSans-50\"/>\r\n       <use x=\"63.623047\" xlink:href=\"#DejaVuSans-48\"/>\r\n      </g>\r\n     </g>\r\n    </g>\r\n    <g id=\"xtick_3\">\r\n     <g id=\"line2d_3\">\r\n      <g>\r\n       <use style=\"stroke:#000000;stroke-width:0.8;\" x=\"171.486175\" xlink:href=\"#m6720621c66\" y=\"224.64\"/>\r\n      </g>\r\n     </g>\r\n     <g id=\"text_3\">\r\n      <!-- 40 -->\r\n      <defs>\r\n       <path d=\"M 37.796875 64.3125 \r\nL 12.890625 25.390625 \r\nL 37.796875 25.390625 \r\nz\r\nM 35.203125 72.90625 \r\nL 47.609375 72.90625 \r\nL 47.609375 25.390625 \r\nL 58.015625 25.390625 \r\nL 58.015625 17.1875 \r\nL 47.609375 17.1875 \r\nL 47.609375 0 \r\nL 37.796875 0 \r\nL 37.796875 17.1875 \r\nL 4.890625 17.1875 \r\nL 4.890625 26.703125 \r\nz\r\n\" id=\"DejaVuSans-52\"/>\r\n      </defs>\r\n      <g transform=\"translate(165.123675 239.238438)scale(0.1 -0.1)\">\r\n       <use xlink:href=\"#DejaVuSans-52\"/>\r\n       <use x=\"63.623047\" xlink:href=\"#DejaVuSans-48\"/>\r\n      </g>\r\n     </g>\r\n    </g>\r\n    <g id=\"xtick_4\">\r\n     <g id=\"line2d_4\">\r\n      <g>\r\n       <use style=\"stroke:#000000;stroke-width:0.8;\" x=\"232.962649\" xlink:href=\"#m6720621c66\" y=\"224.64\"/>\r\n      </g>\r\n     </g>\r\n     <g id=\"text_4\">\r\n      <!-- 60 -->\r\n      <defs>\r\n       <path d=\"M 33.015625 40.375 \r\nQ 26.375 40.375 22.484375 35.828125 \r\nQ 18.609375 31.296875 18.609375 23.390625 \r\nQ 18.609375 15.53125 22.484375 10.953125 \r\nQ 26.375 6.390625 33.015625 6.390625 \r\nQ 39.65625 6.390625 43.53125 10.953125 \r\nQ 47.40625 15.53125 47.40625 23.390625 \r\nQ 47.40625 31.296875 43.53125 35.828125 \r\nQ 39.65625 40.375 33.015625 40.375 \r\nz\r\nM 52.59375 71.296875 \r\nL 52.59375 62.3125 \r\nQ 48.875 64.0625 45.09375 64.984375 \r\nQ 41.3125 65.921875 37.59375 65.921875 \r\nQ 27.828125 65.921875 22.671875 59.328125 \r\nQ 17.53125 52.734375 16.796875 39.40625 \r\nQ 19.671875 43.65625 24.015625 45.921875 \r\nQ 28.375 48.1875 33.59375 48.1875 \r\nQ 44.578125 48.1875 50.953125 41.515625 \r\nQ 57.328125 34.859375 57.328125 23.390625 \r\nQ 57.328125 12.15625 50.6875 5.359375 \r\nQ 44.046875 -1.421875 33.015625 -1.421875 \r\nQ 20.359375 -1.421875 13.671875 8.265625 \r\nQ 6.984375 17.96875 6.984375 36.375 \r\nQ 6.984375 53.65625 15.1875 63.9375 \r\nQ 23.390625 74.21875 37.203125 74.21875 \r\nQ 40.921875 74.21875 44.703125 73.484375 \r\nQ 48.484375 72.75 52.59375 71.296875 \r\nz\r\n\" id=\"DejaVuSans-54\"/>\r\n      </defs>\r\n      <g transform=\"translate(226.600149 239.238438)scale(0.1 -0.1)\">\r\n       <use xlink:href=\"#DejaVuSans-54\"/>\r\n       <use x=\"63.623047\" xlink:href=\"#DejaVuSans-48\"/>\r\n      </g>\r\n     </g>\r\n    </g>\r\n    <g id=\"xtick_5\">\r\n     <g id=\"line2d_5\">\r\n      <g>\r\n       <use style=\"stroke:#000000;stroke-width:0.8;\" x=\"294.439124\" xlink:href=\"#m6720621c66\" y=\"224.64\"/>\r\n      </g>\r\n     </g>\r\n     <g id=\"text_5\">\r\n      <!-- 80 -->\r\n      <defs>\r\n       <path d=\"M 31.78125 34.625 \r\nQ 24.75 34.625 20.71875 30.859375 \r\nQ 16.703125 27.09375 16.703125 20.515625 \r\nQ 16.703125 13.921875 20.71875 10.15625 \r\nQ 24.75 6.390625 31.78125 6.390625 \r\nQ 38.8125 6.390625 42.859375 10.171875 \r\nQ 46.921875 13.96875 46.921875 20.515625 \r\nQ 46.921875 27.09375 42.890625 30.859375 \r\nQ 38.875 34.625 31.78125 34.625 \r\nz\r\nM 21.921875 38.8125 \r\nQ 15.578125 40.375 12.03125 44.71875 \r\nQ 8.5 49.078125 8.5 55.328125 \r\nQ 8.5 64.0625 14.71875 69.140625 \r\nQ 20.953125 74.21875 31.78125 74.21875 \r\nQ 42.671875 74.21875 48.875 69.140625 \r\nQ 55.078125 64.0625 55.078125 55.328125 \r\nQ 55.078125 49.078125 51.53125 44.71875 \r\nQ 48 40.375 41.703125 38.8125 \r\nQ 48.828125 37.15625 52.796875 32.3125 \r\nQ 56.78125 27.484375 56.78125 20.515625 \r\nQ 56.78125 9.90625 50.3125 4.234375 \r\nQ 43.84375 -1.421875 31.78125 -1.421875 \r\nQ 19.734375 -1.421875 13.25 4.234375 \r\nQ 6.78125 9.90625 6.78125 20.515625 \r\nQ 6.78125 27.484375 10.78125 32.3125 \r\nQ 14.796875 37.15625 21.921875 38.8125 \r\nz\r\nM 18.3125 54.390625 \r\nQ 18.3125 48.734375 21.84375 45.5625 \r\nQ 25.390625 42.390625 31.78125 42.390625 \r\nQ 38.140625 42.390625 41.71875 45.5625 \r\nQ 45.3125 48.734375 45.3125 54.390625 \r\nQ 45.3125 60.0625 41.71875 63.234375 \r\nQ 38.140625 66.40625 31.78125 66.40625 \r\nQ 25.390625 66.40625 21.84375 63.234375 \r\nQ 18.3125 60.0625 18.3125 54.390625 \r\nz\r\n\" id=\"DejaVuSans-56\"/>\r\n      </defs>\r\n      <g transform=\"translate(288.076624 239.238438)scale(0.1 -0.1)\">\r\n       <use xlink:href=\"#DejaVuSans-56\"/>\r\n       <use x=\"63.623047\" xlink:href=\"#DejaVuSans-48\"/>\r\n      </g>\r\n     </g>\r\n    </g>\r\n    <g id=\"xtick_6\">\r\n     <g id=\"line2d_6\">\r\n      <g>\r\n       <use style=\"stroke:#000000;stroke-width:0.8;\" x=\"355.915599\" xlink:href=\"#m6720621c66\" y=\"224.64\"/>\r\n      </g>\r\n     </g>\r\n     <g id=\"text_6\">\r\n      <!-- 100 -->\r\n      <defs>\r\n       <path d=\"M 12.40625 8.296875 \r\nL 28.515625 8.296875 \r\nL 28.515625 63.921875 \r\nL 10.984375 60.40625 \r\nL 10.984375 69.390625 \r\nL 28.421875 72.90625 \r\nL 38.28125 72.90625 \r\nL 38.28125 8.296875 \r\nL 54.390625 8.296875 \r\nL 54.390625 0 \r\nL 12.40625 0 \r\nz\r\n\" id=\"DejaVuSans-49\"/>\r\n      </defs>\r\n      <g transform=\"translate(346.371849 239.238438)scale(0.1 -0.1)\">\r\n       <use xlink:href=\"#DejaVuSans-49\"/>\r\n       <use x=\"63.623047\" xlink:href=\"#DejaVuSans-48\"/>\r\n       <use x=\"127.246094\" xlink:href=\"#DejaVuSans-48\"/>\r\n      </g>\r\n     </g>\r\n    </g>\r\n   </g>\r\n   <g id=\"matplotlib.axis_2\">\r\n    <g id=\"ytick_1\">\r\n     <g id=\"line2d_7\">\r\n      <defs>\r\n       <path d=\"M 0 0 \r\nL -3.5 0 \r\n\" id=\"maf46b817a5\" style=\"stroke:#000000;stroke-width:0.8;\"/>\r\n      </defs>\r\n      <g>\r\n       <use style=\"stroke:#000000;stroke-width:0.8;\" x=\"33.2875\" xlink:href=\"#maf46b817a5\" y=\"216.724961\"/>\r\n      </g>\r\n     </g>\r\n     <g id=\"text_7\">\r\n      <!-- 0 -->\r\n      <g transform=\"translate(19.925 220.52418)scale(0.1 -0.1)\">\r\n       <use xlink:href=\"#DejaVuSans-48\"/>\r\n      </g>\r\n     </g>\r\n    </g>\r\n    <g id=\"ytick_2\">\r\n     <g id=\"line2d_8\">\r\n      <g>\r\n       <use style=\"stroke:#000000;stroke-width:0.8;\" x=\"33.2875\" xlink:href=\"#maf46b817a5\" y=\"176.802204\"/>\r\n      </g>\r\n     </g>\r\n     <g id=\"text_8\">\r\n      <!-- 20 -->\r\n      <g transform=\"translate(13.5625 180.601423)scale(0.1 -0.1)\">\r\n       <use xlink:href=\"#DejaVuSans-50\"/>\r\n       <use x=\"63.623047\" xlink:href=\"#DejaVuSans-48\"/>\r\n      </g>\r\n     </g>\r\n    </g>\r\n    <g id=\"ytick_3\">\r\n     <g id=\"line2d_9\">\r\n      <g>\r\n       <use style=\"stroke:#000000;stroke-width:0.8;\" x=\"33.2875\" xlink:href=\"#maf46b817a5\" y=\"136.879447\"/>\r\n      </g>\r\n     </g>\r\n     <g id=\"text_9\">\r\n      <!-- 40 -->\r\n      <g transform=\"translate(13.5625 140.678666)scale(0.1 -0.1)\">\r\n       <use xlink:href=\"#DejaVuSans-52\"/>\r\n       <use x=\"63.623047\" xlink:href=\"#DejaVuSans-48\"/>\r\n      </g>\r\n     </g>\r\n    </g>\r\n    <g id=\"ytick_4\">\r\n     <g id=\"line2d_10\">\r\n      <g>\r\n       <use style=\"stroke:#000000;stroke-width:0.8;\" x=\"33.2875\" xlink:href=\"#maf46b817a5\" y=\"96.956691\"/>\r\n      </g>\r\n     </g>\r\n     <g id=\"text_10\">\r\n      <!-- 60 -->\r\n      <g transform=\"translate(13.5625 100.755909)scale(0.1 -0.1)\">\r\n       <use xlink:href=\"#DejaVuSans-54\"/>\r\n       <use x=\"63.623047\" xlink:href=\"#DejaVuSans-48\"/>\r\n      </g>\r\n     </g>\r\n    </g>\r\n    <g id=\"ytick_5\">\r\n     <g id=\"line2d_11\">\r\n      <g>\r\n       <use style=\"stroke:#000000;stroke-width:0.8;\" x=\"33.2875\" xlink:href=\"#maf46b817a5\" y=\"57.033934\"/>\r\n      </g>\r\n     </g>\r\n     <g id=\"text_11\">\r\n      <!-- 80 -->\r\n      <g transform=\"translate(13.5625 60.833152)scale(0.1 -0.1)\">\r\n       <use xlink:href=\"#DejaVuSans-56\"/>\r\n       <use x=\"63.623047\" xlink:href=\"#DejaVuSans-48\"/>\r\n      </g>\r\n     </g>\r\n    </g>\r\n    <g id=\"ytick_6\">\r\n     <g id=\"line2d_12\">\r\n      <g>\r\n       <use style=\"stroke:#000000;stroke-width:0.8;\" x=\"33.2875\" xlink:href=\"#maf46b817a5\" y=\"17.111177\"/>\r\n      </g>\r\n     </g>\r\n     <g id=\"text_12\">\r\n      <!-- 100 -->\r\n      <g transform=\"translate(7.2 20.910396)scale(0.1 -0.1)\">\r\n       <use xlink:href=\"#DejaVuSans-49\"/>\r\n       <use x=\"63.623047\" xlink:href=\"#DejaVuSans-48\"/>\r\n       <use x=\"127.246094\" xlink:href=\"#DejaVuSans-48\"/>\r\n      </g>\r\n     </g>\r\n    </g>\r\n   </g>\r\n   <g id=\"patch_3\">\r\n    <path d=\"M 33.2875 224.64 \r\nL 33.2875 7.2 \r\n\" style=\"fill:none;stroke:#000000;stroke-linecap:square;stroke-linejoin:miter;stroke-width:0.8;\"/>\r\n   </g>\r\n   <g id=\"patch_4\">\r\n    <path d=\"M 368.0875 224.64 \r\nL 368.0875 7.2 \r\n\" style=\"fill:none;stroke:#000000;stroke-linecap:square;stroke-linejoin:miter;stroke-width:0.8;\"/>\r\n   </g>\r\n   <g id=\"patch_5\">\r\n    <path d=\"M 33.2875 224.64 \r\nL 368.0875 224.64 \r\n\" style=\"fill:none;stroke:#000000;stroke-linecap:square;stroke-linejoin:miter;stroke-width:0.8;\"/>\r\n   </g>\r\n   <g id=\"patch_6\">\r\n    <path d=\"M 33.2875 7.2 \r\nL 368.0875 7.2 \r\n\" style=\"fill:none;stroke:#000000;stroke-linecap:square;stroke-linejoin:miter;stroke-width:0.8;\"/>\r\n   </g>\r\n  </g>\r\n </g>\r\n <defs>\r\n  <clipPath id=\"p862b900df8\">\r\n   <rect height=\"217.44\" width=\"334.8\" x=\"33.2875\" y=\"7.2\"/>\r\n  </clipPath>\r\n </defs>\r\n</svg>\r\n",
      "text/plain": "<Figure size 432x288 with 1 Axes>"
     },
     "metadata": {
      "needs_background": "light"
     },
     "output_type": "display_data"
    }
   ],
   "source": [
    "plt.scatter(X1, X2)"
   ]
  },
  {
   "cell_type": "code",
   "execution_count": 126,
   "metadata": {},
   "outputs": [],
   "source": [
    "tranning_data = [[x1, x2] for x1, x2 in zip(X1, X2)]"
   ]
  },
  {
   "cell_type": "code",
   "execution_count": 127,
   "metadata": {},
   "outputs": [],
   "source": [
    "cluster = KMeans(n_clusters=6, max_iter=500)"
   ]
  },
  {
   "cell_type": "code",
   "execution_count": 128,
   "metadata": {},
   "outputs": [
    {
     "data": {
      "text/plain": "KMeans(algorithm='auto', copy_x=True, init='k-means++', max_iter=500,\n       n_clusters=6, n_init=10, n_jobs=None, precompute_distances='auto',\n       random_state=None, tol=0.0001, verbose=0)"
     },
     "execution_count": 128,
     "metadata": {},
     "output_type": "execute_result"
    }
   ],
   "source": [
    "cluster.fit(tranning_data)"
   ]
  },
  {
   "cell_type": "code",
   "execution_count": 129,
   "metadata": {},
   "outputs": [
    {
     "data": {
      "text/plain": "array([[73.4       , 51.5       ],\n       [11.45454545, 70.        ],\n       [65.61111111, 13.61111111],\n       [47.68181818, 74.86363636],\n       [21.23529412, 32.82352941],\n       [87.5       , 87.        ]])"
     },
     "execution_count": 129,
     "metadata": {},
     "output_type": "execute_result"
    }
   ],
   "source": [
    "cluster.cluster_centers_"
   ]
  },
  {
   "cell_type": "code",
   "execution_count": 130,
   "metadata": {},
   "outputs": [
    {
     "data": {
      "text/plain": "array([3, 2, 3, 0, 0, 2, 2, 3, 3, 0, 5, 5, 0, 4, 1, 2, 0, 4, 4, 3, 2, 0,\n       0, 4, 0, 4, 3, 5, 1, 3, 2, 2, 1, 0, 0, 5, 0, 3, 3, 3, 2, 4, 5, 0,\n       4, 2, 3, 1, 2, 5, 4, 1, 3, 5, 1, 2, 2, 1, 3, 4, 0, 3, 2, 4, 4, 4,\n       4, 3, 0, 3, 3, 4, 3, 3, 3, 2, 4, 2, 0, 1, 3, 0, 2, 3, 2, 0, 0, 5,\n       2, 1, 5, 4, 0, 5, 4, 1, 1, 0, 5, 5])"
     },
     "execution_count": 130,
     "metadata": {},
     "output_type": "execute_result"
    }
   ],
   "source": [
    "cluster.labels_"
   ]
  },
  {
   "cell_type": "code",
   "execution_count": 131,
   "metadata": {},
   "outputs": [],
   "source": [
    "from collections import defaultdict"
   ]
  },
  {
   "cell_type": "code",
   "execution_count": 132,
   "metadata": {},
   "outputs": [],
   "source": [
    "centers = defaultdict(list)"
   ]
  },
  {
   "cell_type": "code",
   "execution_count": 133,
   "metadata": {},
   "outputs": [],
   "source": [
    "for label, location in zip(cluster.labels_, tranning_data):\n",
    "    centers[label].append(location)"
   ]
  },
  {
   "cell_type": "code",
   "execution_count": 134,
   "metadata": {},
   "outputs": [
    {
     "data": {
      "image/png": "[encoded data removed]",
      "image/svg+xml": "<?xml version=\"1.0\" encoding=\"utf-8\" standalone=\"no\"?>\r\n<!DOCTYPE svg PUBLIC \"-//W3C//DTD SVG 1.1//EN\"\r\n  \"http://www.w3.org/Graphics/SVG/1.1/DTD/svg11.dtd\">\r\n<!-- Created with matplotlib (https://matplotlib.org/) -->\r\n<svg height=\"248.518125pt\" version=\"1.1\" viewBox=\"0 0 375.2875 248.518125\" width=\"375.2875pt\" xmlns=\"http://www.w3.org/2000/svg\" xmlns:xlink=\"http://www.w3.org/1999/xlink\">\r\n <defs>\r\n  <style type=\"text/css\">\r\n*{stroke-linecap:butt;stroke-linejoin:round;}\r\n  </style>\r\n </defs>\r\n <g id=\"figure_1\">\r\n  <g id=\"patch_1\">\r\n   <path d=\"M 0 248.518125 \r\nL 375.2875 248.518125 \r\nL 375.2875 0 \r\nL 0 0 \r\nz\r\n\" style=\"fill:none;\"/>\r\n  </g>\r\n  <g id=\"axes_1\">\r\n   <g id=\"patch_2\">\r\n    <path d=\"M 33.2875 224.64 \r\nL 368.0875 224.64 \r\nL 368.0875 7.2 \r\nL 33.2875 7.2 \r\nz\r\n\" style=\"fill:#ffffff;\"/>\r\n   </g>\r\n   <g id=\"PathCollection_1\">\r\n    <defs>\r\n     <path d=\"M 0 3 \r\nC 0.795609 3 1.55874 2.683901 2.12132 2.12132 \r\nC 2.683901 1.55874 3 0.795609 3 0 \r\nC 3 -0.795609 2.683901 -1.55874 2.12132 -2.12132 \r\nC 1.55874 -2.683901 0.795609 -3 0 -3 \r\nC -0.795609 -3 -1.55874 -2.683901 -2.12132 -2.12132 \r\nC -2.683901 -1.55874 -3 -0.795609 -3 0 \r\nC -3 0.795609 -2.683901 1.55874 -2.12132 2.12132 \r\nC -1.55874 2.683901 -0.795609 3 0 3 \r\nz\r\n\" id=\"mdd3d6a9d8b\" style=\"stroke:#ff0000;\"/>\r\n    </defs>\r\n    <g clip-path=\"url(#p69738a9a0f)\">\r\n     <use style=\"fill:#ff0000;stroke:#ff0000;\" x=\"199.618643\" xlink:href=\"#mdd3d6a9d8b\" y=\"47.82888\"/>\r\n    </g>\r\n   </g>\r\n   <g id=\"PathCollection_2\">\r\n    <g clip-path=\"url(#p69738a9a0f)\">\r\n     <use style=\"fill:#ff0000;stroke:#ff0000;\" x=\"160.307003\" xlink:href=\"#mdd3d6a9d8b\" y=\"98.586686\"/>\r\n    </g>\r\n   </g>\r\n   <g id=\"PathCollection_3\">\r\n    <g clip-path=\"url(#p69738a9a0f)\">\r\n     <use style=\"fill:#ff0000;stroke:#ff0000;\" x=\"190.546726\" xlink:href=\"#mdd3d6a9d8b\" y=\"22.449976\"/>\r\n    </g>\r\n   </g>\r\n   <g id=\"PathCollection_4\">\r\n    <g clip-path=\"url(#p69738a9a0f)\">\r\n     <use style=\"fill:#ff0000;stroke:#ff0000;\" x=\"172.402893\" xlink:href=\"#mdd3d6a9d8b\" y=\"77.112229\"/>\r\n    </g>\r\n   </g>\r\n   <g id=\"PathCollection_5\">\r\n    <g clip-path=\"url(#p69738a9a0f)\">\r\n     <use style=\"fill:#ff0000;stroke:#ff0000;\" x=\"172.402893\" xlink:href=\"#mdd3d6a9d8b\" y=\"53.685549\"/>\r\n    </g>\r\n   </g>\r\n   <g id=\"PathCollection_6\">\r\n    <g clip-path=\"url(#p69738a9a0f)\">\r\n     <use style=\"fill:#ff0000;stroke:#ff0000;\" x=\"254.050144\" xlink:href=\"#mdd3d6a9d8b\" y=\"65.398889\"/>\r\n    </g>\r\n   </g>\r\n   <g id=\"PathCollection_7\">\r\n    <g clip-path=\"url(#p69738a9a0f)\">\r\n     <use style=\"fill:#ff0000;stroke:#ff0000;\" x=\"190.546726\" xlink:href=\"#mdd3d6a9d8b\" y=\"116.156696\"/>\r\n    </g>\r\n   </g>\r\n   <g id=\"PathCollection_8\">\r\n    <g clip-path=\"url(#p69738a9a0f)\">\r\n     <use style=\"fill:#ff0000;stroke:#ff0000;\" x=\"223.810421\" xlink:href=\"#mdd3d6a9d8b\" y=\"81.016676\"/>\r\n    </g>\r\n   </g>\r\n   <g id=\"PathCollection_9\">\r\n    <g clip-path=\"url(#p69738a9a0f)\">\r\n     <use style=\"fill:#ff0000;stroke:#ff0000;\" x=\"229.858366\" xlink:href=\"#mdd3d6a9d8b\" y=\"84.921123\"/>\r\n    </g>\r\n   </g>\r\n   <g id=\"PathCollection_10\">\r\n    <g clip-path=\"url(#p69738a9a0f)\">\r\n     <use style=\"fill:#ff0000;stroke:#ff0000;\" x=\"196.594671\" xlink:href=\"#mdd3d6a9d8b\" y=\"61.494443\"/>\r\n    </g>\r\n   </g>\r\n   <g id=\"PathCollection_11\">\r\n    <g clip-path=\"url(#p69738a9a0f)\">\r\n     <use style=\"fill:#ff0000;stroke:#ff0000;\" x=\"193.570699\" xlink:href=\"#mdd3d6a9d8b\" y=\"92.730016\"/>\r\n    </g>\r\n   </g>\r\n   <g id=\"PathCollection_12\">\r\n    <g clip-path=\"url(#p69738a9a0f)\">\r\n     <use style=\"fill:#ff0000;stroke:#ff0000;\" x=\"190.546726\" xlink:href=\"#mdd3d6a9d8b\" y=\"75.160006\"/>\r\n    </g>\r\n   </g>\r\n   <g id=\"PathCollection_13\">\r\n    <g clip-path=\"url(#p69738a9a0f)\">\r\n     <use style=\"fill:#ff0000;stroke:#ff0000;\" x=\"145.187142\" xlink:href=\"#mdd3d6a9d8b\" y=\"22.449976\"/>\r\n    </g>\r\n   </g>\r\n   <g id=\"PathCollection_14\">\r\n    <g clip-path=\"url(#p69738a9a0f)\">\r\n     <use style=\"fill:#ff0000;stroke:#ff0000;\" x=\"178.450837\" xlink:href=\"#mdd3d6a9d8b\" y=\"55.637773\"/>\r\n    </g>\r\n   </g>\r\n   <g id=\"PathCollection_15\">\r\n    <g clip-path=\"url(#p69738a9a0f)\">\r\n     <use style=\"fill:#ff0000;stroke:#ff0000;\" x=\"202.642615\" xlink:href=\"#mdd3d6a9d8b\" y=\"18.54553\"/>\r\n    </g>\r\n   </g>\r\n   <g id=\"PathCollection_16\">\r\n    <g clip-path=\"url(#p69738a9a0f)\">\r\n     <use style=\"fill:#ff0000;stroke:#ff0000;\" x=\"175.426865\" xlink:href=\"#mdd3d6a9d8b\" y=\"98.586686\"/>\r\n    </g>\r\n   </g>\r\n   <g id=\"PathCollection_17\">\r\n    <g clip-path=\"url(#p69738a9a0f)\">\r\n     <use style=\"fill:#ff0000;stroke:#ff0000;\" x=\"199.618643\" xlink:href=\"#mdd3d6a9d8b\" y=\"104.443356\"/>\r\n    </g>\r\n   </g>\r\n   <g id=\"PathCollection_18\">\r\n    <g clip-path=\"url(#p69738a9a0f)\">\r\n     <use style=\"fill:#ff0000;stroke:#ff0000;\" x=\"193.570699\" xlink:href=\"#mdd3d6a9d8b\" y=\"82.968899\"/>\r\n    </g>\r\n   </g>\r\n   <g id=\"PathCollection_19\">\r\n    <g clip-path=\"url(#p69738a9a0f)\">\r\n     <use style=\"fill:#ff0000;stroke:#ff0000;\" x=\"235.90631\" xlink:href=\"#mdd3d6a9d8b\" y=\"55.637773\"/>\r\n    </g>\r\n   </g>\r\n   <g id=\"PathCollection_20\">\r\n    <g clip-path=\"url(#p69738a9a0f)\">\r\n     <use style=\"fill:#ff0000;stroke:#ff0000;\" x=\"187.522754\" xlink:href=\"#mdd3d6a9d8b\" y=\"36.11554\"/>\r\n    </g>\r\n   </g>\r\n   <g id=\"PathCollection_21\">\r\n    <g clip-path=\"url(#p69738a9a0f)\">\r\n     <use style=\"fill:#ff0000;stroke:#ff0000;\" x=\"229.858366\" xlink:href=\"#mdd3d6a9d8b\" y=\"90.777793\"/>\r\n    </g>\r\n   </g>\r\n   <g id=\"PathCollection_22\">\r\n    <g clip-path=\"url(#p69738a9a0f)\">\r\n     <use style=\"fill:#ff0000;stroke:#ff0000;\" x=\"181.474809\" xlink:href=\"#mdd3d6a9d8b\" y=\"45.876656\"/>\r\n    </g>\r\n   </g>\r\n   <g id=\"PathCollection_23\">\r\n    <defs>\r\n     <path d=\"M 0 3 \r\nC 0.795609 3 1.55874 2.683901 2.12132 2.12132 \r\nC 2.683901 1.55874 3 0.795609 3 0 \r\nC 3 -0.795609 2.683901 -1.55874 2.12132 -2.12132 \r\nC 1.55874 -2.683901 0.795609 -3 0 -3 \r\nC -0.795609 -3 -1.55874 -2.683901 -2.12132 -2.12132 \r\nC -2.683901 -1.55874 -3 -0.795609 -3 0 \r\nC -3 0.795609 -2.683901 1.55874 -2.12132 2.12132 \r\nC -1.55874 2.683901 -0.795609 3 0 3 \r\nz\r\n\" id=\"m7bdb44a28b\" style=\"stroke:#008000;\"/>\r\n    </defs>\r\n    <g clip-path=\"url(#p69738a9a0f)\">\r\n     <use style=\"fill:#008000;stroke:#008000;\" x=\"208.69056\" xlink:href=\"#m7bdb44a28b\" y=\"204.006745\"/>\r\n    </g>\r\n   </g>\r\n   <g id=\"PathCollection_24\">\r\n    <g clip-path=\"url(#p69738a9a0f)\">\r\n     <use style=\"fill:#008000;stroke:#008000;\" x=\"190.546726\" xlink:href=\"#m7bdb44a28b\" y=\"196.197852\"/>\r\n    </g>\r\n   </g>\r\n   <g id=\"PathCollection_25\">\r\n    <g clip-path=\"url(#p69738a9a0f)\">\r\n     <use style=\"fill:#008000;stroke:#008000;\" x=\"266.146033\" xlink:href=\"#m7bdb44a28b\" y=\"176.675618\"/>\r\n    </g>\r\n   </g>\r\n   <g id=\"PathCollection_26\">\r\n    <g clip-path=\"url(#p69738a9a0f)\">\r\n     <use style=\"fill:#008000;stroke:#008000;\" x=\"187.522754\" xlink:href=\"#m7bdb44a28b\" y=\"207.911192\"/>\r\n    </g>\r\n   </g>\r\n   <g id=\"PathCollection_27\">\r\n    <g clip-path=\"url(#p69738a9a0f)\">\r\n     <use style=\"fill:#008000;stroke:#008000;\" x=\"199.618643\" xlink:href=\"#m7bdb44a28b\" y=\"166.914502\"/>\r\n    </g>\r\n   </g>\r\n   <g id=\"PathCollection_28\">\r\n    <g clip-path=\"url(#p69738a9a0f)\">\r\n     <use style=\"fill:#008000;stroke:#008000;\" x=\"232.882338\" xlink:href=\"#m7bdb44a28b\" y=\"155.201162\"/>\r\n    </g>\r\n   </g>\r\n   <g id=\"PathCollection_29\">\r\n    <g clip-path=\"url(#p69738a9a0f)\">\r\n     <use style=\"fill:#008000;stroke:#008000;\" x=\"241.954255\" xlink:href=\"#m7bdb44a28b\" y=\"178.627842\"/>\r\n    </g>\r\n   </g>\r\n   <g id=\"PathCollection_30\">\r\n    <g clip-path=\"url(#p69738a9a0f)\">\r\n     <use style=\"fill:#008000;stroke:#008000;\" x=\"269.170006\" xlink:href=\"#m7bdb44a28b\" y=\"202.054522\"/>\r\n    </g>\r\n   </g>\r\n   <g id=\"PathCollection_31\">\r\n    <g clip-path=\"url(#p69738a9a0f)\">\r\n     <use style=\"fill:#008000;stroke:#008000;\" x=\"248.0022\" xlink:href=\"#m7bdb44a28b\" y=\"192.293405\"/>\r\n    </g>\r\n   </g>\r\n   <g id=\"PathCollection_32\">\r\n    <g clip-path=\"url(#p69738a9a0f)\">\r\n     <use style=\"fill:#008000;stroke:#008000;\" x=\"223.810421\" xlink:href=\"#m7bdb44a28b\" y=\"149.344492\"/>\r\n    </g>\r\n   </g>\r\n   <g id=\"PathCollection_33\">\r\n    <g clip-path=\"url(#p69738a9a0f)\">\r\n     <use style=\"fill:#008000;stroke:#008000;\" x=\"211.714532\" xlink:href=\"#m7bdb44a28b\" y=\"205.958968\"/>\r\n    </g>\r\n   </g>\r\n   <g id=\"PathCollection_34\">\r\n    <g clip-path=\"url(#p69738a9a0f)\">\r\n     <use style=\"fill:#008000;stroke:#008000;\" x=\"290.337811\" xlink:href=\"#m7bdb44a28b\" y=\"200.102298\"/>\r\n    </g>\r\n   </g>\r\n   <g id=\"PathCollection_35\">\r\n    <g clip-path=\"url(#p69738a9a0f)\">\r\n     <use style=\"fill:#008000;stroke:#008000;\" x=\"211.714532\" xlink:href=\"#m7bdb44a28b\" y=\"172.771172\"/>\r\n    </g>\r\n   </g>\r\n   <g id=\"PathCollection_36\">\r\n    <g clip-path=\"url(#p69738a9a0f)\">\r\n     <use style=\"fill:#008000;stroke:#008000;\" x=\"308.481645\" xlink:href=\"#m7bdb44a28b\" y=\"190.341182\"/>\r\n    </g>\r\n   </g>\r\n   <g id=\"PathCollection_37\">\r\n    <g clip-path=\"url(#p69738a9a0f)\">\r\n     <use style=\"fill:#008000;stroke:#008000;\" x=\"350.817257\" xlink:href=\"#m7bdb44a28b\" y=\"194.245628\"/>\r\n    </g>\r\n   </g>\r\n   <g id=\"PathCollection_38\">\r\n    <g clip-path=\"url(#p69738a9a0f)\">\r\n     <use style=\"fill:#008000;stroke:#008000;\" x=\"299.409728\" xlink:href=\"#m7bdb44a28b\" y=\"182.532288\"/>\r\n    </g>\r\n   </g>\r\n   <g id=\"PathCollection_39\">\r\n    <g clip-path=\"url(#p69738a9a0f)\">\r\n     <use style=\"fill:#008000;stroke:#008000;\" x=\"208.69056\" xlink:href=\"#m7bdb44a28b\" y=\"186.436735\"/>\r\n    </g>\r\n   </g>\r\n   <g id=\"PathCollection_40\">\r\n    <g clip-path=\"url(#p69738a9a0f)\">\r\n     <use style=\"fill:#008000;stroke:#008000;\" x=\"347.793285\" xlink:href=\"#m7bdb44a28b\" y=\"207.911192\"/>\r\n    </g>\r\n   </g>\r\n   <g id=\"PathCollection_41\">\r\n    <defs>\r\n     <path d=\"M 0 3 \r\nC 0.795609 3 1.55874 2.683901 2.12132 2.12132 \r\nC 2.683901 1.55874 3 0.795609 3 0 \r\nC 3 -0.795609 2.683901 -1.55874 2.12132 -2.12132 \r\nC 1.55874 -2.683901 0.795609 -3 0 -3 \r\nC -0.795609 -3 -1.55874 -2.683901 -2.12132 -2.12132 \r\nC -2.683901 -1.55874 -3 -0.795609 -3 0 \r\nC -3 0.795609 -2.683901 1.55874 -2.12132 2.12132 \r\nC -1.55874 2.683901 -0.795609 3 0 3 \r\nz\r\n\" id=\"m2f2de76ae1\" style=\"stroke:#808080;\"/>\r\n    </defs>\r\n    <g clip-path=\"url(#p69738a9a0f)\">\r\n     <use style=\"fill:#808080;stroke:#808080;\" x=\"284.289867\" xlink:href=\"#m2f2de76ae1\" y=\"90.777793\"/>\r\n    </g>\r\n   </g>\r\n   <g id=\"PathCollection_42\">\r\n    <g clip-path=\"url(#p69738a9a0f)\">\r\n     <use style=\"fill:#808080;stroke:#808080;\" x=\"244.978227\" xlink:href=\"#m2f2de76ae1\" y=\"137.631152\"/>\r\n    </g>\r\n   </g>\r\n   <g id=\"PathCollection_43\">\r\n    <g clip-path=\"url(#p69738a9a0f)\">\r\n     <use style=\"fill:#808080;stroke:#808080;\" x=\"199.618643\" xlink:href=\"#m2f2de76ae1\" y=\"120.061142\"/>\r\n    </g>\r\n   </g>\r\n   <g id=\"PathCollection_44\">\r\n    <g clip-path=\"url(#p69738a9a0f)\">\r\n     <use style=\"fill:#808080;stroke:#808080;\" x=\"284.289867\" xlink:href=\"#m2f2de76ae1\" y=\"112.252249\"/>\r\n    </g>\r\n   </g>\r\n   <g id=\"PathCollection_45\">\r\n    <g clip-path=\"url(#p69738a9a0f)\">\r\n     <use style=\"fill:#808080;stroke:#808080;\" x=\"232.882338\" xlink:href=\"#m2f2de76ae1\" y=\"108.347802\"/>\r\n    </g>\r\n   </g>\r\n   <g id=\"PathCollection_46\">\r\n    <g clip-path=\"url(#p69738a9a0f)\">\r\n     <use style=\"fill:#808080;stroke:#808080;\" x=\"220.786449\" xlink:href=\"#m2f2de76ae1\" y=\"110.300026\"/>\r\n    </g>\r\n   </g>\r\n   <g id=\"PathCollection_47\">\r\n    <g clip-path=\"url(#p69738a9a0f)\">\r\n     <use style=\"fill:#808080;stroke:#808080;\" x=\"266.146033\" xlink:href=\"#m2f2de76ae1\" y=\"131.774482\"/>\r\n    </g>\r\n   </g>\r\n   <g id=\"PathCollection_48\">\r\n    <g clip-path=\"url(#p69738a9a0f)\">\r\n     <use style=\"fill:#808080;stroke:#808080;\" x=\"323.601507\" xlink:href=\"#m2f2de76ae1\" y=\"104.443356\"/>\r\n    </g>\r\n   </g>\r\n   <g id=\"PathCollection_49\">\r\n    <g clip-path=\"url(#p69738a9a0f)\">\r\n     <use style=\"fill:#808080;stroke:#808080;\" x=\"260.098089\" xlink:href=\"#m2f2de76ae1\" y=\"133.726706\"/>\r\n    </g>\r\n   </g>\r\n   <g id=\"PathCollection_50\">\r\n    <g clip-path=\"url(#p69738a9a0f)\">\r\n     <use style=\"fill:#808080;stroke:#808080;\" x=\"290.337811\" xlink:href=\"#m2f2de76ae1\" y=\"139.583375\"/>\r\n    </g>\r\n   </g>\r\n   <g id=\"PathCollection_51\">\r\n    <g clip-path=\"url(#p69738a9a0f)\">\r\n     <use style=\"fill:#808080;stroke:#808080;\" x=\"260.098089\" xlink:href=\"#m2f2de76ae1\" y=\"114.204472\"/>\r\n    </g>\r\n   </g>\r\n   <g id=\"PathCollection_52\">\r\n    <g clip-path=\"url(#p69738a9a0f)\">\r\n     <use style=\"fill:#808080;stroke:#808080;\" x=\"269.170006\" xlink:href=\"#m2f2de76ae1\" y=\"127.870036\"/>\r\n    </g>\r\n   </g>\r\n   <g id=\"PathCollection_53\">\r\n    <g clip-path=\"url(#p69738a9a0f)\">\r\n     <use style=\"fill:#808080;stroke:#808080;\" x=\"323.601507\" xlink:href=\"#m2f2de76ae1\" y=\"118.108919\"/>\r\n    </g>\r\n   </g>\r\n   <g id=\"PathCollection_54\">\r\n    <g clip-path=\"url(#p69738a9a0f)\">\r\n     <use style=\"fill:#808080;stroke:#808080;\" x=\"275.21795\" xlink:href=\"#m2f2de76ae1\" y=\"100.538909\"/>\r\n    </g>\r\n   </g>\r\n   <g id=\"PathCollection_55\">\r\n    <g clip-path=\"url(#p69738a9a0f)\">\r\n     <use style=\"fill:#808080;stroke:#808080;\" x=\"335.697396\" xlink:href=\"#m2f2de76ae1\" y=\"114.204472\"/>\r\n    </g>\r\n   </g>\r\n   <g id=\"PathCollection_56\">\r\n    <g clip-path=\"url(#p69738a9a0f)\">\r\n     <use style=\"fill:#808080;stroke:#808080;\" x=\"263.122061\" xlink:href=\"#m2f2de76ae1\" y=\"88.825569\"/>\r\n    </g>\r\n   </g>\r\n   <g id=\"PathCollection_57\">\r\n    <g clip-path=\"url(#p69738a9a0f)\">\r\n     <use style=\"fill:#808080;stroke:#808080;\" x=\"326.625479\" xlink:href=\"#m2f2de76ae1\" y=\"112.252249\"/>\r\n    </g>\r\n   </g>\r\n   <g id=\"PathCollection_58\">\r\n    <g clip-path=\"url(#p69738a9a0f)\">\r\n     <use style=\"fill:#808080;stroke:#808080;\" x=\"284.289867\" xlink:href=\"#m2f2de76ae1\" y=\"98.586686\"/>\r\n    </g>\r\n   </g>\r\n   <g id=\"PathCollection_59\">\r\n    <g clip-path=\"url(#p69738a9a0f)\">\r\n     <use style=\"fill:#808080;stroke:#808080;\" x=\"287.313839\" xlink:href=\"#m2f2de76ae1\" y=\"82.968899\"/>\r\n    </g>\r\n   </g>\r\n   <g id=\"PathCollection_60\">\r\n    <g clip-path=\"url(#p69738a9a0f)\">\r\n     <use style=\"fill:#808080;stroke:#808080;\" x=\"235.90631\" xlink:href=\"#m2f2de76ae1\" y=\"118.108919\"/>\r\n    </g>\r\n   </g>\r\n   <g id=\"PathCollection_61\">\r\n    <defs>\r\n     <path d=\"M 0 3 \r\nC 0.795609 3 1.55874 2.683901 2.12132 2.12132 \r\nC 2.683901 1.55874 3 0.795609 3 0 \r\nC 3 -0.795609 2.683901 -1.55874 2.12132 -2.12132 \r\nC 1.55874 -2.683901 0.795609 -3 0 -3 \r\nC -0.795609 -3 -1.55874 -2.683901 -2.12132 -2.12132 \r\nC -2.683901 -1.55874 -3 -0.795609 -3 0 \r\nC -3 0.795609 -2.683901 1.55874 -2.12132 2.12132 \r\nC -1.55874 2.683901 -0.795609 3 0 3 \r\nz\r\n\" id=\"m8b85f93e83\" style=\"stroke:#000000;\"/>\r\n    </defs>\r\n    <g clip-path=\"url(#p69738a9a0f)\">\r\n     <use style=\"stroke:#000000;\" x=\"296.385756\" xlink:href=\"#m8b85f93e83\" y=\"43.924433\"/>\r\n    </g>\r\n   </g>\r\n   <g id=\"PathCollection_62\">\r\n    <g clip-path=\"url(#p69738a9a0f)\">\r\n     <use style=\"stroke:#000000;\" x=\"341.74534\" xlink:href=\"#m8b85f93e83\" y=\"67.351113\"/>\r\n    </g>\r\n   </g>\r\n   <g id=\"PathCollection_63\">\r\n    <g clip-path=\"url(#p69738a9a0f)\">\r\n     <use style=\"stroke:#000000;\" x=\"284.289867\" xlink:href=\"#m8b85f93e83\" y=\"36.11554\"/>\r\n    </g>\r\n   </g>\r\n   <g id=\"PathCollection_64\">\r\n    <g clip-path=\"url(#p69738a9a0f)\">\r\n     <use style=\"stroke:#000000;\" x=\"350.817257\" xlink:href=\"#m8b85f93e83\" y=\"34.163316\"/>\r\n    </g>\r\n   </g>\r\n   <g id=\"PathCollection_65\">\r\n    <g clip-path=\"url(#p69738a9a0f)\">\r\n     <use style=\"stroke:#000000;\" x=\"317.553562\" xlink:href=\"#m8b85f93e83\" y=\"53.685549\"/>\r\n    </g>\r\n   </g>\r\n   <g id=\"PathCollection_66\">\r\n    <g clip-path=\"url(#p69738a9a0f)\">\r\n     <use style=\"stroke:#000000;\" x=\"335.697396\" xlink:href=\"#m8b85f93e83\" y=\"82.968899\"/>\r\n    </g>\r\n   </g>\r\n   <g id=\"PathCollection_67\">\r\n    <g clip-path=\"url(#p69738a9a0f)\">\r\n     <use style=\"stroke:#000000;\" x=\"347.793285\" xlink:href=\"#m8b85f93e83\" y=\"22.449976\"/>\r\n    </g>\r\n   </g>\r\n   <g id=\"PathCollection_68\">\r\n    <g clip-path=\"url(#p69738a9a0f)\">\r\n     <use style=\"stroke:#000000;\" x=\"335.697396\" xlink:href=\"#m8b85f93e83\" y=\"28.306646\"/>\r\n    </g>\r\n   </g>\r\n   <g id=\"PathCollection_69\">\r\n    <g clip-path=\"url(#p69738a9a0f)\">\r\n     <use style=\"stroke:#000000;\" x=\"314.52959\" xlink:href=\"#m8b85f93e83\" y=\"32.211093\"/>\r\n    </g>\r\n   </g>\r\n   <g id=\"PathCollection_70\">\r\n    <g clip-path=\"url(#p69738a9a0f)\">\r\n     <use style=\"stroke:#000000;\" x=\"275.21795\" xlink:href=\"#m8b85f93e83\" y=\"24.4022\"/>\r\n    </g>\r\n   </g>\r\n   <g id=\"PathCollection_71\">\r\n    <g clip-path=\"url(#p69738a9a0f)\">\r\n     <use style=\"stroke:#000000;\" x=\"269.170006\" xlink:href=\"#m8b85f93e83\" y=\"32.211093\"/>\r\n    </g>\r\n   </g>\r\n   <g id=\"PathCollection_72\">\r\n    <g clip-path=\"url(#p69738a9a0f)\">\r\n     <use style=\"stroke:#000000;\" x=\"323.601507\" xlink:href=\"#m8b85f93e83\" y=\"69.303336\"/>\r\n    </g>\r\n   </g>\r\n   <g id=\"PathCollection_73\">\r\n    <defs>\r\n     <path d=\"M 0 3 \r\nC 0.795609 3 1.55874 2.683901 2.12132 2.12132 \r\nC 2.683901 1.55874 3 0.795609 3 0 \r\nC 3 -0.795609 2.683901 -1.55874 2.12132 -2.12132 \r\nC 1.55874 -2.683901 0.795609 -3 0 -3 \r\nC -0.795609 -3 -1.55874 -2.683901 -2.12132 -2.12132 \r\nC -2.683901 -1.55874 -3 -0.795609 -3 0 \r\nC -3 0.795609 -2.683901 1.55874 -2.12132 2.12132 \r\nC -1.55874 2.683901 -0.795609 3 0 3 \r\nz\r\n\" id=\"ma5d5d14fa4\" style=\"stroke:#ffff00;\"/>\r\n    </defs>\r\n    <g clip-path=\"url(#p69738a9a0f)\">\r\n     <use style=\"fill:#ffff00;stroke:#ffff00;\" x=\"151.235087\" xlink:href=\"#ma5d5d14fa4\" y=\"153.248939\"/>\r\n    </g>\r\n   </g>\r\n   <g id=\"PathCollection_74\">\r\n    <g clip-path=\"url(#p69738a9a0f)\">\r\n     <use style=\"fill:#ffff00;stroke:#ffff00;\" x=\"93.779613\" xlink:href=\"#ma5d5d14fa4\" y=\"123.965589\"/>\r\n    </g>\r\n   </g>\r\n   <g id=\"PathCollection_75\">\r\n    <g clip-path=\"url(#p69738a9a0f)\">\r\n     <use style=\"fill:#ffff00;stroke:#ffff00;\" x=\"102.85153\" xlink:href=\"#ma5d5d14fa4\" y=\"164.962279\"/>\r\n    </g>\r\n   </g>\r\n   <g id=\"PathCollection_76\">\r\n    <g clip-path=\"url(#p69738a9a0f)\">\r\n     <use style=\"fill:#ffff00;stroke:#ffff00;\" x=\"90.755641\" xlink:href=\"#ma5d5d14fa4\" y=\"123.965589\"/>\r\n    </g>\r\n   </g>\r\n   <g id=\"PathCollection_77\">\r\n    <g clip-path=\"url(#p69738a9a0f)\">\r\n     <use style=\"fill:#ffff00;stroke:#ffff00;\" x=\"78.659752\" xlink:href=\"#ma5d5d14fa4\" y=\"145.440045\"/>\r\n    </g>\r\n   </g>\r\n   <g id=\"PathCollection_78\">\r\n    <g clip-path=\"url(#p69738a9a0f)\">\r\n     <use style=\"fill:#ffff00;stroke:#ffff00;\" x=\"57.491946\" xlink:href=\"#ma5d5d14fa4\" y=\"196.197852\"/>\r\n    </g>\r\n   </g>\r\n   <g id=\"PathCollection_79\">\r\n    <g clip-path=\"url(#p69738a9a0f)\">\r\n     <use style=\"fill:#ffff00;stroke:#ffff00;\" x=\"139.139197\" xlink:href=\"#ma5d5d14fa4\" y=\"188.388958\"/>\r\n    </g>\r\n   </g>\r\n   <g id=\"PathCollection_80\">\r\n    <g clip-path=\"url(#p69738a9a0f)\">\r\n     <use style=\"fill:#ffff00;stroke:#ffff00;\" x=\"139.139197\" xlink:href=\"#ma5d5d14fa4\" y=\"120.061142\"/>\r\n    </g>\r\n   </g>\r\n   <g id=\"PathCollection_81\">\r\n    <g clip-path=\"url(#p69738a9a0f)\">\r\n     <use style=\"fill:#ffff00;stroke:#ffff00;\" x=\"148.211114\" xlink:href=\"#ma5d5d14fa4\" y=\"129.822259\"/>\r\n    </g>\r\n   </g>\r\n   <g id=\"PathCollection_82\">\r\n    <g clip-path=\"url(#p69738a9a0f)\">\r\n     <use style=\"fill:#ffff00;stroke:#ffff00;\" x=\"124.019336\" xlink:href=\"#ma5d5d14fa4\" y=\"131.774482\"/>\r\n    </g>\r\n   </g>\r\n   <g id=\"PathCollection_83\">\r\n    <g clip-path=\"url(#p69738a9a0f)\">\r\n     <use style=\"fill:#ffff00;stroke:#ffff00;\" x=\"81.683724\" xlink:href=\"#ma5d5d14fa4\" y=\"147.392269\"/>\r\n    </g>\r\n   </g>\r\n   <g id=\"PathCollection_84\">\r\n    <g clip-path=\"url(#p69738a9a0f)\">\r\n     <use style=\"fill:#ffff00;stroke:#ffff00;\" x=\"166.354948\" xlink:href=\"#ma5d5d14fa4\" y=\"153.248939\"/>\r\n    </g>\r\n   </g>\r\n   <g id=\"PathCollection_85\">\r\n    <g clip-path=\"url(#p69738a9a0f)\">\r\n     <use style=\"fill:#ffff00;stroke:#ffff00;\" x=\"124.019336\" xlink:href=\"#ma5d5d14fa4\" y=\"125.917812\"/>\r\n    </g>\r\n   </g>\r\n   <g id=\"PathCollection_86\">\r\n    <g clip-path=\"url(#p69738a9a0f)\">\r\n     <use style=\"fill:#ffff00;stroke:#ffff00;\" x=\"72.611807\" xlink:href=\"#ma5d5d14fa4\" y=\"211.815638\"/>\r\n    </g>\r\n   </g>\r\n   <g id=\"PathCollection_87\">\r\n    <g clip-path=\"url(#p69738a9a0f)\">\r\n     <use style=\"fill:#ffff00;stroke:#ffff00;\" x=\"166.354948\" xlink:href=\"#ma5d5d14fa4\" y=\"120.061142\"/>\r\n    </g>\r\n   </g>\r\n   <g id=\"PathCollection_88\">\r\n    <g clip-path=\"url(#p69738a9a0f)\">\r\n     <use style=\"fill:#ffff00;stroke:#ffff00;\" x=\"90.755641\" xlink:href=\"#ma5d5d14fa4\" y=\"178.627842\"/>\r\n    </g>\r\n   </g>\r\n   <g id=\"PathCollection_89\">\r\n    <g clip-path=\"url(#p69738a9a0f)\">\r\n     <use style=\"fill:#ffff00;stroke:#ffff00;\" x=\"139.139197\" xlink:href=\"#ma5d5d14fa4\" y=\"129.822259\"/>\r\n    </g>\r\n   </g>\r\n   <g id=\"PathCollection_90\">\r\n    <defs>\r\n     <path d=\"M 0 3 \r\nC 0.795609 3 1.55874 2.683901 2.12132 2.12132 \r\nC 2.683901 1.55874 3 0.795609 3 0 \r\nC 3 -0.795609 2.683901 -1.55874 2.12132 -2.12132 \r\nC 1.55874 -2.683901 0.795609 -3 0 -3 \r\nC -0.795609 -3 -1.55874 -2.683901 -2.12132 -2.12132 \r\nC -2.683901 -1.55874 -3 -0.795609 -3 0 \r\nC -3 0.795609 -2.683901 1.55874 -2.12132 2.12132 \r\nC -1.55874 2.683901 -0.795609 3 0 3 \r\nz\r\n\" id=\"ma7099e7945\" style=\"stroke:#ffa500;\"/>\r\n    </defs>\r\n    <g clip-path=\"url(#p69738a9a0f)\">\r\n     <use style=\"fill:#ffa500;stroke:#ffa500;\" x=\"63.53989\" xlink:href=\"#ma7099e7945\" y=\"90.777793\"/>\r\n    </g>\r\n   </g>\r\n   <g id=\"PathCollection_91\">\r\n    <g clip-path=\"url(#p69738a9a0f)\">\r\n     <use style=\"fill:#ffa500;stroke:#ffa500;\" x=\"87.731669\" xlink:href=\"#ma7099e7945\" y=\"98.586686\"/>\r\n    </g>\r\n   </g>\r\n   <g id=\"PathCollection_92\">\r\n    <g clip-path=\"url(#p69738a9a0f)\">\r\n     <use style=\"fill:#ffa500;stroke:#ffa500;\" x=\"96.803586\" xlink:href=\"#ma7099e7945\" y=\"92.730016\"/>\r\n    </g>\r\n   </g>\r\n   <g id=\"PathCollection_93\">\r\n    <g clip-path=\"url(#p69738a9a0f)\">\r\n     <use style=\"fill:#ffa500;stroke:#ffa500;\" x=\"90.755641\" xlink:href=\"#ma7099e7945\" y=\"79.064453\"/>\r\n    </g>\r\n   </g>\r\n   <g id=\"PathCollection_94\">\r\n    <g clip-path=\"url(#p69738a9a0f)\">\r\n     <use style=\"fill:#ffa500;stroke:#ffa500;\" x=\"51.444001\" xlink:href=\"#ma7099e7945\" y=\"65.398889\"/>\r\n    </g>\r\n   </g>\r\n   <g id=\"PathCollection_95\">\r\n    <g clip-path=\"url(#p69738a9a0f)\">\r\n     <use style=\"fill:#ffa500;stroke:#ffa500;\" x=\"114.947419\" xlink:href=\"#ma7099e7945\" y=\"38.067763\"/>\r\n    </g>\r\n   </g>\r\n   <g id=\"PathCollection_96\">\r\n    <g clip-path=\"url(#p69738a9a0f)\">\r\n     <use style=\"fill:#ffa500;stroke:#ffa500;\" x=\"78.659752\" xlink:href=\"#ma7099e7945\" y=\"88.825569\"/>\r\n    </g>\r\n   </g>\r\n   <g id=\"PathCollection_97\">\r\n    <g clip-path=\"url(#p69738a9a0f)\">\r\n     <use style=\"fill:#ffa500;stroke:#ffa500;\" x=\"57.491946\" xlink:href=\"#ma7099e7945\" y=\"81.016676\"/>\r\n    </g>\r\n   </g>\r\n   <g id=\"PathCollection_98\">\r\n    <g clip-path=\"url(#p69738a9a0f)\">\r\n     <use style=\"fill:#ffa500;stroke:#ffa500;\" x=\"90.755641\" xlink:href=\"#ma7099e7945\" y=\"82.968899\"/>\r\n    </g>\r\n   </g>\r\n   <g id=\"PathCollection_99\">\r\n    <g clip-path=\"url(#p69738a9a0f)\">\r\n     <use style=\"fill:#ffa500;stroke:#ffa500;\" x=\"99.827558\" xlink:href=\"#ma7099e7945\" y=\"75.160006\"/>\r\n    </g>\r\n   </g>\r\n   <g id=\"PathCollection_100\">\r\n    <g clip-path=\"url(#p69738a9a0f)\">\r\n     <use style=\"fill:#ffa500;stroke:#ffa500;\" x=\"114.947419\" xlink:href=\"#ma7099e7945\" y=\"55.637773\"/>\r\n    </g>\r\n   </g>\r\n   <g id=\"PathCollection_101\">\r\n    <defs>\r\n     <path d=\"M 0 5 \r\nC 1.326016 5 2.597899 4.473168 3.535534 3.535534 \r\nC 4.473168 2.597899 5 1.326016 5 0 \r\nC 5 -1.326016 4.473168 -2.597899 3.535534 -3.535534 \r\nC 2.597899 -4.473168 1.326016 -5 0 -5 \r\nC -1.326016 -5 -2.597899 -4.473168 -3.535534 -3.535534 \r\nC -4.473168 -2.597899 -5 -1.326016 -5 0 \r\nC -5 1.326016 -4.473168 2.597899 -3.535534 3.535534 \r\nC -2.597899 4.473168 -1.326016 5 0 5 \r\nz\r\n\" id=\"m7bb40e2c40\" style=\"stroke:#1f77b4;\"/>\r\n    </defs>\r\n    <g clip-path=\"url(#p69738a9a0f)\">\r\n     <use style=\"fill:#1f77b4;stroke:#1f77b4;\" x=\"273.403567\" xlink:href=\"#m7bb40e2c40\" y=\"113.228361\"/>\r\n    </g>\r\n   </g>\r\n   <g id=\"PathCollection_102\">\r\n    <defs>\r\n     <path d=\"M 0 5 \r\nC 1.326016 5 2.597899 4.473168 3.535534 3.535534 \r\nC 4.473168 2.597899 5 1.326016 5 0 \r\nC 5 -1.326016 4.473168 -2.597899 3.535534 -3.535534 \r\nC 2.597899 -4.473168 1.326016 -5 0 -5 \r\nC -1.326016 -5 -2.597899 -4.473168 -3.535534 -3.535534 \r\nC -4.473168 -2.597899 -5 -1.326016 -5 0 \r\nC -5 1.326016 -4.473168 2.597899 -3.535534 3.535534 \r\nC -2.597899 4.473168 -1.326016 5 0 5 \r\nz\r\n\" id=\"mf9251a9303\" style=\"stroke:#ff7f0e;\"/>\r\n    </defs>\r\n    <g clip-path=\"url(#p69738a9a0f)\">\r\n     <use style=\"fill:#ff7f0e;stroke:#ff7f0e;\" x=\"86.082229\" xlink:href=\"#mf9251a9303\" y=\"77.112229\"/>\r\n    </g>\r\n   </g>\r\n   <g id=\"PathCollection_103\">\r\n    <defs>\r\n     <path d=\"M 0 5 \r\nC 1.326016 5 2.597899 4.473168 3.535534 3.535534 \r\nC 4.473168 2.597899 5 1.326016 5 0 \r\nC 5 -1.326016 4.473168 -2.597899 3.535534 -3.535534 \r\nC 2.597899 -4.473168 1.326016 -5 0 -5 \r\nC -1.326016 -5 -2.597899 -4.473168 -3.535534 -3.535534 \r\nC -4.473168 -2.597899 -5 -1.326016 -5 0 \r\nC -5 1.326016 -4.473168 2.597899 -3.535534 3.535534 \r\nC -2.597899 4.473168 -1.326016 5 0 5 \r\nz\r\n\" id=\"mc52c937ab5\" style=\"stroke:#2ca02c;\"/>\r\n    </defs>\r\n    <g clip-path=\"url(#p69738a9a0f)\">\r\n     <use style=\"fill:#2ca02c;stroke:#2ca02c;\" x=\"249.850183\" xlink:href=\"#mc52c937ab5\" y=\"187.195933\"/>\r\n    </g>\r\n   </g>\r\n   <g id=\"PathCollection_104\">\r\n    <defs>\r\n     <path d=\"M 0 5 \r\nC 1.326016 5 2.597899 4.473168 3.535534 3.535534 \r\nC 4.473168 2.597899 5 1.326016 5 0 \r\nC 5 -1.326016 4.473168 -2.597899 3.535534 -3.535534 \r\nC 2.597899 -4.473168 1.326016 -5 0 -5 \r\nC -1.326016 -5 -2.597899 -4.473168 -3.535534 -3.535534 \r\nC -4.473168 -2.597899 -5 -1.326016 -5 0 \r\nC -5 1.326016 -4.473168 2.597899 -3.535534 3.535534 \r\nC -2.597899 4.473168 -1.326016 5 0 5 \r\nz\r\n\" id=\"m04287d4fcf\" style=\"stroke:#d62728;\"/>\r\n    </defs>\r\n    <g clip-path=\"url(#p69738a9a0f)\">\r\n     <use style=\"fill:#d62728;stroke:#d62728;\" x=\"195.632498\" xlink:href=\"#m04287d4fcf\" y=\"67.617325\"/>\r\n    </g>\r\n   </g>\r\n   <g id=\"PathCollection_105\">\r\n    <defs>\r\n     <path d=\"M 0 5 \r\nC 1.326016 5 2.597899 4.473168 3.535534 3.535534 \r\nC 4.473168 2.597899 5 1.326016 5 0 \r\nC 5 -1.326016 4.473168 -2.597899 3.535534 -3.535534 \r\nC 2.597899 -4.473168 1.326016 -5 0 -5 \r\nC -1.326016 -5 -2.597899 -4.473168 -3.535534 -3.535534 \r\nC -4.473168 -2.597899 -5 -1.326016 -5 0 \r\nC -5 1.326016 -4.473168 2.597899 -3.535534 3.535534 \r\nC -2.597899 4.473168 -1.326016 5 0 5 \r\nz\r\n\" id=\"m1ccabe66bc\" style=\"stroke:#9467bd;\"/>\r\n    </defs>\r\n    <g clip-path=\"url(#p69738a9a0f)\">\r\n     <use style=\"fill:#9467bd;stroke:#9467bd;\" x=\"115.658942\" xlink:href=\"#m1ccabe66bc\" y=\"149.689002\"/>\r\n    </g>\r\n   </g>\r\n   <g id=\"PathCollection_106\">\r\n    <defs>\r\n     <path d=\"M 0 5 \r\nC 1.326016 5 2.597899 4.473168 3.535534 3.535534 \r\nC 4.473168 2.597899 5 1.326016 5 0 \r\nC 5 -1.326016 4.473168 -2.597899 3.535534 -3.535534 \r\nC 2.597899 -4.473168 1.326016 -5 0 -5 \r\nC -1.326016 -5 -2.597899 -4.473168 -3.535534 -3.535534 \r\nC -4.473168 -2.597899 -5 -1.326016 -5 0 \r\nC -5 1.326016 -4.473168 2.597899 -3.535534 3.535534 \r\nC -2.597899 4.473168 -1.326016 5 0 5 \r\nz\r\n\" id=\"m1a11d94214\" style=\"stroke:#8c564b;\"/>\r\n    </defs>\r\n    <g clip-path=\"url(#p69738a9a0f)\">\r\n     <use style=\"fill:#8c564b;stroke:#8c564b;\" x=\"316.041576\" xlink:href=\"#m1a11d94214\" y=\"43.924433\"/>\r\n    </g>\r\n   </g>\r\n   <g id=\"matplotlib.axis_1\">\r\n    <g id=\"xtick_1\">\r\n     <g id=\"line2d_1\">\r\n      <defs>\r\n       <path d=\"M 0 0 \r\nL 0 3.5 \r\n\" id=\"mb5488b49f8\" style=\"stroke:#000000;stroke-width:0.8;\"/>\r\n      </defs>\r\n      <g>\r\n       <use style=\"stroke:#000000;stroke-width:0.8;\" x=\"51.444001\" xlink:href=\"#mb5488b49f8\" y=\"224.64\"/>\r\n      </g>\r\n     </g>\r\n     <g id=\"text_1\">\r\n      <!-- 0 -->\r\n      <defs>\r\n       <path d=\"M 31.78125 66.40625 \r\nQ 24.171875 66.40625 20.328125 58.90625 \r\nQ 16.5 51.421875 16.5 36.375 \r\nQ 16.5 21.390625 20.328125 13.890625 \r\nQ 24.171875 6.390625 31.78125 6.390625 \r\nQ 39.453125 6.390625 43.28125 13.890625 \r\nQ 47.125 21.390625 47.125 36.375 \r\nQ 47.125 51.421875 43.28125 58.90625 \r\nQ 39.453125 66.40625 31.78125 66.40625 \r\nz\r\nM 31.78125 74.21875 \r\nQ 44.046875 74.21875 50.515625 64.515625 \r\nQ 56.984375 54.828125 56.984375 36.375 \r\nQ 56.984375 17.96875 50.515625 8.265625 \r\nQ 44.046875 -1.421875 31.78125 -1.421875 \r\nQ 19.53125 -1.421875 13.0625 8.265625 \r\nQ 6.59375 17.96875 6.59375 36.375 \r\nQ 6.59375 54.828125 13.0625 64.515625 \r\nQ 19.53125 74.21875 31.78125 74.21875 \r\nz\r\n\" id=\"DejaVuSans-48\"/>\r\n      </defs>\r\n      <g transform=\"translate(48.262751 239.238437)scale(0.1 -0.1)\">\r\n       <use xlink:href=\"#DejaVuSans-48\"/>\r\n      </g>\r\n     </g>\r\n    </g>\r\n    <g id=\"xtick_2\">\r\n     <g id=\"line2d_2\">\r\n      <g>\r\n       <use style=\"stroke:#000000;stroke-width:0.8;\" x=\"111.923447\" xlink:href=\"#mb5488b49f8\" y=\"224.64\"/>\r\n      </g>\r\n     </g>\r\n     <g id=\"text_2\">\r\n      <!-- 20 -->\r\n      <defs>\r\n       <path d=\"M 19.1875 8.296875 \r\nL 53.609375 8.296875 \r\nL 53.609375 0 \r\nL 7.328125 0 \r\nL 7.328125 8.296875 \r\nQ 12.9375 14.109375 22.625 23.890625 \r\nQ 32.328125 33.6875 34.8125 36.53125 \r\nQ 39.546875 41.84375 41.421875 45.53125 \r\nQ 43.3125 49.21875 43.3125 52.78125 \r\nQ 43.3125 58.59375 39.234375 62.25 \r\nQ 35.15625 65.921875 28.609375 65.921875 \r\nQ 23.96875 65.921875 18.8125 64.3125 \r\nQ 13.671875 62.703125 7.8125 59.421875 \r\nL 7.8125 69.390625 \r\nQ 13.765625 71.78125 18.9375 73 \r\nQ 24.125 74.21875 28.421875 74.21875 \r\nQ 39.75 74.21875 46.484375 68.546875 \r\nQ 53.21875 62.890625 53.21875 53.421875 \r\nQ 53.21875 48.921875 51.53125 44.890625 \r\nQ 49.859375 40.875 45.40625 35.40625 \r\nQ 44.1875 33.984375 37.640625 27.21875 \r\nQ 31.109375 20.453125 19.1875 8.296875 \r\nz\r\n\" id=\"DejaVuSans-50\"/>\r\n      </defs>\r\n      <g transform=\"translate(105.560947 239.238437)scale(0.1 -0.1)\">\r\n       <use xlink:href=\"#DejaVuSans-50\"/>\r\n       <use x=\"63.623047\" xlink:href=\"#DejaVuSans-48\"/>\r\n      </g>\r\n     </g>\r\n    </g>\r\n    <g id=\"xtick_3\">\r\n     <g id=\"line2d_3\">\r\n      <g>\r\n       <use style=\"stroke:#000000;stroke-width:0.8;\" x=\"172.402893\" xlink:href=\"#mb5488b49f8\" y=\"224.64\"/>\r\n      </g>\r\n     </g>\r\n     <g id=\"text_3\">\r\n      <!-- 40 -->\r\n      <defs>\r\n       <path d=\"M 37.796875 64.3125 \r\nL 12.890625 25.390625 \r\nL 37.796875 25.390625 \r\nz\r\nM 35.203125 72.90625 \r\nL 47.609375 72.90625 \r\nL 47.609375 25.390625 \r\nL 58.015625 25.390625 \r\nL 58.015625 17.1875 \r\nL 47.609375 17.1875 \r\nL 47.609375 0 \r\nL 37.796875 0 \r\nL 37.796875 17.1875 \r\nL 4.890625 17.1875 \r\nL 4.890625 26.703125 \r\nz\r\n\" id=\"DejaVuSans-52\"/>\r\n      </defs>\r\n      <g transform=\"translate(166.040393 239.238437)scale(0.1 -0.1)\">\r\n       <use xlink:href=\"#DejaVuSans-52\"/>\r\n       <use x=\"63.623047\" xlink:href=\"#DejaVuSans-48\"/>\r\n      </g>\r\n     </g>\r\n    </g>\r\n    <g id=\"xtick_4\">\r\n     <g id=\"line2d_4\">\r\n      <g>\r\n       <use style=\"stroke:#000000;stroke-width:0.8;\" x=\"232.882338\" xlink:href=\"#mb5488b49f8\" y=\"224.64\"/>\r\n      </g>\r\n     </g>\r\n     <g id=\"text_4\">\r\n      <!-- 60 -->\r\n      <defs>\r\n       <path d=\"M 33.015625 40.375 \r\nQ 26.375 40.375 22.484375 35.828125 \r\nQ 18.609375 31.296875 18.609375 23.390625 \r\nQ 18.609375 15.53125 22.484375 10.953125 \r\nQ 26.375 6.390625 33.015625 6.390625 \r\nQ 39.65625 6.390625 43.53125 10.953125 \r\nQ 47.40625 15.53125 47.40625 23.390625 \r\nQ 47.40625 31.296875 43.53125 35.828125 \r\nQ 39.65625 40.375 33.015625 40.375 \r\nz\r\nM 52.59375 71.296875 \r\nL 52.59375 62.3125 \r\nQ 48.875 64.0625 45.09375 64.984375 \r\nQ 41.3125 65.921875 37.59375 65.921875 \r\nQ 27.828125 65.921875 22.671875 59.328125 \r\nQ 17.53125 52.734375 16.796875 39.40625 \r\nQ 19.671875 43.65625 24.015625 45.921875 \r\nQ 28.375 48.1875 33.59375 48.1875 \r\nQ 44.578125 48.1875 50.953125 41.515625 \r\nQ 57.328125 34.859375 57.328125 23.390625 \r\nQ 57.328125 12.15625 50.6875 5.359375 \r\nQ 44.046875 -1.421875 33.015625 -1.421875 \r\nQ 20.359375 -1.421875 13.671875 8.265625 \r\nQ 6.984375 17.96875 6.984375 36.375 \r\nQ 6.984375 53.65625 15.1875 63.9375 \r\nQ 23.390625 74.21875 37.203125 74.21875 \r\nQ 40.921875 74.21875 44.703125 73.484375 \r\nQ 48.484375 72.75 52.59375 71.296875 \r\nz\r\n\" id=\"DejaVuSans-54\"/>\r\n      </defs>\r\n      <g transform=\"translate(226.519838 239.238437)scale(0.1 -0.1)\">\r\n       <use xlink:href=\"#DejaVuSans-54\"/>\r\n       <use x=\"63.623047\" xlink:href=\"#DejaVuSans-48\"/>\r\n      </g>\r\n     </g>\r\n    </g>\r\n    <g id=\"xtick_5\">\r\n     <g id=\"line2d_5\">\r\n      <g>\r\n       <use style=\"stroke:#000000;stroke-width:0.8;\" x=\"293.361784\" xlink:href=\"#mb5488b49f8\" y=\"224.64\"/>\r\n      </g>\r\n     </g>\r\n     <g id=\"text_5\">\r\n      <!-- 80 -->\r\n      <defs>\r\n       <path d=\"M 31.78125 34.625 \r\nQ 24.75 34.625 20.71875 30.859375 \r\nQ 16.703125 27.09375 16.703125 20.515625 \r\nQ 16.703125 13.921875 20.71875 10.15625 \r\nQ 24.75 6.390625 31.78125 6.390625 \r\nQ 38.8125 6.390625 42.859375 10.171875 \r\nQ 46.921875 13.96875 46.921875 20.515625 \r\nQ 46.921875 27.09375 42.890625 30.859375 \r\nQ 38.875 34.625 31.78125 34.625 \r\nz\r\nM 21.921875 38.8125 \r\nQ 15.578125 40.375 12.03125 44.71875 \r\nQ 8.5 49.078125 8.5 55.328125 \r\nQ 8.5 64.0625 14.71875 69.140625 \r\nQ 20.953125 74.21875 31.78125 74.21875 \r\nQ 42.671875 74.21875 48.875 69.140625 \r\nQ 55.078125 64.0625 55.078125 55.328125 \r\nQ 55.078125 49.078125 51.53125 44.71875 \r\nQ 48 40.375 41.703125 38.8125 \r\nQ 48.828125 37.15625 52.796875 32.3125 \r\nQ 56.78125 27.484375 56.78125 20.515625 \r\nQ 56.78125 9.90625 50.3125 4.234375 \r\nQ 43.84375 -1.421875 31.78125 -1.421875 \r\nQ 19.734375 -1.421875 13.25 4.234375 \r\nQ 6.78125 9.90625 6.78125 20.515625 \r\nQ 6.78125 27.484375 10.78125 32.3125 \r\nQ 14.796875 37.15625 21.921875 38.8125 \r\nz\r\nM 18.3125 54.390625 \r\nQ 18.3125 48.734375 21.84375 45.5625 \r\nQ 25.390625 42.390625 31.78125 42.390625 \r\nQ 38.140625 42.390625 41.71875 45.5625 \r\nQ 45.3125 48.734375 45.3125 54.390625 \r\nQ 45.3125 60.0625 41.71875 63.234375 \r\nQ 38.140625 66.40625 31.78125 66.40625 \r\nQ 25.390625 66.40625 21.84375 63.234375 \r\nQ 18.3125 60.0625 18.3125 54.390625 \r\nz\r\n\" id=\"DejaVuSans-56\"/>\r\n      </defs>\r\n      <g transform=\"translate(286.999284 239.238437)scale(0.1 -0.1)\">\r\n       <use xlink:href=\"#DejaVuSans-56\"/>\r\n       <use x=\"63.623047\" xlink:href=\"#DejaVuSans-48\"/>\r\n      </g>\r\n     </g>\r\n    </g>\r\n    <g id=\"xtick_6\">\r\n     <g id=\"line2d_6\">\r\n      <g>\r\n       <use style=\"stroke:#000000;stroke-width:0.8;\" x=\"353.841229\" xlink:href=\"#mb5488b49f8\" y=\"224.64\"/>\r\n      </g>\r\n     </g>\r\n     <g id=\"text_6\">\r\n      <!-- 100 -->\r\n      <defs>\r\n       <path d=\"M 12.40625 8.296875 \r\nL 28.515625 8.296875 \r\nL 28.515625 63.921875 \r\nL 10.984375 60.40625 \r\nL 10.984375 69.390625 \r\nL 28.421875 72.90625 \r\nL 38.28125 72.90625 \r\nL 38.28125 8.296875 \r\nL 54.390625 8.296875 \r\nL 54.390625 0 \r\nL 12.40625 0 \r\nz\r\n\" id=\"DejaVuSans-49\"/>\r\n      </defs>\r\n      <g transform=\"translate(344.297479 239.238437)scale(0.1 -0.1)\">\r\n       <use xlink:href=\"#DejaVuSans-49\"/>\r\n       <use x=\"63.623047\" xlink:href=\"#DejaVuSans-48\"/>\r\n       <use x=\"127.246094\" xlink:href=\"#DejaVuSans-48\"/>\r\n      </g>\r\n     </g>\r\n    </g>\r\n   </g>\r\n   <g id=\"matplotlib.axis_2\">\r\n    <g id=\"ytick_1\">\r\n     <g id=\"line2d_7\">\r\n      <defs>\r\n       <path d=\"M 0 0 \r\nL -3.5 0 \r\n\" id=\"mbabe92a403\" style=\"stroke:#000000;stroke-width:0.8;\"/>\r\n      </defs>\r\n      <g>\r\n       <use style=\"stroke:#000000;stroke-width:0.8;\" x=\"33.2875\" xlink:href=\"#mbabe92a403\" y=\"213.767862\"/>\r\n      </g>\r\n     </g>\r\n     <g id=\"text_7\">\r\n      <!-- 0 -->\r\n      <g transform=\"translate(19.925 217.56708)scale(0.1 -0.1)\">\r\n       <use xlink:href=\"#DejaVuSans-48\"/>\r\n      </g>\r\n     </g>\r\n    </g>\r\n    <g id=\"ytick_2\">\r\n     <g id=\"line2d_8\">\r\n      <g>\r\n       <use style=\"stroke:#000000;stroke-width:0.8;\" x=\"33.2875\" xlink:href=\"#mbabe92a403\" y=\"174.723395\"/>\r\n      </g>\r\n     </g>\r\n     <g id=\"text_8\">\r\n      <!-- 20 -->\r\n      <g transform=\"translate(13.5625 178.522614)scale(0.1 -0.1)\">\r\n       <use xlink:href=\"#DejaVuSans-50\"/>\r\n       <use x=\"63.623047\" xlink:href=\"#DejaVuSans-48\"/>\r\n      </g>\r\n     </g>\r\n    </g>\r\n    <g id=\"ytick_3\">\r\n     <g id=\"line2d_9\">\r\n      <g>\r\n       <use style=\"stroke:#000000;stroke-width:0.8;\" x=\"33.2875\" xlink:href=\"#mbabe92a403\" y=\"135.678929\"/>\r\n      </g>\r\n     </g>\r\n     <g id=\"text_9\">\r\n      <!-- 40 -->\r\n      <g transform=\"translate(13.5625 139.478148)scale(0.1 -0.1)\">\r\n       <use xlink:href=\"#DejaVuSans-52\"/>\r\n       <use x=\"63.623047\" xlink:href=\"#DejaVuSans-48\"/>\r\n      </g>\r\n     </g>\r\n    </g>\r\n    <g id=\"ytick_4\">\r\n     <g id=\"line2d_10\">\r\n      <g>\r\n       <use style=\"stroke:#000000;stroke-width:0.8;\" x=\"33.2875\" xlink:href=\"#mbabe92a403\" y=\"96.634462\"/>\r\n      </g>\r\n     </g>\r\n     <g id=\"text_10\">\r\n      <!-- 60 -->\r\n      <g transform=\"translate(13.5625 100.433681)scale(0.1 -0.1)\">\r\n       <use xlink:href=\"#DejaVuSans-54\"/>\r\n       <use x=\"63.623047\" xlink:href=\"#DejaVuSans-48\"/>\r\n      </g>\r\n     </g>\r\n    </g>\r\n    <g id=\"ytick_5\">\r\n     <g id=\"line2d_11\">\r\n      <g>\r\n       <use style=\"stroke:#000000;stroke-width:0.8;\" x=\"33.2875\" xlink:href=\"#mbabe92a403\" y=\"57.589996\"/>\r\n      </g>\r\n     </g>\r\n     <g id=\"text_11\">\r\n      <!-- 80 -->\r\n      <g transform=\"translate(13.5625 61.389215)scale(0.1 -0.1)\">\r\n       <use xlink:href=\"#DejaVuSans-56\"/>\r\n       <use x=\"63.623047\" xlink:href=\"#DejaVuSans-48\"/>\r\n      </g>\r\n     </g>\r\n    </g>\r\n    <g id=\"ytick_6\">\r\n     <g id=\"line2d_12\">\r\n      <g>\r\n       <use style=\"stroke:#000000;stroke-width:0.8;\" x=\"33.2875\" xlink:href=\"#mbabe92a403\" y=\"18.54553\"/>\r\n      </g>\r\n     </g>\r\n     <g id=\"text_12\">\r\n      <!-- 100 -->\r\n      <g transform=\"translate(7.2 22.344749)scale(0.1 -0.1)\">\r\n       <use xlink:href=\"#DejaVuSans-49\"/>\r\n       <use x=\"63.623047\" xlink:href=\"#DejaVuSans-48\"/>\r\n       <use x=\"127.246094\" xlink:href=\"#DejaVuSans-48\"/>\r\n      </g>\r\n     </g>\r\n    </g>\r\n   </g>\r\n   <g id=\"patch_3\">\r\n    <path d=\"M 33.2875 224.64 \r\nL 33.2875 7.2 \r\n\" style=\"fill:none;stroke:#000000;stroke-linecap:square;stroke-linejoin:miter;stroke-width:0.8;\"/>\r\n   </g>\r\n   <g id=\"patch_4\">\r\n    <path d=\"M 368.0875 224.64 \r\nL 368.0875 7.2 \r\n\" style=\"fill:none;stroke:#000000;stroke-linecap:square;stroke-linejoin:miter;stroke-width:0.8;\"/>\r\n   </g>\r\n   <g id=\"patch_5\">\r\n    <path d=\"M 33.2875 224.64 \r\nL 368.0875 224.64 \r\n\" style=\"fill:none;stroke:#000000;stroke-linecap:square;stroke-linejoin:miter;stroke-width:0.8;\"/>\r\n   </g>\r\n   <g id=\"patch_6\">\r\n    <path d=\"M 33.2875 7.2 \r\nL 368.0875 7.2 \r\n\" style=\"fill:none;stroke:#000000;stroke-linecap:square;stroke-linejoin:miter;stroke-width:0.8;\"/>\r\n   </g>\r\n  </g>\r\n </g>\r\n <defs>\r\n  <clipPath id=\"p69738a9a0f\">\r\n   <rect height=\"217.44\" width=\"334.8\" x=\"33.2875\" y=\"7.2\"/>\r\n  </clipPath>\r\n </defs>\r\n</svg>\r\n",
      "text/plain": "<Figure size 432x288 with 1 Axes>"
     },
     "metadata": {
      "needs_background": "light"
     },
     "output_type": "display_data"
    }
   ],
   "source": [
    "color = ['red', 'green', 'grey', 'black', 'yellow', 'orange']\n",
    "\n",
    "for i, c in enumerate(centers):\n",
    "    for location in centers[c]:\n",
    "        plt.scatter(*location, c=color[i])\n",
    "        \n",
    "for center in cluster.cluster_centers_:\n",
    "    plt.scatter(*center, s=100)"
   ]
  },
  {
   "cell_type": "markdown",
   "metadata": {},
   "source": [
    "## Kmeans的计算负责度"
   ]
  },
  {
   "cell_type": "code",
   "execution_count": 142,
   "metadata": {},
   "outputs": [],
   "source": [
    "def distance(): return np.sqrt((x1 - x2) ** 2 + (y1 - y2) ** 2)"
   ]
  },
  {
   "cell_type": "markdown",
   "metadata": {},
   "source": [
    "$$ O(I * N * k * d) $$"
   ]
  },
  {
   "cell_type": "markdown",
   "metadata": {},
   "source": [
    "N: 10000\n",
    "k: 100\n",
    "d: 500\n",
    "I: 500\n",
    "-> 10**(5 + 2 + 2 + 2) => 10^11 => 100个亿"
   ]
  }
 ],
 "metadata": {
  "kernelspec": {
   "display_name": "Python 3",
   "language": "python",
   "name": "python3"
  },
  "language_info": {
   "codemirror_mode": {
    "name": "ipython",
    "version": 3
   },
   "file_extension": ".py",
   "mimetype": "text/x-python",
   "name": "python",
   "nbconvert_exporter": "python",
   "pygments_lexer": "ipython3",
   "version": "3.7.6-final"
  }
 },
 "nbformat": 4,
 "nbformat_minor": 2
}