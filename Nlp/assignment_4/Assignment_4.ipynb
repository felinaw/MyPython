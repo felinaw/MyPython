{
 "cells": [
  {
   "cell_type": "markdown",
   "metadata": {},
   "source": [
    "# Assignment 4"
   ]
  },
  {
   "cell_type": "markdown",
   "metadata": {},
   "source": [
    "### 1. 复习上课内容以及复现课程代码"
   ]
  },
  {
   "cell_type": "markdown",
   "metadata": {},
   "source": [
    "在本部分，你需要复习上课内容和课程代码后，自己复现课程代码。"
   ]
  },
  {
   "cell_type": "markdown",
   "metadata": {},
   "source": [
    "### 2. 回答一下理论题目"
   ]
  },
  {
   "cell_type": "markdown",
   "metadata": {},
   "source": [
    "#### 1. What does a neuron compute?"
   ]
  },
  {
   "cell_type": "markdown",
   "execution_count": 1,
   "metadata": {},
   "outputs": [
    {
     "ename": "SyntaxError",
     "evalue": "invalid syntax (<ipython-input-1-3e0e9a6958f2>, line 1)",
     "output_type": "error",
     "traceback": [
      "\u001b[1;36m  File \u001b[1;32m\"<ipython-input-1-3e0e9a6958f2>\"\u001b[1;36m, line \u001b[1;32m1\u001b[0m\n\u001b[1;33m    Ans:\u001b[0m\n\u001b[1;37m        ^\u001b[0m\n\u001b[1;31mSyntaxError\u001b[0m\u001b[1;31m:\u001b[0m invalid syntax\n"
     ]
    }
   ],
   "source": [
    "Ans:神经元有输入和输出，神经元在接收输入后，经过加工和计算，把计算的结果从输出传输到下一个神经元，以此类推"
   ]
  },
  {
   "cell_type": "markdown",
   "metadata": {},
   "source": [
    "####  2. Why we use non-linear activation funcitons in neural networks?"
   ]
  },
  {
   "cell_type": "markdown",
   "execution_count": null,
   "metadata": {},
   "outputs": [],
   "source": [
    "Ans:如果激活函数也是线性的，经过数学归纳和整理，多层神经网络会被有化成单层神经网络。"
   ]
  },
  {
   "cell_type": "markdown",
   "metadata": {},
   "source": [
    "#### 3. What is the 'Logistic Loss' ?"
   ]
  },
  {
   "cell_type": "markdown",
   "execution_count": null,
   "metadata": {},
   "outputs": [],
   "source": [
    "Ans: logistic Loss为Logistic Regression中使用的损失函数。在Logistic Regression我们使用sigmoid函数把矩阵运算的结果落在0和1之间，就可以简单的理解为输出的概率，概率大于50%就为真，这个结果越接近1，则表明结果越真；概率小于50%就为假，这个结果越接近0，则表明结果越假。\n",
    "\n",
    "通过数学归纳，就得到了Logistic Regression的损失函数logistic Loss，Loss=-(y*log(y_hat) + (1-y)log(1-y_hat))\n",
    "这个函数可以在y_hat越大的时候接近于1，在y_hat越小的时候接近于0"
   ]
  },
  {
   "cell_type": "markdown",
   "metadata": {},
   "source": [
    "#### 4. Assume that you are building a binary classifier for detecting if an image containing cats, which activation functions would you recommen using for the output layer ?\n",
    "\n",
    "A. ReLU    \n",
    "B. Leaky ReLU    \n",
    "C. sigmoid    \n",
    "D. tanh  "
   ]
  },
  {
   "cell_type": "markdown",
   "execution_count": null,
   "metadata": {},
   "outputs": [],
   "source": [
    "ans: C,D\n",
    "\n",
    "sigmoid：这个结果在0和1之间，越接近1表明为真，越接近0表明为假\n",
    "\n",
    "tanh：这个结果在-1和1之间，越接近1表明为真，越接近-1表明为假"
   ]
  },
  {
   "cell_type": "markdown",
   "metadata": {},
   "source": [
    "#### 5. Why we don't use zero initialization for all parameters ?"
   ]
  },
  {
   "cell_type": "markdown",
   "execution_count": null,
   "metadata": {},
   "outputs": [],
   "source": [
    "Ans:使用0初始化所有的参数会导致前向传播和反向传播的结果都为0，这个结果没有意义，也形成了神经网络的对称性问题。"
   ]
  },
  {
   "cell_type": "markdown",
   "metadata": {},
   "source": [
    "#### 6. Can you implement the softmax function using python ? "
   ]
  },
  {
   "cell_type": "code",
   "execution_count": 2,
   "metadata": {},
   "outputs": [],
   "source": [
    "import numpy as np\n",
    "\n",
    "def softmax(z):\n",
    "    E = sum(np.exp(i) for i in range(len(z)))\n",
    "    \n",
    "    return [np.exp(i)/E for i in range(len(z))]"
   ]
  },
  {
   "cell_type": "code",
   "execution_count": 3,
   "metadata": {},
   "outputs": [
    {
     "name": "stdout",
     "output_type": "stream",
     "text": "[0.03205860328008499, 0.08714431874203257, 0.23688281808991016, 0.6439142598879724]\n0.03205860328008499\n0.08714431874203257\n0.23688281808991013\n0.6439142598879722\n"
    }
   ],
   "source": [
    "a = [1,2,3,4]\n",
    "print(softmax(a))\n",
    "print(np.exp(1)/(np.exp(1) + np.exp(2) + np.exp(3) + np.exp(4)))\n",
    "print(np.exp(2)/(np.exp(1) + np.exp(2) + np.exp(3) + np.exp(4)))\n",
    "print(np.exp(3)/(np.exp(1) + np.exp(2) + np.exp(3) + np.exp(4)))\n",
    "print(np.exp(4)/(np.exp(1) + np.exp(2) + np.exp(3) + np.exp(4)))"
   ]
  },
  {
   "cell_type": "markdown",
   "metadata": {},
   "source": [
    "### 3.实践题"
   ]
  },
  {
   "cell_type": "markdown",
   "metadata": {},
   "source": [
    "#### In this practical part, you will build a simple digits recognizer to check if the digit in the image is larger than 5. This assignmnet will guide you step by step to finish your first small project in this course ."
   ]
  },
  {
   "cell_type": "markdown",
   "metadata": {},
   "source": [
    "#### 1 - Packages  \n",
    "sklearn is a famous package for machine learning.   \n",
    "matplotlib is a common package for vasualization."
   ]
  },
  {
   "cell_type": "code",
   "execution_count": 4,
   "metadata": {},
   "outputs": [],
   "source": [
    "from sklearn import datasets\n",
    "import matplotlib.pyplot as plt\n",
    "from sklearn.model_selection import train_test_split"
   ]
  },
  {
   "cell_type": "markdown",
   "metadata": {},
   "source": [
    "#### 2 - Overvie of the dataset  \n",
    "    - a training set has m_train images labeled as 0 if the digit < 5 or 1 if the digit >= 5\n",
    "    - a test set contains m_test images labels as if the digit < 5 or 1 if the digit >= 5\n",
    "    - eah image if of shape (num_px, num_px ). Thus, each image is square(height=num_px and  width = num_px)"
   ]
  },
  {
   "cell_type": "code",
   "execution_count": 5,
   "metadata": {},
   "outputs": [],
   "source": [
    "# Loading the data \n",
    "digits = datasets.load_digits()"
   ]
  },
  {
   "cell_type": "code",
   "execution_count": 6,
   "metadata": {},
   "outputs": [
    {
     "data": {
      "text/plain": "1797"
     },
     "execution_count": 6,
     "metadata": {},
     "output_type": "execute_result"
    }
   ],
   "source": [
    "#图片\n",
    "len(digits.data)\n",
    "#图片表示的数字\n",
    "len(digits.target)"
   ]
  },
  {
   "cell_type": "code",
   "execution_count": 7,
   "metadata": {},
   "outputs": [
    {
     "data": {
      "image/png": "[encoded data removed]",
      "image/svg+xml": "<?xml version=\"1.0\" encoding=\"utf-8\" standalone=\"no\"?>\r\n<!DOCTYPE svg PUBLIC \"-//W3C//DTD SVG 1.1//EN\"\r\n  \"http://www.w3.org/Graphics/SVG/1.1/DTD/svg11.dtd\">\r\n<!-- Created with matplotlib (https://matplotlib.org/) -->\r\n<svg height=\"210.846255pt\" version=\"1.1\" viewBox=\"0 0 352.7 210.846255\" width=\"352.7pt\" xmlns=\"http://www.w3.org/2000/svg\" xmlns:xlink=\"http://www.w3.org/1999/xlink\">\r\n <defs>\r\n  <style type=\"text/css\">\r\n*{stroke-linecap:butt;stroke-linejoin:round;}\r\n  </style>\r\n </defs>\r\n <g id=\"figure_1\">\r\n  <g id=\"patch_1\">\r\n   <path d=\"M 0 210.846255 \r\nL 352.7 210.846255 \r\nL 352.7 0 \r\nL 0 0 \r\nz\r\n\" style=\"fill:none;\"/>\r\n  </g>\r\n  <g id=\"axes_1\">\r\n   <g id=\"patch_2\">\r\n    <path d=\"M 10.7 64.924138 \r\nL 68.424138 64.924138 \r\nL 68.424138 7.2 \r\nL 10.7 7.2 \r\nz\r\n\" style=\"fill:#ffffff;\"/>\r\n   </g>\r\n   <g clip-path=\"url(#p406e03a0d1)\">\r\n    <image height=\"58\" id=\"image57af09c61b\" transform=\"scale(1 -1)translate(0 -58)\" width=\"58\" x=\"10.7\" xlink:href=\"data:image/png;base64,\r\niVBORw0KGgoAAAANSUhEUgAAADoAAAA6CAYAAADhu0ooAAAABHNCSVQICAgIfAhkiAAAATFJREFUaIHtmlGNhTAURPs2awAJgASQgAUsYAELYAEJIAEsgAOQABJYBXdISl6ymTvnd0LLyf2YlPK57/sOEQzDAPOu68ysLEszG8cx5nUe+fnKqv8QibIhUTbciH5QvRzHYT5YFAVcGNXPNE1mtu+7ma3rCvdEuJmoRNmQKBsSZeMXhahH0VErhBDqujazqqqisr7v4Z5t25qZm4lKlA2JsuFGFNbLdV1m9nRMQyRJYmaottD7POFmohJlQ6JsuBGF9YJqYJ5nuDC6ZIrd8w1uJipRNiTKhhvR6HrZtg0ujD6sZVlmZugi6c2Jyc1EJcqGRNmQKBuwR1FvpWkKF87z3MzQBdSyLGbWNA3cE+FmohJlQ6JsuBGF9YJ48z8BOv6d5xn13BNuJipRNiTKhhvRP2A/Qwwvc6i7AAAAAElFTkSuQmCC\" y=\"-6.924138\"/>\r\n   </g>\r\n   <g id=\"matplotlib.axis_1\"/>\r\n   <g id=\"matplotlib.axis_2\"/>\r\n   <g id=\"patch_3\">\r\n    <path d=\"M 10.7 64.924138 \r\nL 10.7 7.2 \r\n\" style=\"fill:none;stroke:#000000;stroke-linecap:square;stroke-linejoin:miter;stroke-width:0.8;\"/>\r\n   </g>\r\n   <g id=\"patch_4\">\r\n    <path d=\"M 68.424138 64.924138 \r\nL 68.424138 7.2 \r\n\" style=\"fill:none;stroke:#000000;stroke-linecap:square;stroke-linejoin:miter;stroke-width:0.8;\"/>\r\n   </g>\r\n   <g id=\"patch_5\">\r\n    <path d=\"M 10.7 64.924138 \r\nL 68.424138 64.924138 \r\n\" style=\"fill:none;stroke:#000000;stroke-linecap:square;stroke-linejoin:miter;stroke-width:0.8;\"/>\r\n   </g>\r\n   <g id=\"patch_6\">\r\n    <path d=\"M 10.7 7.2 \r\nL 68.424138 7.2 \r\n\" style=\"fill:none;stroke:#000000;stroke-linecap:square;stroke-linejoin:miter;stroke-width:0.8;\"/>\r\n   </g>\r\n   <g id=\"text_1\">\r\n    <!-- 0 -->\r\n    <defs>\r\n     <path d=\"M 31.78125 66.40625 \r\nQ 24.171875 66.40625 20.328125 58.90625 \r\nQ 16.5 51.421875 16.5 36.375 \r\nQ 16.5 21.390625 20.328125 13.890625 \r\nQ 24.171875 6.390625 31.78125 6.390625 \r\nQ 39.453125 6.390625 43.28125 13.890625 \r\nQ 47.125 21.390625 47.125 36.375 \r\nQ 47.125 51.421875 43.28125 58.90625 \r\nQ 39.453125 66.40625 31.78125 66.40625 \r\nz\r\nM 31.78125 74.21875 \r\nQ 44.046875 74.21875 50.515625 64.515625 \r\nQ 56.984375 54.828125 56.984375 36.375 \r\nQ 56.984375 17.96875 50.515625 8.265625 \r\nQ 44.046875 -1.421875 31.78125 -1.421875 \r\nQ 19.53125 -1.421875 13.0625 8.265625 \r\nQ 6.59375 17.96875 6.59375 36.375 \r\nQ 6.59375 54.828125 13.0625 64.515625 \r\nQ 19.53125 74.21875 31.78125 74.21875 \r\nz\r\n\" id=\"DejaVuSans-48\"/>\r\n    </defs>\r\n    <g transform=\"translate(35.95431 82.962931)scale(0.1 -0.1)\">\r\n     <use xlink:href=\"#DejaVuSans-48\"/>\r\n    </g>\r\n   </g>\r\n  </g>\r\n  <g id=\"axes_2\">\r\n   <g id=\"patch_7\">\r\n    <path d=\"M 79.968966 64.924138 \r\nL 137.693103 64.924138 \r\nL 137.693103 7.2 \r\nL 79.968966 7.2 \r\nz\r\n\" style=\"fill:#ffffff;\"/>\r\n   </g>\r\n   <g clip-path=\"url(#p4bb7331f5e)\">\r\n    <image height=\"58\" id=\"imagee1c9825254\" transform=\"scale(1 -1)translate(0 -58)\" width=\"58\" x=\"79.968966\" xlink:href=\"data:image/png;base64,\r\niVBORw0KGgoAAAANSUhEUgAAADoAAAA6CAYAAADhu0ooAAAABHNCSVQICAgIfAhkiAAAAPpJREFUaIHtmssNhDAMRMOKAtIJlAAd0EEohRLogLSQTigFKshWYEeyNocdz7uOEvnJByufodZaQwe2bROzUoqYpZTELOdsrudjXvlnUBQNiqLhRnS0LnyeR821EaKxLItpXQs3HaUoGhRFg6JoUBQNiqJBUTTciJqPab2Y57nLvm46SlE0KIqGG1F1vJznKWbHcfy6lhBCCDHGLvu66ShF0aAoGm5EB+sfhvu+1Vx7LHrfV8yu6xKzfd9bZYm46ShF0aAoGhRFw3wL2Lqt0+ao9pGjNZ+tuOkoRdGgKBpuRLs9Mml/BadpErN1XXuU46ejFEWDomi4Ef0CqqYq+6AmSAEAAAAASUVORK5CYII=\" y=\"-6.924138\"/>\r\n   </g>\r\n   <g id=\"matplotlib.axis_3\"/>\r\n   <g id=\"matplotlib.axis_4\"/>\r\n   <g id=\"patch_8\">\r\n    <path d=\"M 79.968966 64.924138 \r\nL 79.968966 7.2 \r\n\" style=\"fill:none;stroke:#000000;stroke-linecap:square;stroke-linejoin:miter;stroke-width:0.8;\"/>\r\n   </g>\r\n   <g id=\"patch_9\">\r\n    <path d=\"M 137.693103 64.924138 \r\nL 137.693103 7.2 \r\n\" style=\"fill:none;stroke:#000000;stroke-linecap:square;stroke-linejoin:miter;stroke-width:0.8;\"/>\r\n   </g>\r\n   <g id=\"patch_10\">\r\n    <path d=\"M 79.968966 64.924138 \r\nL 137.693103 64.924138 \r\n\" style=\"fill:none;stroke:#000000;stroke-linecap:square;stroke-linejoin:miter;stroke-width:0.8;\"/>\r\n   </g>\r\n   <g id=\"patch_11\">\r\n    <path d=\"M 79.968966 7.2 \r\nL 137.693103 7.2 \r\n\" style=\"fill:none;stroke:#000000;stroke-linecap:square;stroke-linejoin:miter;stroke-width:0.8;\"/>\r\n   </g>\r\n   <g id=\"text_2\">\r\n    <!-- 1 -->\r\n    <defs>\r\n     <path d=\"M 12.40625 8.296875 \r\nL 28.515625 8.296875 \r\nL 28.515625 63.921875 \r\nL 10.984375 60.40625 \r\nL 10.984375 69.390625 \r\nL 28.421875 72.90625 \r\nL 38.28125 72.90625 \r\nL 38.28125 8.296875 \r\nL 54.390625 8.296875 \r\nL 54.390625 0 \r\nL 12.40625 0 \r\nz\r\n\" id=\"DejaVuSans-49\"/>\r\n    </defs>\r\n    <g transform=\"translate(105.223276 82.962931)scale(0.1 -0.1)\">\r\n     <use xlink:href=\"#DejaVuSans-49\"/>\r\n    </g>\r\n   </g>\r\n  </g>\r\n  <g id=\"axes_3\">\r\n   <g id=\"patch_12\">\r\n    <path d=\"M 149.237931 64.924138 \r\nL 206.962069 64.924138 \r\nL 206.962069 7.2 \r\nL 149.237931 7.2 \r\nz\r\n\" style=\"fill:#ffffff;\"/>\r\n   </g>\r\n   <g clip-path=\"url(#p7033adec5d)\">\r\n    <image height=\"58\" id=\"image24b29c640f\" transform=\"scale(1 -1)translate(0 -58)\" width=\"58\" x=\"149.237931\" xlink:href=\"data:image/png;base64,\r\niVBORw0KGgoAAAANSUhEUgAAADoAAAA6CAYAAADhu0ooAAAABHNCSVQICAgIfAhkiAAAATNJREFUaIHtmkGNhUAQRPtv9g4SkAAOQAFIwMFHAjhAAhJAARbAARJwwCro+sn87KW63rXCzLz0ocJkXs/zPPYPHMfhZuM4utm2bW72fr/hnvM8u9kP/JIIibIhUTbCiP6iEFVE3/dw4fM8kw7Utq2bNU2TtKZZoIlKlA2JsiFRNmCPLsviZqk9aWa2rquboR79hjATlSgbEmUjjOgL3QLe9+1+iG7czHCFXNeVlOV5DvdEhJmoRNmQKBthRGG9IFD1mOF6GYbBzeq6TlrzE2EmKlE2JMpGGNHkekHvEMxwFXRd52bTNLnZN88twkxUomxIlA2JspHco+ghh5lZVVVulmWZm6GbPnRD+IkwE5UoGxJlI4wofMOAKMsS5vu+uxn6TSuKIvVIkDATlSgbEmUjjOgfYhJUgiEUy7QAAAAASUVORK5CYII=\" y=\"-6.924138\"/>\r\n   </g>\r\n   <g id=\"matplotlib.axis_5\"/>\r\n   <g id=\"matplotlib.axis_6\"/>\r\n   <g id=\"patch_13\">\r\n    <path d=\"M 149.237931 64.924138 \r\nL 149.237931 7.2 \r\n\" style=\"fill:none;stroke:#000000;stroke-linecap:square;stroke-linejoin:miter;stroke-width:0.8;\"/>\r\n   </g>\r\n   <g id=\"patch_14\">\r\n    <path d=\"M 206.962069 64.924138 \r\nL 206.962069 7.2 \r\n\" style=\"fill:none;stroke:#000000;stroke-linecap:square;stroke-linejoin:miter;stroke-width:0.8;\"/>\r\n   </g>\r\n   <g id=\"patch_15\">\r\n    <path d=\"M 149.237931 64.924138 \r\nL 206.962069 64.924138 \r\n\" style=\"fill:none;stroke:#000000;stroke-linecap:square;stroke-linejoin:miter;stroke-width:0.8;\"/>\r\n   </g>\r\n   <g id=\"patch_16\">\r\n    <path d=\"M 149.237931 7.2 \r\nL 206.962069 7.2 \r\n\" style=\"fill:none;stroke:#000000;stroke-linecap:square;stroke-linejoin:miter;stroke-width:0.8;\"/>\r\n   </g>\r\n   <g id=\"text_3\">\r\n    <!-- 2 -->\r\n    <defs>\r\n     <path d=\"M 19.1875 8.296875 \r\nL 53.609375 8.296875 \r\nL 53.609375 0 \r\nL 7.328125 0 \r\nL 7.328125 8.296875 \r\nQ 12.9375 14.109375 22.625 23.890625 \r\nQ 32.328125 33.6875 34.8125 36.53125 \r\nQ 39.546875 41.84375 41.421875 45.53125 \r\nQ 43.3125 49.21875 43.3125 52.78125 \r\nQ 43.3125 58.59375 39.234375 62.25 \r\nQ 35.15625 65.921875 28.609375 65.921875 \r\nQ 23.96875 65.921875 18.8125 64.3125 \r\nQ 13.671875 62.703125 7.8125 59.421875 \r\nL 7.8125 69.390625 \r\nQ 13.765625 71.78125 18.9375 73 \r\nQ 24.125 74.21875 28.421875 74.21875 \r\nQ 39.75 74.21875 46.484375 68.546875 \r\nQ 53.21875 62.890625 53.21875 53.421875 \r\nQ 53.21875 48.921875 51.53125 44.890625 \r\nQ 49.859375 40.875 45.40625 35.40625 \r\nQ 44.1875 33.984375 37.640625 27.21875 \r\nQ 31.109375 20.453125 19.1875 8.296875 \r\nz\r\n\" id=\"DejaVuSans-50\"/>\r\n    </defs>\r\n    <g transform=\"translate(174.492241 82.962931)scale(0.1 -0.1)\">\r\n     <use xlink:href=\"#DejaVuSans-50\"/>\r\n    </g>\r\n   </g>\r\n  </g>\r\n  <g id=\"axes_4\">\r\n   <g id=\"patch_17\">\r\n    <path d=\"M 218.506897 64.924138 \r\nL 276.231034 64.924138 \r\nL 276.231034 7.2 \r\nL 218.506897 7.2 \r\nz\r\n\" style=\"fill:#ffffff;\"/>\r\n   </g>\r\n   <g clip-path=\"url(#p0fff80d04c)\">\r\n    <image height=\"58\" id=\"image67827bf841\" transform=\"scale(1 -1)translate(0 -58)\" width=\"58\" x=\"218.506897\" xlink:href=\"data:image/png;base64,\r\niVBORw0KGgoAAAANSUhEUgAAADoAAAA6CAYAAADhu0ooAAAABHNCSVQICAgIfAhkiAAAARpJREFUaIHtmlGNhVAMRPs2awAJBAlYACtgAQkgASSgAStgAQmsgjtsJvuz0zm/zS2cNGHSGz7P8zxBsCwLrK/ryrSNvu//vGdExBd98p9hUTUsqkYa0W/24H3fsL5tG3V2GAb2lWD8pJmoRdWwqBoWVYPO0Xme6YeiHEVrWlVV9DPTTNSialhUjTSiH/YW8A0UIV3XUT2P44B1FD9pJmpRNSyqRhpRenu5rgvWm6Yp1lC87PterHl7+QUWVcOiaqQRhfGCIuTtU1/XdbF2nifdlyXNRC2qhkXVsKgaMEfRDxdonYqImKapWBvHsVhDN33s7WFEoolaVA2LqpFGFMYL+k/hbZ1CEYJWuLZtYV+WNBO1qBoWVSON6A+VOz2ixpkt5QAAAABJRU5ErkJggg==\" y=\"-6.924138\"/>\r\n   </g>\r\n   <g id=\"matplotlib.axis_7\"/>\r\n   <g id=\"matplotlib.axis_8\"/>\r\n   <g id=\"patch_18\">\r\n    <path d=\"M 218.506897 64.924138 \r\nL 218.506897 7.2 \r\n\" style=\"fill:none;stroke:#000000;stroke-linecap:square;stroke-linejoin:miter;stroke-width:0.8;\"/>\r\n   </g>\r\n   <g id=\"patch_19\">\r\n    <path d=\"M 276.231034 64.924138 \r\nL 276.231034 7.2 \r\n\" style=\"fill:none;stroke:#000000;stroke-linecap:square;stroke-linejoin:miter;stroke-width:0.8;\"/>\r\n   </g>\r\n   <g id=\"patch_20\">\r\n    <path d=\"M 218.506897 64.924138 \r\nL 276.231034 64.924138 \r\n\" style=\"fill:none;stroke:#000000;stroke-linecap:square;stroke-linejoin:miter;stroke-width:0.8;\"/>\r\n   </g>\r\n   <g id=\"patch_21\">\r\n    <path d=\"M 218.506897 7.2 \r\nL 276.231034 7.2 \r\n\" style=\"fill:none;stroke:#000000;stroke-linecap:square;stroke-linejoin:miter;stroke-width:0.8;\"/>\r\n   </g>\r\n   <g id=\"text_4\">\r\n    <!-- 3 -->\r\n    <defs>\r\n     <path d=\"M 40.578125 39.3125 \r\nQ 47.65625 37.796875 51.625 33 \r\nQ 55.609375 28.21875 55.609375 21.1875 \r\nQ 55.609375 10.40625 48.1875 4.484375 \r\nQ 40.765625 -1.421875 27.09375 -1.421875 \r\nQ 22.515625 -1.421875 17.65625 -0.515625 \r\nQ 12.796875 0.390625 7.625 2.203125 \r\nL 7.625 11.71875 \r\nQ 11.71875 9.328125 16.59375 8.109375 \r\nQ 21.484375 6.890625 26.8125 6.890625 \r\nQ 36.078125 6.890625 40.9375 10.546875 \r\nQ 45.796875 14.203125 45.796875 21.1875 \r\nQ 45.796875 27.640625 41.28125 31.265625 \r\nQ 36.765625 34.90625 28.71875 34.90625 \r\nL 20.21875 34.90625 \r\nL 20.21875 43.015625 \r\nL 29.109375 43.015625 \r\nQ 36.375 43.015625 40.234375 45.921875 \r\nQ 44.09375 48.828125 44.09375 54.296875 \r\nQ 44.09375 59.90625 40.109375 62.90625 \r\nQ 36.140625 65.921875 28.71875 65.921875 \r\nQ 24.65625 65.921875 20.015625 65.03125 \r\nQ 15.375 64.15625 9.8125 62.3125 \r\nL 9.8125 71.09375 \r\nQ 15.4375 72.65625 20.34375 73.4375 \r\nQ 25.25 74.21875 29.59375 74.21875 \r\nQ 40.828125 74.21875 47.359375 69.109375 \r\nQ 53.90625 64.015625 53.90625 55.328125 \r\nQ 53.90625 49.265625 50.4375 45.09375 \r\nQ 46.96875 40.921875 40.578125 39.3125 \r\nz\r\n\" id=\"DejaVuSans-51\"/>\r\n    </defs>\r\n    <g transform=\"translate(243.761207 82.962931)scale(0.1 -0.1)\">\r\n     <use xlink:href=\"#DejaVuSans-51\"/>\r\n    </g>\r\n   </g>\r\n  </g>\r\n  <g id=\"axes_5\">\r\n   <g id=\"patch_22\">\r\n    <path d=\"M 287.775862 64.924138 \r\nL 345.5 64.924138 \r\nL 345.5 7.2 \r\nL 287.775862 7.2 \r\nz\r\n\" style=\"fill:#ffffff;\"/>\r\n   </g>\r\n   <g clip-path=\"url(#p07ec41a55e)\">\r\n    <image height=\"58\" id=\"image3f7197f6fa\" transform=\"scale(1 -1)translate(0 -58)\" width=\"58\" x=\"287.775862\" xlink:href=\"data:image/png;base64,\r\niVBORw0KGgoAAAANSUhEUgAAADoAAAA6CAYAAADhu0ooAAAABHNCSVQICAgIfAhkiAAAAS9JREFUaIHtmkuRhUAMRdNTswcJoAALOAAH4AAk4AALSMABWMABDgAFjIJcXvUrFpPcs73Vn1NZpPoT7vu+5QX2fVezPM/VbFkWNSvLMno/P9Ej/xkUtQZFreFG9Petic/zVLMkSdRsmiY1Y3v5AIpag6LWoKg1AjqmreuqDqzrGk58XZeaFUWhZtu2qdlxHHDNNE3VzE1FKWoNilrDjSg8pqEWgTIRkaZp1AwdxUIIajbPM1yzbVs1c1NRilqDotZwIwrbS1VVajaOI5x4GIaoDXVdp2bo4eoJNxWlqDUoag03ovByDIEekUTwg1Df91HjnsiyTM3cVJSi1qCoNShqjejPGuhBRwTfyKHjFuqF3+CmohS1BkWt4Ub0tb+AqL2g7C3cVJSi1qCoNdyI/gGa0ER6pqpRtAAAAABJRU5ErkJggg==\" y=\"-6.924138\"/>\r\n   </g>\r\n   <g id=\"matplotlib.axis_9\"/>\r\n   <g id=\"matplotlib.axis_10\"/>\r\n   <g id=\"patch_23\">\r\n    <path d=\"M 287.775862 64.924138 \r\nL 287.775862 7.2 \r\n\" style=\"fill:none;stroke:#000000;stroke-linecap:square;stroke-linejoin:miter;stroke-width:0.8;\"/>\r\n   </g>\r\n   <g id=\"patch_24\">\r\n    <path d=\"M 345.5 64.924138 \r\nL 345.5 7.2 \r\n\" style=\"fill:none;stroke:#000000;stroke-linecap:square;stroke-linejoin:miter;stroke-width:0.8;\"/>\r\n   </g>\r\n   <g id=\"patch_25\">\r\n    <path d=\"M 287.775862 64.924138 \r\nL 345.5 64.924138 \r\n\" style=\"fill:none;stroke:#000000;stroke-linecap:square;stroke-linejoin:miter;stroke-width:0.8;\"/>\r\n   </g>\r\n   <g id=\"patch_26\">\r\n    <path d=\"M 287.775862 7.2 \r\nL 345.5 7.2 \r\n\" style=\"fill:none;stroke:#000000;stroke-linecap:square;stroke-linejoin:miter;stroke-width:0.8;\"/>\r\n   </g>\r\n   <g id=\"text_5\">\r\n    <!-- 4 -->\r\n    <defs>\r\n     <path d=\"M 37.796875 64.3125 \r\nL 12.890625 25.390625 \r\nL 37.796875 25.390625 \r\nz\r\nM 35.203125 72.90625 \r\nL 47.609375 72.90625 \r\nL 47.609375 25.390625 \r\nL 58.015625 25.390625 \r\nL 58.015625 17.1875 \r\nL 47.609375 17.1875 \r\nL 47.609375 0 \r\nL 37.796875 0 \r\nL 37.796875 17.1875 \r\nL 4.890625 17.1875 \r\nL 4.890625 26.703125 \r\nz\r\n\" id=\"DejaVuSans-52\"/>\r\n    </defs>\r\n    <g transform=\"translate(313.030172 82.962931)scale(0.1 -0.1)\">\r\n     <use xlink:href=\"#DejaVuSans-52\"/>\r\n    </g>\r\n   </g>\r\n  </g>\r\n  <g id=\"axes_6\">\r\n   <g id=\"patch_27\">\r\n    <path d=\"M 10.7 183.527774 \r\nL 68.424138 183.527774 \r\nL 68.424138 125.803636 \r\nL 10.7 125.803636 \r\nz\r\n\" style=\"fill:#ffffff;\"/>\r\n   </g>\r\n   <g clip-path=\"url(#pb2b80d1665)\">\r\n    <image height=\"58\" id=\"imagea4889d3845\" transform=\"scale(1 -1)translate(0 -58)\" width=\"58\" x=\"10.7\" xlink:href=\"data:image/png;base64,\r\niVBORw0KGgoAAAANSUhEUgAAADoAAAA6CAYAAADhu0ooAAAABHNCSVQICAgIfAhkiAAAASJJREFUaIHtmsERREAQRWe39k4IQiEDGQiBEGSADKQgAmQgBCEQwWwE3VPVag/7+7/rL82rPvxivGKMMRjouk7Np2myjA1N04jZPM+mmSGE8DZf+WdQFA2KouFG9GWtl2VZ1DzLMjHr+17M9n0Xs3Vd1XuWZSlmbjZKUTQoigZF0TD36BO2bROzqqrErG1bde44jmLmZqMURYOiaLgR/fxqsFYhx3GYZhZFYXuY4GijFEWDomi4ETXXS13Xap76SigxDIOYpQ62NNxslKJoUBQNN6LmejnP03xT7QBKe7O5rkudm+e5mLnZKEXRoCgaFEXD3KOpTtO471vMtK+HWk+mcLNRiqJBUTTciJrrJXXgo/2X9+SXcStuNkpRNCiKhhvRL+QfP9DxHgO4AAAAAElFTkSuQmCC\" y=\"-125.527774\"/>\r\n   </g>\r\n   <g id=\"matplotlib.axis_11\"/>\r\n   <g id=\"matplotlib.axis_12\"/>\r\n   <g id=\"patch_28\">\r\n    <path d=\"M 10.7 183.527774 \r\nL 10.7 125.803636 \r\n\" style=\"fill:none;stroke:#000000;stroke-linecap:square;stroke-linejoin:miter;stroke-width:0.8;\"/>\r\n   </g>\r\n   <g id=\"patch_29\">\r\n    <path d=\"M 68.424138 183.527774 \r\nL 68.424138 125.803636 \r\n\" style=\"fill:none;stroke:#000000;stroke-linecap:square;stroke-linejoin:miter;stroke-width:0.8;\"/>\r\n   </g>\r\n   <g id=\"patch_30\">\r\n    <path d=\"M 10.7 183.527774 \r\nL 68.424138 183.527774 \r\n\" style=\"fill:none;stroke:#000000;stroke-linecap:square;stroke-linejoin:miter;stroke-width:0.8;\"/>\r\n   </g>\r\n   <g id=\"patch_31\">\r\n    <path d=\"M 10.7 125.803636 \r\nL 68.424138 125.803636 \r\n\" style=\"fill:none;stroke:#000000;stroke-linecap:square;stroke-linejoin:miter;stroke-width:0.8;\"/>\r\n   </g>\r\n   <g id=\"text_6\">\r\n    <!-- 5 -->\r\n    <defs>\r\n     <path d=\"M 10.796875 72.90625 \r\nL 49.515625 72.90625 \r\nL 49.515625 64.59375 \r\nL 19.828125 64.59375 \r\nL 19.828125 46.734375 \r\nQ 21.96875 47.46875 24.109375 47.828125 \r\nQ 26.265625 48.1875 28.421875 48.1875 \r\nQ 40.625 48.1875 47.75 41.5 \r\nQ 54.890625 34.8125 54.890625 23.390625 \r\nQ 54.890625 11.625 47.5625 5.09375 \r\nQ 40.234375 -1.421875 26.90625 -1.421875 \r\nQ 22.3125 -1.421875 17.546875 -0.640625 \r\nQ 12.796875 0.140625 7.71875 1.703125 \r\nL 7.71875 11.625 \r\nQ 12.109375 9.234375 16.796875 8.0625 \r\nQ 21.484375 6.890625 26.703125 6.890625 \r\nQ 35.15625 6.890625 40.078125 11.328125 \r\nQ 45.015625 15.765625 45.015625 23.390625 \r\nQ 45.015625 31 40.078125 35.4375 \r\nQ 35.15625 39.890625 26.703125 39.890625 \r\nQ 22.75 39.890625 18.8125 39.015625 \r\nQ 14.890625 38.140625 10.796875 36.28125 \r\nz\r\n\" id=\"DejaVuSans-53\"/>\r\n    </defs>\r\n    <g transform=\"translate(35.95431 201.566567)scale(0.1 -0.1)\">\r\n     <use xlink:href=\"#DejaVuSans-53\"/>\r\n    </g>\r\n   </g>\r\n  </g>\r\n  <g id=\"axes_7\">\r\n   <g id=\"patch_32\">\r\n    <path d=\"M 79.968966 183.527774 \r\nL 137.693103 183.527774 \r\nL 137.693103 125.803636 \r\nL 79.968966 125.803636 \r\nz\r\n\" style=\"fill:#ffffff;\"/>\r\n   </g>\r\n   <g clip-path=\"url(#p3de2a913b3)\">\r\n    <image height=\"58\" id=\"imagec5ca1143e5\" transform=\"scale(1 -1)translate(0 -58)\" width=\"58\" x=\"79.968966\" xlink:href=\"data:image/png;base64,\r\niVBORw0KGgoAAAANSUhEUgAAADoAAAA6CAYAAADhu0ooAAAABHNCSVQICAgIfAhkiAAAARFJREFUaIHtmlENhEAMRMvlBCABCUjAAUgCCThAAhKQAA6QAAr2FHRISu5nOu93AstLEya72aqUUizAdV0wH8fRzZZlcbOu60LvNDNr29bNPvBJIiTKhkTZSCP6jT6IKsLMbJ5nN+v73s22bXOzdV3hmqoXkygfEmVDomz8rUcR53m62X3fbjYMQ3jNNBOVKBsSZSONaBU9BazrGuZoy4RqAmVN0zx+l0eaiUqUDYmykUY0XC9Pv3pUP/u+R5Z8RZqJSpQNibKRRjR8OPa0ezmOw81QvaBdzxvSTFSibEiUDYmyEe7RaZpgjk7z0KUL9ehLJMqGRNlIIxo+BXwCXRlH19T/dUKYZqISZUOibKQR/QEM6EHCjUhtfQAAAABJRU5ErkJggg==\" y=\"-125.527774\"/>\r\n   </g>\r\n   <g id=\"matplotlib.axis_13\"/>\r\n   <g id=\"matplotlib.axis_14\"/>\r\n   <g id=\"patch_33\">\r\n    <path d=\"M 79.968966 183.527774 \r\nL 79.968966 125.803636 \r\n\" style=\"fill:none;stroke:#000000;stroke-linecap:square;stroke-linejoin:miter;stroke-width:0.8;\"/>\r\n   </g>\r\n   <g id=\"patch_34\">\r\n    <path d=\"M 137.693103 183.527774 \r\nL 137.693103 125.803636 \r\n\" style=\"fill:none;stroke:#000000;stroke-linecap:square;stroke-linejoin:miter;stroke-width:0.8;\"/>\r\n   </g>\r\n   <g id=\"patch_35\">\r\n    <path d=\"M 79.968966 183.527774 \r\nL 137.693103 183.527774 \r\n\" style=\"fill:none;stroke:#000000;stroke-linecap:square;stroke-linejoin:miter;stroke-width:0.8;\"/>\r\n   </g>\r\n   <g id=\"patch_36\">\r\n    <path d=\"M 79.968966 125.803636 \r\nL 137.693103 125.803636 \r\n\" style=\"fill:none;stroke:#000000;stroke-linecap:square;stroke-linejoin:miter;stroke-width:0.8;\"/>\r\n   </g>\r\n   <g id=\"text_7\">\r\n    <!-- 6 -->\r\n    <defs>\r\n     <path d=\"M 33.015625 40.375 \r\nQ 26.375 40.375 22.484375 35.828125 \r\nQ 18.609375 31.296875 18.609375 23.390625 \r\nQ 18.609375 15.53125 22.484375 10.953125 \r\nQ 26.375 6.390625 33.015625 6.390625 \r\nQ 39.65625 6.390625 43.53125 10.953125 \r\nQ 47.40625 15.53125 47.40625 23.390625 \r\nQ 47.40625 31.296875 43.53125 35.828125 \r\nQ 39.65625 40.375 33.015625 40.375 \r\nz\r\nM 52.59375 71.296875 \r\nL 52.59375 62.3125 \r\nQ 48.875 64.0625 45.09375 64.984375 \r\nQ 41.3125 65.921875 37.59375 65.921875 \r\nQ 27.828125 65.921875 22.671875 59.328125 \r\nQ 17.53125 52.734375 16.796875 39.40625 \r\nQ 19.671875 43.65625 24.015625 45.921875 \r\nQ 28.375 48.1875 33.59375 48.1875 \r\nQ 44.578125 48.1875 50.953125 41.515625 \r\nQ 57.328125 34.859375 57.328125 23.390625 \r\nQ 57.328125 12.15625 50.6875 5.359375 \r\nQ 44.046875 -1.421875 33.015625 -1.421875 \r\nQ 20.359375 -1.421875 13.671875 8.265625 \r\nQ 6.984375 17.96875 6.984375 36.375 \r\nQ 6.984375 53.65625 15.1875 63.9375 \r\nQ 23.390625 74.21875 37.203125 74.21875 \r\nQ 40.921875 74.21875 44.703125 73.484375 \r\nQ 48.484375 72.75 52.59375 71.296875 \r\nz\r\n\" id=\"DejaVuSans-54\"/>\r\n    </defs>\r\n    <g transform=\"translate(105.223276 201.566567)scale(0.1 -0.1)\">\r\n     <use xlink:href=\"#DejaVuSans-54\"/>\r\n    </g>\r\n   </g>\r\n  </g>\r\n  <g id=\"axes_8\">\r\n   <g id=\"patch_37\">\r\n    <path d=\"M 149.237931 183.527774 \r\nL 206.962069 183.527774 \r\nL 206.962069 125.803636 \r\nL 149.237931 125.803636 \r\nz\r\n\" style=\"fill:#ffffff;\"/>\r\n   </g>\r\n   <g clip-path=\"url(#p7bf67dbfa0)\">\r\n    <image height=\"58\" id=\"image462318cebf\" transform=\"scale(1 -1)translate(0 -58)\" width=\"58\" x=\"149.237931\" xlink:href=\"data:image/png;base64,\r\niVBORw0KGgoAAAANSUhEUgAAADoAAAA6CAYAAADhu0ooAAAABHNCSVQICAgIfAhkiAAAARVJREFUaIHtmlENhEAMRLsX/kEKEnAADkACFnCAFCRgAQdIwMGegh2SEu6S6bzfCV1e+tE0uynnnM1B27YwX5almPV97znyEZ+fn/gnJMqGRNkII1p5P+y6DubjOBaz8zyLWdM0zj/ChOmoRNmQKBsSZSN517TbwikVs23bitlbK1yYjkqUDYmyEUYUjhe0Ts3zDAvv++76ITR67lZDRJiOSpQNibIRRhSOFzQivOPDzGxd11e+m6apmIXpqETZkCgbYUThJRPaFp5sEgi0vQzD4K4bpqMSZUOibEiUDfclk3fVMsPvCFHd67pgXbQ6humoRNmQKBthRN1vAe9AowBdUB3HUczqunafGaajEmVDomyEEf0CXddIHw8h6YgAAAAASUVORK5CYII=\" y=\"-125.527774\"/>\r\n   </g>\r\n   <g id=\"matplotlib.axis_15\"/>\r\n   <g id=\"matplotlib.axis_16\"/>\r\n   <g id=\"patch_38\">\r\n    <path d=\"M 149.237931 183.527774 \r\nL 149.237931 125.803636 \r\n\" style=\"fill:none;stroke:#000000;stroke-linecap:square;stroke-linejoin:miter;stroke-width:0.8;\"/>\r\n   </g>\r\n   <g id=\"patch_39\">\r\n    <path d=\"M 206.962069 183.527774 \r\nL 206.962069 125.803636 \r\n\" style=\"fill:none;stroke:#000000;stroke-linecap:square;stroke-linejoin:miter;stroke-width:0.8;\"/>\r\n   </g>\r\n   <g id=\"patch_40\">\r\n    <path d=\"M 149.237931 183.527774 \r\nL 206.962069 183.527774 \r\n\" style=\"fill:none;stroke:#000000;stroke-linecap:square;stroke-linejoin:miter;stroke-width:0.8;\"/>\r\n   </g>\r\n   <g id=\"patch_41\">\r\n    <path d=\"M 149.237931 125.803636 \r\nL 206.962069 125.803636 \r\n\" style=\"fill:none;stroke:#000000;stroke-linecap:square;stroke-linejoin:miter;stroke-width:0.8;\"/>\r\n   </g>\r\n   <g id=\"text_8\">\r\n    <!-- 7 -->\r\n    <defs>\r\n     <path d=\"M 8.203125 72.90625 \r\nL 55.078125 72.90625 \r\nL 55.078125 68.703125 \r\nL 28.609375 0 \r\nL 18.3125 0 \r\nL 43.21875 64.59375 \r\nL 8.203125 64.59375 \r\nz\r\n\" id=\"DejaVuSans-55\"/>\r\n    </defs>\r\n    <g transform=\"translate(174.492241 201.566567)scale(0.1 -0.1)\">\r\n     <use xlink:href=\"#DejaVuSans-55\"/>\r\n    </g>\r\n   </g>\r\n  </g>\r\n  <g id=\"axes_9\">\r\n   <g id=\"patch_42\">\r\n    <path d=\"M 218.506897 183.527774 \r\nL 276.231034 183.527774 \r\nL 276.231034 125.803636 \r\nL 218.506897 125.803636 \r\nz\r\n\" style=\"fill:#ffffff;\"/>\r\n   </g>\r\n   <g clip-path=\"url(#pb32525580a)\">\r\n    <image height=\"58\" id=\"image4b8d94295b\" transform=\"scale(1 -1)translate(0 -58)\" width=\"58\" x=\"218.506897\" xlink:href=\"data:image/png;base64,\r\niVBORw0KGgoAAAANSUhEUgAAADoAAAA6CAYAAADhu0ooAAAABHNCSVQICAgIfAhkiAAAAS9JREFUaIHtmkERhDAQBHNX9wcJOAAUAA5wABJwABKQgAUc4AQkgAJOwU6q8pyd/k4loWsfW5vwed/3DQn0fQ/zfd/NLMsyM2vb1sy2bYNn5nluZl+4kgiJsiFRNtyIflB7ue/bXFgUBdz4uq6krK5rM5vnGZ65LIuZuamoRNmQKBsSZeOHQtTvnueBG6/rmrRvWZZmNo4jPBPhpqISZUOibLgRhWMa4jgOmHddl7JtOM/TzGKjIcJNRSXKhkTZcCMKpxcEetCJ0TSNmaFHplhLQ+3HTUUlyoZE2XAjmtxeYv8TDMOQtBa1LXSpFoLaSwhBonxIlA2JspF8C4jGqRDiPc8C9cLYmIZwU1GJsiFRNtyIJo9pVVXBHLUX9C/CNE2JX4RxU1GJsiFRNtyI/gGGakvTOfBMqQAAAABJRU5ErkJggg==\" y=\"-125.527774\"/>\r\n   </g>\r\n   <g id=\"matplotlib.axis_17\"/>\r\n   <g id=\"matplotlib.axis_18\"/>\r\n   <g id=\"patch_43\">\r\n    <path d=\"M 218.506897 183.527774 \r\nL 218.506897 125.803636 \r\n\" style=\"fill:none;stroke:#000000;stroke-linecap:square;stroke-linejoin:miter;stroke-width:0.8;\"/>\r\n   </g>\r\n   <g id=\"patch_44\">\r\n    <path d=\"M 276.231034 183.527774 \r\nL 276.231034 125.803636 \r\n\" style=\"fill:none;stroke:#000000;stroke-linecap:square;stroke-linejoin:miter;stroke-width:0.8;\"/>\r\n   </g>\r\n   <g id=\"patch_45\">\r\n    <path d=\"M 218.506897 183.527774 \r\nL 276.231034 183.527774 \r\n\" style=\"fill:none;stroke:#000000;stroke-linecap:square;stroke-linejoin:miter;stroke-width:0.8;\"/>\r\n   </g>\r\n   <g id=\"patch_46\">\r\n    <path d=\"M 218.506897 125.803636 \r\nL 276.231034 125.803636 \r\n\" style=\"fill:none;stroke:#000000;stroke-linecap:square;stroke-linejoin:miter;stroke-width:0.8;\"/>\r\n   </g>\r\n   <g id=\"text_9\">\r\n    <!-- 8 -->\r\n    <defs>\r\n     <path d=\"M 31.78125 34.625 \r\nQ 24.75 34.625 20.71875 30.859375 \r\nQ 16.703125 27.09375 16.703125 20.515625 \r\nQ 16.703125 13.921875 20.71875 10.15625 \r\nQ 24.75 6.390625 31.78125 6.390625 \r\nQ 38.8125 6.390625 42.859375 10.171875 \r\nQ 46.921875 13.96875 46.921875 20.515625 \r\nQ 46.921875 27.09375 42.890625 30.859375 \r\nQ 38.875 34.625 31.78125 34.625 \r\nz\r\nM 21.921875 38.8125 \r\nQ 15.578125 40.375 12.03125 44.71875 \r\nQ 8.5 49.078125 8.5 55.328125 \r\nQ 8.5 64.0625 14.71875 69.140625 \r\nQ 20.953125 74.21875 31.78125 74.21875 \r\nQ 42.671875 74.21875 48.875 69.140625 \r\nQ 55.078125 64.0625 55.078125 55.328125 \r\nQ 55.078125 49.078125 51.53125 44.71875 \r\nQ 48 40.375 41.703125 38.8125 \r\nQ 48.828125 37.15625 52.796875 32.3125 \r\nQ 56.78125 27.484375 56.78125 20.515625 \r\nQ 56.78125 9.90625 50.3125 4.234375 \r\nQ 43.84375 -1.421875 31.78125 -1.421875 \r\nQ 19.734375 -1.421875 13.25 4.234375 \r\nQ 6.78125 9.90625 6.78125 20.515625 \r\nQ 6.78125 27.484375 10.78125 32.3125 \r\nQ 14.796875 37.15625 21.921875 38.8125 \r\nz\r\nM 18.3125 54.390625 \r\nQ 18.3125 48.734375 21.84375 45.5625 \r\nQ 25.390625 42.390625 31.78125 42.390625 \r\nQ 38.140625 42.390625 41.71875 45.5625 \r\nQ 45.3125 48.734375 45.3125 54.390625 \r\nQ 45.3125 60.0625 41.71875 63.234375 \r\nQ 38.140625 66.40625 31.78125 66.40625 \r\nQ 25.390625 66.40625 21.84375 63.234375 \r\nQ 18.3125 60.0625 18.3125 54.390625 \r\nz\r\n\" id=\"DejaVuSans-56\"/>\r\n    </defs>\r\n    <g transform=\"translate(243.761207 201.566567)scale(0.1 -0.1)\">\r\n     <use xlink:href=\"#DejaVuSans-56\"/>\r\n    </g>\r\n   </g>\r\n  </g>\r\n  <g id=\"axes_10\">\r\n   <g id=\"patch_47\">\r\n    <path d=\"M 287.775862 183.527774 \r\nL 345.5 183.527774 \r\nL 345.5 125.803636 \r\nL 287.775862 125.803636 \r\nz\r\n\" style=\"fill:#ffffff;\"/>\r\n   </g>\r\n   <g clip-path=\"url(#p0ec6a2d66a)\">\r\n    <image height=\"58\" id=\"image1f00abea20\" transform=\"scale(1 -1)translate(0 -58)\" width=\"58\" x=\"287.775862\" xlink:href=\"data:image/png;base64,\r\niVBORw0KGgoAAAANSUhEUgAAADoAAAA6CAYAAADhu0ooAAAABHNCSVQICAgIfAhkiAAAARhJREFUaIHtmlERhDAMRMPNCQEFIAEJOAFJSEACEsABDsBBz8Ble1OGj9vs+82U9k0+dppSpZSSFTBNE6xv2+bWrutya/M8u7Wu67Ln8ngVr/wzJMqGRNkII1qVxssdUDSheFmWBX6373u3FqajEmVDomxIlI3HchRd09B1C2XscRxwT5SzYToqUTYkykYY0XfpwtxEbt93tzaOo1tD1zQUWTnCdFSibEiUjTCiMF7QYxCKDzOz8zzd2jAMmWN9p67ronVmgToqUTYkykYYURgvuWEUAkUIiok7eyLCdFSibEiUDYmyAR+ZUKY1TfPEeaxtW7emKeAPSJQNibIRRrT4H4bcJA9NENd1LdnyFmE6KlE2JMpGGNEPbGxQ8gIzuiEAAAAASUVORK5CYII=\" y=\"-125.527774\"/>\r\n   </g>\r\n   <g id=\"matplotlib.axis_19\"/>\r\n   <g id=\"matplotlib.axis_20\"/>\r\n   <g id=\"patch_48\">\r\n    <path d=\"M 287.775862 183.527774 \r\nL 287.775862 125.803636 \r\n\" style=\"fill:none;stroke:#000000;stroke-linecap:square;stroke-linejoin:miter;stroke-width:0.8;\"/>\r\n   </g>\r\n   <g id=\"patch_49\">\r\n    <path d=\"M 345.5 183.527774 \r\nL 345.5 125.803636 \r\n\" style=\"fill:none;stroke:#000000;stroke-linecap:square;stroke-linejoin:miter;stroke-width:0.8;\"/>\r\n   </g>\r\n   <g id=\"patch_50\">\r\n    <path d=\"M 287.775862 183.527774 \r\nL 345.5 183.527774 \r\n\" style=\"fill:none;stroke:#000000;stroke-linecap:square;stroke-linejoin:miter;stroke-width:0.8;\"/>\r\n   </g>\r\n   <g id=\"patch_51\">\r\n    <path d=\"M 287.775862 125.803636 \r\nL 345.5 125.803636 \r\n\" style=\"fill:none;stroke:#000000;stroke-linecap:square;stroke-linejoin:miter;stroke-width:0.8;\"/>\r\n   </g>\r\n   <g id=\"text_10\">\r\n    <!-- 9 -->\r\n    <defs>\r\n     <path d=\"M 10.984375 1.515625 \r\nL 10.984375 10.5 \r\nQ 14.703125 8.734375 18.5 7.8125 \r\nQ 22.3125 6.890625 25.984375 6.890625 \r\nQ 35.75 6.890625 40.890625 13.453125 \r\nQ 46.046875 20.015625 46.78125 33.40625 \r\nQ 43.953125 29.203125 39.59375 26.953125 \r\nQ 35.25 24.703125 29.984375 24.703125 \r\nQ 19.046875 24.703125 12.671875 31.3125 \r\nQ 6.296875 37.9375 6.296875 49.421875 \r\nQ 6.296875 60.640625 12.9375 67.421875 \r\nQ 19.578125 74.21875 30.609375 74.21875 \r\nQ 43.265625 74.21875 49.921875 64.515625 \r\nQ 56.59375 54.828125 56.59375 36.375 \r\nQ 56.59375 19.140625 48.40625 8.859375 \r\nQ 40.234375 -1.421875 26.421875 -1.421875 \r\nQ 22.703125 -1.421875 18.890625 -0.6875 \r\nQ 15.09375 0.046875 10.984375 1.515625 \r\nz\r\nM 30.609375 32.421875 \r\nQ 37.25 32.421875 41.125 36.953125 \r\nQ 45.015625 41.5 45.015625 49.421875 \r\nQ 45.015625 57.28125 41.125 61.84375 \r\nQ 37.25 66.40625 30.609375 66.40625 \r\nQ 23.96875 66.40625 20.09375 61.84375 \r\nQ 16.21875 57.28125 16.21875 49.421875 \r\nQ 16.21875 41.5 20.09375 36.953125 \r\nQ 23.96875 32.421875 30.609375 32.421875 \r\nz\r\n\" id=\"DejaVuSans-57\"/>\r\n    </defs>\r\n    <g transform=\"translate(313.030172 201.566567)scale(0.1 -0.1)\">\r\n     <use xlink:href=\"#DejaVuSans-57\"/>\r\n    </g>\r\n   </g>\r\n  </g>\r\n </g>\r\n <defs>\r\n  <clipPath id=\"p406e03a0d1\">\r\n   <rect height=\"57.724138\" width=\"57.724138\" x=\"10.7\" y=\"7.2\"/>\r\n  </clipPath>\r\n  <clipPath id=\"p4bb7331f5e\">\r\n   <rect height=\"57.724138\" width=\"57.724138\" x=\"79.968966\" y=\"7.2\"/>\r\n  </clipPath>\r\n  <clipPath id=\"p7033adec5d\">\r\n   <rect height=\"57.724138\" width=\"57.724138\" x=\"149.237931\" y=\"7.2\"/>\r\n  </clipPath>\r\n  <clipPath id=\"p0fff80d04c\">\r\n   <rect height=\"57.724138\" width=\"57.724138\" x=\"218.506897\" y=\"7.2\"/>\r\n  </clipPath>\r\n  <clipPath id=\"p07ec41a55e\">\r\n   <rect height=\"57.724138\" width=\"57.724138\" x=\"287.775862\" y=\"7.2\"/>\r\n  </clipPath>\r\n  <clipPath id=\"pb2b80d1665\">\r\n   <rect height=\"57.724138\" width=\"57.724138\" x=\"10.7\" y=\"125.803636\"/>\r\n  </clipPath>\r\n  <clipPath id=\"p3de2a913b3\">\r\n   <rect height=\"57.724138\" width=\"57.724138\" x=\"79.968966\" y=\"125.803636\"/>\r\n  </clipPath>\r\n  <clipPath id=\"p7bf67dbfa0\">\r\n   <rect height=\"57.724138\" width=\"57.724138\" x=\"149.237931\" y=\"125.803636\"/>\r\n  </clipPath>\r\n  <clipPath id=\"pb32525580a\">\r\n   <rect height=\"57.724138\" width=\"57.724138\" x=\"218.506897\" y=\"125.803636\"/>\r\n  </clipPath>\r\n  <clipPath id=\"p0ec6a2d66a\">\r\n   <rect height=\"57.724138\" width=\"57.724138\" x=\"287.775862\" y=\"125.803636\"/>\r\n  </clipPath>\r\n </defs>\r\n</svg>\r\n",
      "text/plain": "<Figure size 432x288 with 10 Axes>"
     },
     "metadata": {},
     "output_type": "display_data"
    }
   ],
   "source": [
    "# Vilizating the data\n",
    "for i in range(1,11):\n",
    "    plt.subplot(2,5,i)\n",
    "    plt.imshow(digits.data[i-1].reshape([8,8]),cmap=plt.cm.gray_r)\n",
    "    plt.text(3, 10,str(digits.target[i-1]))\n",
    "    #X轴说明\n",
    "    plt.xticks([])\n",
    "    #Y轴说明\n",
    "    plt.yticks([])\n",
    "plt.show()"
   ]
  },
  {
   "cell_type": "code",
   "execution_count": 8,
   "metadata": {},
   "outputs": [],
   "source": [
    "# Split the data into training set and test set \n",
    "X_train, X_test, y_train, y_test = train_test_split(digits.data, digits.target, test_size=0.25)"
   ]
  },
  {
   "cell_type": "code",
   "execution_count": 9,
   "metadata": {},
   "outputs": [],
   "source": [
    "# reformulate the label. \n",
    "# If the digit is smaller than 5, the label is 0.\n",
    "# If the digit is larger than 5, the label is 1.\n",
    "\n",
    "y_train[y_train < 5 ] = 0\n",
    "y_train[y_train >= 5] = 1\n",
    "y_test[y_test < 5] = 0\n",
    "y_test[y_test >= 5] = 1"
   ]
  },
  {
   "cell_type": "code",
   "execution_count": 10,
   "metadata": {},
   "outputs": [
    {
     "name": "stdout",
     "output_type": "stream",
     "text": "(1347, 64)\n(450, 64)\n(1347,)\n(450,)\n0\n[ 0.  0.  0. 11. 13.  5.  0.  0.  0.  0.  3. 16. 13.  3.  0.  0.  0.  0.\n 10. 16.  2.  0.  0.  0.  0.  4. 16. 16. 13.  7.  0.  0.  0.  4. 16. 11.\n  8. 16.  2.  0.  0.  0. 15.  8.  0. 15.  6.  0.  0.  0.  9. 14.  4. 15.\n  4.  0.  0.  0.  1. 10. 16. 11.  1.  0.]\n"
    }
   ],
   "source": [
    "print(X_train.shape)\n",
    "print(X_test.shape)\n",
    "print(y_train.shape)\n",
    "print(y_test.shape)\n",
    "print(y_train[0])\n",
    "print(X_train[1])"
   ]
  },
  {
   "cell_type": "code",
   "execution_count": 11,
   "metadata": {},
   "outputs": [
    {
     "name": "stdout",
     "output_type": "stream",
     "text": "(6, 64)\n(6,)\n"
    }
   ],
   "source": [
    "from sklearn.utils import resample\n",
    "i, l = resample(X_train, y_train, n_samples=6)\n",
    "print(i.shape)\n",
    "print(l.shape)"
   ]
  },
  {
   "cell_type": "markdown",
   "metadata": {},
   "source": [
    "#### 3- Architecture of the neural network"
   ]
  },
  {
   "cell_type": "markdown",
   "metadata": {},
   "source": [
    "![title](./networks.png)"
   ]
  },
  {
   "cell_type": "code",
   "execution_count": 9,
   "metadata": {},
   "outputs": [
    {
     "name": "stderr",
     "output_type": "stream",
     "text": "'pwd' �����ڲ����ⲿ���Ҳ���ǿ����еĳ���\n���������ļ���\n"
    }
   ],
   "source": [
    "!pwd"
   ]
  },
  {
   "cell_type": "markdown",
   "metadata": {},
   "source": [
    "##### Mathematical expression of the algorithm:"
   ]
  },
  {
   "cell_type": "markdown",
   "metadata": {},
   "source": [
    "For one example $x^{(i)}$:   \n",
    " $$ z^{(i)} = w^T * x^{(i)} +b $$   \n",
    " $$ y^{(i)} = a^{(i)} = sigmoid(z^{(i)})$$   \n",
    " $$L(a^{(i)},y^{(i)}) = -y^{(i)} log(a^{(i)})-(1-y^{(i)})log(1-a^{(i)})$$"
   ]
  },
  {
   "cell_type": "markdown",
   "metadata": {},
   "source": [
    "The total cost over all training examples:\n",
    "$$ J = \\frac{1}{m}\\sum_{i=1}^{m}L(a^{(i)},y^{(i)}) $$"
   ]
  },
  {
   "cell_type": "markdown",
   "metadata": {},
   "source": [
    "#### 4 - Building the algorithm"
   ]
  },
  {
   "cell_type": "markdown",
   "metadata": {},
   "source": [
    "##### 4.1- Activation function    \n",
    "###### Exercise:\n",
    "Finish the sigmoid funciton "
   ]
  },
  {
   "cell_type": "code",
   "execution_count": 12,
   "metadata": {},
   "outputs": [],
   "source": [
    "def sigmoid(z):\n",
    "    '''\n",
    "    Compute the sigmoid of z\n",
    "    Arguments: z -- a scalar or numpy array of any size.\n",
    "    \n",
    "    Return:\n",
    "    s -- sigmoid(z)\n",
    "    '''\n",
    "    s = 1./(1 + np.exp(-1 * z))\n",
    "    \n",
    "    return s"
   ]
  },
  {
   "cell_type": "code",
   "execution_count": 13,
   "metadata": {},
   "outputs": [
    {
     "name": "stdout",
     "output_type": "stream",
     "text": "sigmoid([0,2]) = [0.5        0.88079708]\n"
    }
   ],
   "source": [
    "# Test your code \n",
    "# The result should be [0.5 0.88079708]\n",
    "print(\"sigmoid([0,2]) = \" + str(sigmoid(np.array([0,2]))))"
   ]
  },
  {
   "cell_type": "markdown",
   "metadata": {},
   "source": [
    "##### 4.1-Initializaing parameters\n",
    "###### Exercise:\n",
    "Finishe the initialize_parameters function below"
   ]
  },
  {
   "cell_type": "code",
   "execution_count": 15,
   "metadata": {},
   "outputs": [],
   "source": [
    "# Random innitialize the parameters\n",
    "import random\n",
    "\n",
    "def initialize_parameters(dim):\n",
    "    '''\n",
    "    Argument: dim -- size of the w vector\n",
    "    \n",
    "    Returns:\n",
    "    w -- initialized vector of shape (dim,1)\n",
    "    b -- initializaed scalar\n",
    "    '''\n",
    "    \n",
    "    #w = np.random.randn(dim, 1)\n",
    "    w = np.zeros((dim, 1))\n",
    "    b = 0\n",
    "\n",
    "    assert(w.shape == (dim,1))\n",
    "    assert(isinstance(b,float) or isinstance(b,int))\n",
    "    \n",
    "    return w,b"
   ]
  },
  {
   "cell_type": "markdown",
   "metadata": {},
   "source": [
    "#### 4.3-Forward and backward propagation"
   ]
  },
  {
   "cell_type": "markdown",
   "metadata": {},
   "source": [
    "###### Some mathematical expressions\n",
    "Forward Propagation:   \n",
    ". X\n",
    "\n",
    ". Z = $ w^T*X+b$\n",
    "\n",
    ". A = $\\sigma(w^T*X+b) = (a^{(1)},a^{(2)},...,a^{(m)}$   \n",
    ". J = $-\\frac{1}{m} \\sum_{i=1}^{m}y^{(i)}log(a^{(i)})+(1-y^{(i)})log(1-a^{(i)})$       "
   ]
  },
  {
   "cell_type": "markdown",
   "metadata": {},
   "source": [
    "Some derivative: \n",
    "$$\\frac{\\partial{J}}{\\partial{w}} = \\frac{1}{m}X*(A-Y)^T$$\n",
    "$$\\frac{\\partial{J}}{\\partial{b}} = \\frac{1}{m}\\sum_{i=1}^m(a^{(i)}-y^{(i)}) $$"
   ]
  },
  {
   "cell_type": "markdown",
   "metadata": {},
   "source": [
    "Some derivative: \n",
    "$$\\frac{\\partial{J}}{\\partial{w}} = \\frac{\\partial{J}}{\\partial{a}} * \\frac{\\partial{a}}{\\partial{z}} * \\frac{\\partial{z}}{\\partial{w}}= \\frac{1}{m}\\sum_{i=1}^mX*(A-Y)$$\n",
    "$$\\frac{\\partial{J}}{\\partial{b}} = \\frac{\\partial{J}}{\\partial{a}} * \\frac{\\partial{a}}{\\partial{z}} * \\frac{\\partial{z}}{\\partial{b}}= \\frac{1}{m}\\sum_{i=1}^m(a^{(i)}-y^{(i)}) $$"
   ]
  },
  {
   "cell_type": "markdown",
   "metadata": {},
   "source": [
    "###### Exercise:\n",
    "Finish the function below:"
   ]
  },
  {
   "cell_type": "code",
   "execution_count": 16,
   "metadata": {},
   "outputs": [],
   "source": [
    "def propagate(w,b,X,Y):\n",
    "    '''\n",
    "    Implement the cost function and its gradient for the propagation\n",
    "    \n",
    "    Arguments:\n",
    "    w - weights\n",
    "    b - bias\n",
    "    X - data\n",
    "    Y - ground truth\n",
    "    '''\n",
    "    print(\"start----\")\n",
    "    m = X.shape[0]\n",
    "    print('m{}'.format(m))\n",
    "    A = sigmoid(np.dot(w.T, X.T) + b)\n",
    "    print('A:{}'.format(A))\n",
    "    print('A{}'.format(A.shape))\n",
    "    print('A.T:{}'.format(A.T))\n",
    "    print('Y:{}'.format(Y))\n",
    "    cost = sum([-1 / m * (Y[i] * np.log(A.T[i]) + (1- Y[i]) * np.log(1- A.T[i])) for i in range(len(Y))])\n",
    "    print('cost{}'.format(cost))\n",
    "    \n",
    "    print('X.T{}'.format(X.T.shape))\n",
    "    print('A.T{}'.format(A.T.shape))\n",
    "    print('np.array(Y){}'.format(np.array(Y).shape))\n",
    "    print('A.T - Y.T:{}'.format((A.T - np.array(Y).reshape((len(Y),1)) )))\n",
    "    print('np.dot:{}'.format(np.dot(X.T,(A.T - np.array(Y).reshape((len(Y),1)) ))))\n",
    "    dw = 1 / m * np.dot(X.T,(A.T - np.array(Y).reshape((len(Y),1)) ))\n",
    "\n",
    "    print('dw{}'.format(dw.shape))\n",
    "    print('w{}'.format(w.shape))\n",
    "    #db = sum([1 / m *(A[0][i] - Y[i]) for i in range(len(Y))])\n",
    "    db = 1 / m *( np.sum(A.T - np.array(Y).reshape((len(Y),1)) ))\n",
    "\n",
    "    print('db{}'.format(db))\n",
    "    np.squeeze(db)\n",
    "    assert(dw.shape == w.shape)\n",
    "    assert(db.dtype == float)\n",
    "    \n",
    "    #删除cost数组维度\n",
    "    cost = np.squeeze(cost)\n",
    "    assert(cost.shape == ())\n",
    "    \n",
    "    grads = {'dw':dw,\n",
    "             'db':db}\n",
    "    return grads, cost"
   ]
  },
  {
   "cell_type": "markdown",
   "metadata": {},
   "source": [
    "##### 4.4 -Optimization"
   ]
  },
  {
   "cell_type": "markdown",
   "metadata": {},
   "source": [
    "###### Exercise:\n",
    "Minimizing the cost function using gradient descent.   \n",
    "$$\\theta = \\theta - \\alpha*d\\theta$$ where $\\alpha$ is the learning rate."
   ]
  },
  {
   "cell_type": "code",
   "execution_count": 17,
   "metadata": {},
   "outputs": [],
   "source": [
    "from sklearn.utils import resample\n",
    "\n",
    "def optimize(w, b, X, Y, num_iterations, learning_rate, print_cost=False):\n",
    "    '''\n",
    "    This function optimize w and b by running a gradient descen algorithm\n",
    "    \n",
    "    Arguments:\n",
    "    w - weights\n",
    "    b - bias\n",
    "    X - data\n",
    "    Y - ground truth\n",
    "    num_iterations -- number of iterations of the optimization loop\n",
    "    learning_rate -- learning rate of the gradient descent update rule\n",
    "    print_cost -- True to print the loss every 100 steps\n",
    "    \n",
    "    Returns:\n",
    "    params - dictionary containing the weights w and bias b\n",
    "    grads -- dictionary containing the gradients of the weights and bias with respect to the cost function\n",
    "    costs -- list of all the costs computed during the optimization, this will be used to plot the learning curve.\n",
    "    \n",
    "    '''\n",
    "    \n",
    "    costs = []\n",
    "    cost = 0.\n",
    "    #dw = None\n",
    "    #db = None\n",
    "    batch_size = 2\n",
    "    steps_per_epoch = num_iterations // batch_size\n",
    "    \"\"\"\n",
    "    for i in range(num_iterations):\n",
    "        for j in range(steps_per_epoch):\n",
    "            X_batch,Y_batch = resample(X_train, y_train, n_samples=batch_size)\n",
    "            #X_batch(16,64)\n",
    "            #Y_batch(16,)\n",
    "            grads, cost = propagate(w,b,X_batch,Y_batch)\n",
    "        \n",
    "            dw = grads['dw']\n",
    "            db = grads['db']\n",
    "            w = w - 1 * dw * learning_rate\n",
    "            b = b - 1 * db * learning_rate\n",
    "    \"\"\"\n",
    "\n",
    "    for i in range(num_iterations):\n",
    "        #X_batch(16,64)\n",
    "        #Y_batch(16,)\n",
    "        grads, cost = propagate(w,b,X_train,y_train)\n",
    "        \n",
    "        dw = grads['dw']\n",
    "        db = grads['db']\n",
    "        w = w - 1 * dw * learning_rate\n",
    "        b = b - 1 * db * learning_rate\n",
    "\n",
    "        if i % 100 == 0:\n",
    "            costs.append(cost)\n",
    "        if print_cost and i % 100 == 0:\n",
    "            print (\"Cost after iteration %i: %f\" %(i, cost))\n",
    "    \n",
    "    params = {\"w\":w,\n",
    "              \"b\":b}\n",
    "    \n",
    "    grads = {\"dw\":dw,\n",
    "             \"db\":db}\n",
    "    \n",
    "    return params, grads, costs"
   ]
  },
  {
   "cell_type": "markdown",
   "metadata": {},
   "source": [
    "###### Exercise\n",
    "The previous function will output the learned w and b. We are able to use w and b to predict the labels for a dataset X. Implement the predict() function.    \n",
    "Two steps to finish this task:   \n",
    "1. Calculate $\\hat{Y} = A = \\sigma(w^T*X+b)$   \n",
    "2. Convert the entries of a into 0 (if activation <= 0.5) or 1 (if activation > 0.5), stores the predictions in a vector Y_prediction. If you wish, you can use an if/else statement in a for loop (though there is also a way to vectorize this)."
   ]
  },
  {
   "cell_type": "code",
   "execution_count": 18,
   "metadata": {},
   "outputs": [],
   "source": [
    "def predict(w, b, X):\n",
    "    '''\n",
    "    Predict whether the label is 0 or 1 using learned logistic regression parameters (w, b)\n",
    "    \n",
    "    Arguments:\n",
    "    w -- weights\n",
    "    b -- bias \n",
    "    X -- data \n",
    "    \n",
    "    Returns:\n",
    "    Y_prediction -- a numpy array (vector) containing all predictions (0/1) for the examples in X\n",
    "    '''\n",
    "    m = X.shape[0]\n",
    "    Y_prediction = np.zeros((1,m))\n",
    "    \n",
    "    A = sigmoid(np.dot(w.T, X.T) + b)\n",
    "\n",
    "    for i in range(A.shape[1]):\n",
    "        if(A[0][i] >= 0.5):\n",
    "             Y_prediction[0][i] = 1\n",
    "        else:\n",
    "             Y_prediction[0][i] = 0\n",
    "    assert(Y_prediction.shape == (1,m))\n",
    "    \n",
    "    return Y_prediction"
   ]
  },
  {
   "cell_type": "markdown",
   "metadata": {},
   "source": [
    "##### 5- Merge all functions into a model"
   ]
  },
  {
   "cell_type": "markdown",
   "metadata": {},
   "source": [
    "Congratulations !! You have finished all the necessary components for constructing a model. Now, Let's take the challenge to merge all the implemented function into one model."
   ]
  },
  {
   "cell_type": "code",
   "execution_count": 30,
   "metadata": {},
   "outputs": [],
   "source": [
    "def model(X_train, Y_train, X_test, Y_test, num_iterations, learning_rate,print_cost):\n",
    "    \"\"\"\n",
    "    Build the logistic regression model by calling all the functions you have implemented.\n",
    "    Arguments:\n",
    "    X_train - training set\n",
    "    Y_train - training label\n",
    "    X_test - test set\n",
    "    Y_test - test label\n",
    "    num_iteration - hyperparameter representing the number of iterations to optimize the parameters\n",
    "    learning_rate -- hyperparameter representing the learning rate used in the update rule of optimize()\n",
    "    print_cost -- Set to true to print the cost every 100 iterations\n",
    "    \n",
    "    Returns:\n",
    "    d - dictionary should contain following information w,b,training_accuracy, test_accuracy,cost\n",
    "    eg: d = {\"w\":w,\n",
    "             \"b\":b,\n",
    "             \"training_accuracy\": traing_accuracy,\n",
    "             \"test_accuracy\":test_accuracy,\n",
    "             \"cost\":cost}\n",
    "    \"\"\"\n",
    "    d = {}\n",
    "\n",
    "    w, b = initialize_parameters(X_train.shape[1])\n",
    "    #print(w)\n",
    "    #print(b)\n",
    "    params, grads, costs = optimize(w, b, X_train, Y_train, num_iterations, learning_rate, print_cost=False)\n",
    "\n",
    "    Y_train_prediction = predict(params['w'],params['b'],X_train)\n",
    "\n",
    "    Y_test_prediction = predict(params['w'],params['b'],X_test)\n",
    "    \n",
    "    count = 0\n",
    "    \n",
    "    for i in range(len(Y_test)):\n",
    "        if Y_test_prediction[0][i] == Y_test[i]:\n",
    "            count += 1\n",
    "    \n",
    "\n",
    "    d['w'] = params['w']\n",
    "    d['b'] = params['b']\n",
    "    d['train_accuracy'] = 1 - np.mean(np.abs(Y_train_prediction - np.array(Y_train).reshape(1, len(Y_train))))\n",
    "    d['test_accuracy'] = count / len(Y_test)\n",
    "    d['test_accuracy1'] = 1 - np.mean(np.abs(Y_test_prediction - np.array(Y_test).reshape(1, len(Y_test))))\n",
    "    d['cost'] = costs\n",
    "    return d"
   ]
  },
  {
   "cell_type": "code",
   "execution_count": 176,
   "metadata": {},
   "outputs": [],
   "source": [
    "def propagate_1(w, b, X, Y):\n",
    "    print(\"1.start----\")\n",
    "    m = X.shape[1]\n",
    "    print('m{}'.format(m))\n",
    "\n",
    "    print('X.T:{}'.format(X.T.shape))\n",
    "    print('w{}'.format(w.shape))\n",
    "    A = sigmoid(np.dot(X.T,w)+b)\n",
    "    print('A:{}'.format(A))\n",
    "    print('A.T:{}'.format(A.T.shape))\n",
    "    print('Y:{}'.format(Y))\n",
    "    cost = -1/m*(np.sum(Y*np.log(A.T)+(1-Y)*np.log(1-A.T)))\n",
    "\n",
    "    print('cost{}'.format(cost))\n",
    "    \n",
    "    print('X{}'.format(X.shape))\n",
    "    print('A{}'.format(A.shape))\n",
    "    print('Y.T{}'.format(Y.T.shape))\n",
    "    print('A-Y.T:{}'.format(A-Y.T))\n",
    "    print('np.dot:{}'.format(np.dot(X,(A-Y.T))))\n",
    "    dw = 1/m*np.dot(X,(A-Y.T))\n",
    "\n",
    "    print('dw{}'.format(dw.shape))\n",
    "    print('w{}'.format(w.shape))\n",
    "    db = 1/m*np.sum(A-Y.T)\n",
    "\n",
    "    assert(dw.shape == w.shape)\n",
    "    assert(db.dtype == float)\n",
    "    cost = np.squeeze(cost)\n",
    "    assert(cost.shape == ())\n",
    "\n",
    "    grads = {\"dw\": dw,\n",
    "             \"db\": db}\n",
    "\n",
    "    return grads, cost"
   ]
  },
  {
   "cell_type": "code",
   "execution_count": 20,
   "metadata": {},
   "outputs": [
    {
     "name": "stdout",
     "output_type": "stream",
     "text": "start----\nm4\nA:[[0.99987661 0.99999386 0.00449627 1.        ]]\nA(1, 4)\nA.T:[[0.99987661]\n [0.99999386]\n [0.00449627]\n [1.        ]]\nY:[[1]\n [0]\n [1]\n [0]]\ncost[10.60115795]\nX.T(2, 4)\nA.T(4, 1)\nnp.array(Y)(4, 1)\nA.T - Y.T:[[-1.23394576e-04]\n [ 9.99993856e-01]\n [-9.95503727e-01]\n [ 1.00000000e+00]]\nnp.dot:[[ 9.99536804]\n [15.18521717]]\ndw(2, 1)\nw(2, 1)\ndb0.25109168359911616\ndw = [[2.49884201]\n [3.79630429]]\ndb = 0.25109168359911616\ncost = 10.601157945572876\nstart----\nm4\nA:[[0.99985787 0.99999246 0.00518885 1.        ]]\nA(1, 4)\nA.T:[[0.99985787]\n [0.99999246]\n [0.00518885]\n [1.        ]]\nY:[[1]\n [0]\n [1]\n [0]]\ncost[10.39398035]\nX.T(2, 4)\nA.T(4, 1)\nnp.array(Y)(4, 1)\nA.T - Y.T:[[-1.42132096e-04]\n [ 9.99992463e-01]\n [-9.94811150e-01]\n [ 1.00000000e+00]]\nnp.dot:[[ 9.99465394]\n [15.18293913]]\ndw(2, 1)\nw(2, 1)\ndb0.25125979527286135\ndw = [[2.49866349]\n [3.79573478]]\ndb = 0.25125979527286135\ncost = 10.393980348722758\n"
    },
    {
     "ename": "NameError",
     "evalue": "name 'propagate_1' is not defined",
     "output_type": "error",
     "traceback": [
      "\u001b[1;31m---------------------------------------------------------------------------\u001b[0m",
      "\u001b[1;31mNameError\u001b[0m                                 Traceback (most recent call last)",
      "\u001b[1;32m<ipython-input-20-b94f0c4ea0d5>\u001b[0m in \u001b[0;36m<module>\u001b[1;34m\u001b[0m\n\u001b[0;32m     12\u001b[0m \u001b[1;33m\u001b[0m\u001b[0m\n\u001b[0;32m     13\u001b[0m \u001b[0mw\u001b[0m\u001b[1;33m,\u001b[0m \u001b[0mb\u001b[0m\u001b[1;33m,\u001b[0m \u001b[0mX\u001b[0m\u001b[1;33m,\u001b[0m \u001b[0mY\u001b[0m \u001b[1;33m=\u001b[0m \u001b[0mnp\u001b[0m\u001b[1;33m.\u001b[0m\u001b[0marray\u001b[0m\u001b[1;33m(\u001b[0m\u001b[1;33m[\u001b[0m\u001b[1;33m[\u001b[0m\u001b[1;36m1.\u001b[0m\u001b[1;33m]\u001b[0m\u001b[1;33m,\u001b[0m\u001b[1;33m[\u001b[0m\u001b[1;36m2.\u001b[0m\u001b[1;33m]\u001b[0m\u001b[1;33m]\u001b[0m\u001b[1;33m)\u001b[0m\u001b[1;33m,\u001b[0m \u001b[1;36m2.\u001b[0m\u001b[1;33m,\u001b[0m \u001b[0mnp\u001b[0m\u001b[1;33m.\u001b[0m\u001b[0marray\u001b[0m\u001b[1;33m(\u001b[0m\u001b[1;33m[\u001b[0m\u001b[1;33m[\u001b[0m\u001b[1;36m1.\u001b[0m\u001b[1;33m,\u001b[0m\u001b[1;36m2.\u001b[0m\u001b[1;33m,\u001b[0m\u001b[1;33m-\u001b[0m\u001b[1;36m1.\u001b[0m\u001b[1;33m,\u001b[0m\u001b[1;36m7\u001b[0m\u001b[1;33m]\u001b[0m\u001b[1;33m,\u001b[0m\u001b[1;33m[\u001b[0m\u001b[1;36m3.\u001b[0m\u001b[1;33m,\u001b[0m\u001b[1;36m4.\u001b[0m\u001b[1;33m,\u001b[0m\u001b[1;33m-\u001b[0m\u001b[1;36m3.2\u001b[0m\u001b[1;33m,\u001b[0m\u001b[1;36m8\u001b[0m\u001b[1;33m]\u001b[0m\u001b[1;33m]\u001b[0m\u001b[1;33m)\u001b[0m\u001b[1;33m,\u001b[0m \u001b[0mnp\u001b[0m\u001b[1;33m.\u001b[0m\u001b[0marray\u001b[0m\u001b[1;33m(\u001b[0m\u001b[1;33m[\u001b[0m\u001b[1;33m[\u001b[0m\u001b[1;36m1\u001b[0m\u001b[1;33m,\u001b[0m\u001b[1;36m0\u001b[0m\u001b[1;33m,\u001b[0m\u001b[1;36m1\u001b[0m\u001b[1;33m,\u001b[0m\u001b[1;36m0\u001b[0m\u001b[1;33m]\u001b[0m\u001b[1;33m]\u001b[0m\u001b[1;33m)\u001b[0m\u001b[1;33m\u001b[0m\u001b[1;33m\u001b[0m\u001b[0m\n\u001b[1;32m---> 14\u001b[1;33m \u001b[0mgrads\u001b[0m\u001b[1;33m,\u001b[0m \u001b[0mcost\u001b[0m \u001b[1;33m=\u001b[0m \u001b[0mpropagate_1\u001b[0m\u001b[1;33m(\u001b[0m\u001b[0mw\u001b[0m\u001b[1;33m,\u001b[0m \u001b[0mb\u001b[0m\u001b[1;33m,\u001b[0m \u001b[0mX\u001b[0m\u001b[1;33m,\u001b[0m \u001b[0mY\u001b[0m\u001b[1;33m)\u001b[0m\u001b[1;33m\u001b[0m\u001b[1;33m\u001b[0m\u001b[0m\n\u001b[0m\u001b[0;32m     15\u001b[0m \u001b[0mprint\u001b[0m \u001b[1;33m(\u001b[0m\u001b[1;34m\"dw = \"\u001b[0m \u001b[1;33m+\u001b[0m \u001b[0mstr\u001b[0m\u001b[1;33m(\u001b[0m\u001b[0mgrads\u001b[0m\u001b[1;33m[\u001b[0m\u001b[1;34m\"dw\"\u001b[0m\u001b[1;33m]\u001b[0m\u001b[1;33m)\u001b[0m\u001b[1;33m)\u001b[0m\u001b[1;33m\u001b[0m\u001b[1;33m\u001b[0m\u001b[0m\n\u001b[0;32m     16\u001b[0m \u001b[0mprint\u001b[0m \u001b[1;33m(\u001b[0m\u001b[1;34m\"db = \"\u001b[0m \u001b[1;33m+\u001b[0m \u001b[0mstr\u001b[0m\u001b[1;33m(\u001b[0m\u001b[0mgrads\u001b[0m\u001b[1;33m[\u001b[0m\u001b[1;34m\"db\"\u001b[0m\u001b[1;33m]\u001b[0m\u001b[1;33m)\u001b[0m\u001b[1;33m)\u001b[0m\u001b[1;33m\u001b[0m\u001b[1;33m\u001b[0m\u001b[0m\n",
      "\u001b[1;31mNameError\u001b[0m: name 'propagate_1' is not defined"
     ]
    }
   ],
   "source": [
    "w, b, X, Y = np.array([[1.],[2.]]), 2., np.array([[1.,3.],[2,4.],[-1,-3.2],[7,8]]), np.array([[1],[0],[1],[0]])\n",
    "grads, cost = propagate(w, b, X, Y)\n",
    "print (\"dw = \" + str(grads[\"dw\"]))\n",
    "print (\"db = \" + str(grads[\"db\"]))\n",
    "print (\"cost = \" + str(cost))\n",
    "w = w - grads[\"dw\"] * 0.01\n",
    "b = b - grads[\"db\"] * 0.01\n",
    "grads, cost = propagate(w, b, X, Y)\n",
    "print (\"dw = \" + str(grads[\"dw\"]))\n",
    "print (\"db = \" + str(grads[\"db\"]))\n",
    "print (\"cost = \" + str(cost))\n",
    "\n",
    "w, b, X, Y = np.array([[1.],[2.]]), 2., np.array([[1.,2.,-1.,7],[3.,4.,-3.2,8]]), np.array([[1,0,1,0]])\n",
    "grads, cost = propagate_1(w, b, X, Y)\n",
    "print (\"dw = \" + str(grads[\"dw\"]))\n",
    "print (\"db = \" + str(grads[\"db\"]))\n",
    "print (\"cost = \" + str(cost))\n",
    "w = w - grads[\"dw\"] * 0.01\n",
    "b = b - grads[\"db\"] * 0.01\n",
    "grads, cost = propagate_1(w, b, X, Y)\n",
    "print (\"dw = \" + str(grads[\"dw\"]))\n",
    "print (\"db = \" + str(grads[\"db\"]))\n",
    "print (\"cost = \" + str(cost))"
   ]
  },
  {
   "cell_type": "code",
   "execution_count": 21,
   "metadata": {},
   "outputs": [
    {
     "name": "stdout",
     "output_type": "stream",
     "text": "[[ 9.  12.  -5.4 25. ]]\n[[ 9. ]\n [12. ]\n [-5.4]\n [25. ]]\n(2, 4)\n(4, 2)\n(2, 1)\n(1, 2)\n2\n"
    }
   ],
   "source": [
    "w, b, X, Y = np.array([[1.],[2.]]), 2., np.array([[1.,3.],[2,4.],[-1,-3.2],[7,8]]), np.array([[1],[0],[1]])\n",
    "print(np.dot(w.T, X.T) + b)\n",
    "w, b, X, Y = np.array([[1.],[2.]]), 2., np.array([[1.,2.,-1.,7],[3.,4.,-3.2,8]]), np.array([[1,0,1]])\n",
    "print(np.dot(X.T,w) + b)\n",
    "print(X.shape)\n",
    "print(X.T.shape)\n",
    "print(w.shape)\n",
    "print(w.T.shape)\n",
    "print(w.T.shape[1])"
   ]
  },
  {
   "cell_type": "code",
   "execution_count": 31,
   "metadata": {},
   "outputs": [
    {
     "name": "stdout",
     "output_type": "stream",
     "text": "--\nm1347\nA:[[0.93868256 0.99492016 0.97924596 ... 0.99845421 0.30413857 0.63603173]]\nA(1, 1347)\nA.T:[[0.93868256]\n [0.99492016]\n [0.97924596]\n ...\n [0.99845421]\n [0.30413857]\n [0.63603173]]\nY:[0 1 1 ... 1 0 0]\ncost[0.34603856]\nX.T(64, 1347)\nA.T(1347, 1)\nnp.array(Y)(1347,)\nA.T - Y.T:[[ 0.93868256]\n [-0.00507984]\n [-0.02075404]\n ...\n [-0.00154579]\n [ 0.30413857]\n [ 0.63603173]]\nnp.dot:[[ 0.00000000e+00]\n [ 2.63323180e+01]\n [ 6.26248096e+02]\n [ 1.54064912e+03]\n [ 1.44474269e+03]\n [ 6.78298994e+02]\n [ 9.84099041e+01]\n [ 1.35111755e+01]\n [-1.19612671e+00]\n [ 2.79601222e+02]\n [ 1.31876953e+03]\n [ 1.46629392e+03]\n [ 1.19948864e+03]\n [ 1.13064587e+03]\n [ 2.45773422e+02]\n [ 2.42467315e+01]\n [ 1.56176398e+00]\n [ 3.16092058e+02]\n [ 1.22791442e+03]\n [ 9.24656818e+02]\n [ 1.01561175e+03]\n [ 1.03856672e+03]\n [ 2.81346335e+02]\n [ 2.65471248e+01]\n [ 9.90198682e-01]\n [ 3.35639414e+02]\n [ 1.17241401e+03]\n [ 1.24594629e+03]\n [ 1.27135790e+03]\n [ 8.67588501e+02]\n [ 3.34499079e+02]\n [ 2.50911283e+00]\n [ 0.00000000e+00]\n [ 3.61521654e+02]\n [ 1.03007921e+03]\n [ 1.25131576e+03]\n [ 1.36917320e+03]\n [ 1.16967647e+03]\n [ 3.41407798e+02]\n [ 0.00000000e+00]\n [ 2.25089295e-01]\n [ 1.67123968e+02]\n [ 8.70647616e+02]\n [ 8.55753540e+02]\n [ 7.87340754e+02]\n [ 1.03702587e+03]\n [ 4.85817487e+02]\n [-2.51901775e-01]\n [ 1.69613377e-01]\n [ 7.88353776e+01]\n [ 9.67923425e+02]\n [ 1.19828247e+03]\n [ 1.14726538e+03]\n [ 1.11772906e+03]\n [ 4.85281721e+02]\n [ 2.08641372e+01]\n [ 5.09387019e-02]\n [ 2.30639012e+01]\n [ 6.69109842e+02]\n [ 1.61594494e+03]\n [ 1.58106886e+03]\n [ 8.92800951e+02]\n [ 2.28735873e+02]\n [ 4.65512372e+01]]\ndw(64, 1)\nw(64, 1)\ndb0.09354430628728226\nstart----\nm1347\nA:[[0.49860102 0.92168357 0.81283198 ... 0.98716116 0.04633221 0.12058175]]\nA(1, 1347)\nA.T:[[0.49860102]\n [0.92168357]\n [0.81283198]\n ...\n [0.98716116]\n [0.04633221]\n [0.12058175]]\nY:[0 1 1 ... 1 0 0]\ncost[0.34425982]\nX.T(64, 1347)\nA.T(1347, 1)\nnp.array(Y)(1347,)\nA.T - Y.T:[[ 0.49860102]\n [-0.07831643]\n [-0.18716802]\n ...\n [-0.01283884]\n [ 0.04633221]\n [ 0.12058175]]\nnp.dot:[[ 0.00000000e+00]\n [-3.08478195e+01]\n [-6.23596121e+02]\n [-1.45928382e+03]\n [-1.47925223e+03]\n [-6.10093352e+02]\n [-1.16191189e+02]\n [-1.37384054e+01]\n [-4.51665341e+00]\n [-2.25085513e+02]\n [-1.32312561e+03]\n [-1.53560764e+03]\n [-1.39233117e+03]\n [-1.01980288e+03]\n [-1.80849195e+02]\n [-1.99372834e+01]\n [ 9.09681240e-01]\n [-2.85584795e+02]\n [-1.22151967e+03]\n [-9.96988966e+02]\n [-9.82594850e+02]\n [-1.04347089e+03]\n [-1.78172256e+02]\n [ 1.82949272e+00]\n [ 9.18411583e-01]\n [-2.03380059e+02]\n [-9.97649846e+02]\n [-1.17193337e+03]\n [-1.21927588e+03]\n [-1.01834041e+03]\n [-2.12440436e+02]\n [ 1.39459067e+00]\n [ 0.00000000e+00]\n [-1.80468698e+02]\n [-9.48285729e+02]\n [-1.16079033e+03]\n [-1.14345159e+03]\n [-1.07571156e+03]\n [-3.89770108e+02]\n [ 0.00000000e+00]\n [ 2.41996453e-02]\n [-1.75901269e+02]\n [-9.86953347e+02]\n [-8.73211976e+02]\n [-1.03398967e+03]\n [-1.12839411e+03]\n [-4.68713498e+02]\n [-3.32189571e+00]\n [ 1.51492440e-02]\n [-8.42656833e+01]\n [-1.02722186e+03]\n [-1.10446117e+03]\n [-1.16040868e+03]\n [-1.20528361e+03]\n [-4.69430442e+02]\n [-1.24759743e+01]\n [ 4.59340852e-03]\n [-2.08316507e+01]\n [-6.66839073e+02]\n [-1.48580617e+03]\n [-1.50381330e+03]\n [-8.48091393e+02]\n [-1.84722548e+02]\n [ 2.99613627e+00]]\ndw(64, 1)\nw(64, 1)\ndb-0.09085635289557503\nstart----\nm1347\nA:[[0.93489289 0.99468056 0.97811105 ... 0.99834544 0.29335607 0.62514044]]\nA(1, 1347)\nA.T:[[0.93489289]\n [0.99468056]\n [0.97811105]\n ...\n [0.99834544]\n [0.29335607]\n [0.62514044]]\nY:[0 1 1 ... 1 0 0]\ncost[0.34130876]\nX.T(64, 1347)\nA.T(1347, 1)\nnp.array(Y)(1347,)\nA.T - Y.T:[[ 0.93489289]\n [-0.00531944]\n [-0.02188895]\n ...\n [-0.00165456]\n [ 0.29335607]\n [ 0.62514044]]\nnp.dot:[[ 0.00000000e+00]\n [ 2.53783597e+01]\n [ 6.08088749e+02]\n [ 1.49680375e+03]\n [ 1.40305465e+03]\n [ 6.60513624e+02]\n [ 9.60144191e+01]\n [ 1.32409912e+01]\n [-1.27422143e+00]\n [ 2.71107259e+02]\n [ 1.28150712e+03]\n [ 1.42468387e+03]\n [ 1.16555720e+03]\n [ 1.10059738e+03]\n [ 2.39163590e+02]\n [ 2.34669966e+01]\n [ 1.55082857e+00]\n [ 3.06067793e+02]\n [ 1.19476265e+03]\n [ 9.00969517e+02]\n [ 9.87188119e+02]\n [ 1.01059727e+03]\n [ 2.73000227e+02]\n [ 2.59297099e+01]\n [ 9.89687333e-01]\n [ 3.25443743e+02]\n [ 1.14179169e+03]\n [ 1.21570675e+03]\n [ 1.23564680e+03]\n [ 8.43132540e+02]\n [ 3.24932084e+02]\n [ 2.48512916e+00]\n [ 0.00000000e+00]\n [ 3.50752767e+02]\n [ 1.00288537e+03]\n [ 1.21884900e+03]\n [ 1.33175633e+03]\n [ 1.13727261e+03]\n [ 3.30549916e+02]\n [ 0.00000000e+00]\n [ 2.20946403e-01]\n [ 1.61715706e+02]\n [ 8.47761593e+02]\n [ 8.33047055e+02]\n [ 7.62565476e+02]\n [ 1.00834134e+03]\n [ 4.72839871e+02]\n [-2.71165933e-01]\n [ 1.68702658e-01]\n [ 7.66684415e+01]\n [ 9.41562636e+02]\n [ 1.16551555e+03]\n [ 1.11299650e+03]\n [ 1.08620359e+03]\n [ 4.71756212e+02]\n [ 2.01683755e+01]\n [ 5.07374624e-02]\n [ 2.23966695e+01]\n [ 6.49542531e+02]\n [ 1.56991319e+03]\n [ 1.53588167e+03]\n [ 8.68525012e+02]\n [ 2.21956488e+02]\n [ 4.52766959e+01]]\ndw(64, 1)\nw(64, 1)\ndb0.0909246654647502\nstart----\nm1347\nA:[[0.50163389 0.92387727 0.81453778 ... 0.98704623 0.04676285 0.12316938]]\nA(1, 1347)\nA.T:[[0.50163389]\n [0.92387727]\n [0.81453778]\n ...\n [0.98704623]\n [0.04676285]\n [0.12316938]]\nY:[0 1 1 ... 1 0 0]\ncost[0.34022019]\nX.T(64, 1347)\nA.T(1347, 1)\nnp.array(Y)(1347,)\nA.T - Y.T:[[ 0.50163389]\n [-0.07612273]\n [-0.18546222]\n ...\n [-0.01295377]\n [ 0.04676285]\n [ 0.12316938]]\nnp.dot:[[ 0.00000000e+00]\n [-3.02761545e+01]\n [-6.10465576e+02]\n [-1.42872036e+03]\n [-1.44797070e+03]\n [-5.95956001e+02]\n [-1.13442142e+02]\n [-1.33160564e+01]\n [-4.50689664e+00]\n [-2.20787522e+02]\n [-1.29468550e+03]\n [-1.50279811e+03]\n [-1.36194027e+03]\n [-9.95826662e+02]\n [-1.76237853e+02]\n [-1.95693097e+01]\n [ 9.13767754e-01]\n [-2.80976834e+02]\n [-1.19429790e+03]\n [-9.73442467e+02]\n [-9.61180071e+02]\n [-1.01901216e+03]\n [-1.73916972e+02]\n [ 1.91280349e+00]\n [ 9.19081210e-01]\n [-2.00245584e+02]\n [-9.76065073e+02]\n [-1.14292861e+03]\n [-1.19207627e+03]\n [-9.95760637e+02]\n [-2.07603054e+02]\n [ 1.39631480e+00]\n [ 0.00000000e+00]\n [-1.77442869e+02]\n [-9.28568627e+02]\n [-1.13494726e+03]\n [-1.11899063e+03]\n [-1.05322850e+03]\n [-3.82101132e+02]\n [ 0.00000000e+00]\n [ 2.52644623e-02]\n [-1.72709400e+02]\n [-9.65007609e+02]\n [-8.53988263e+02]\n [-1.01315674e+03]\n [-1.10395341e+03]\n [-4.59090938e+02]\n [-3.26519091e+00]\n [ 1.61261074e-02]\n [-8.22893704e+01]\n [-1.00446366e+03]\n [-1.08068210e+03]\n [-1.13662205e+03]\n [-1.17989300e+03]\n [-4.59845824e+02]\n [-1.21846002e+01]\n [ 4.89474736e-03]\n [-2.03123516e+01]\n [-6.52914535e+02]\n [-1.45433818e+03]\n [-1.47235486e+03]\n [-8.29646710e+02]\n [-1.80399931e+02]\n [ 3.18054111e+00]]\ndw(64, 1)\nw(64, 1)\ndb-0.08891345247148448\nstart----\nm1347\nA:[[0.9320554  0.99452302 0.97723937 ... 0.99825467 0.2858019  0.61807934]]\nA(1, 1347)\nA.T:[[0.9320554 ]\n [0.99452302]\n [0.97723937]\n ...\n [0.99825467]\n [0.2858019 ]\n [0.61807934]]\nY:[0 1 1 ... 1 0 0]\ncost[0.33817377]\nX.T(64, 1347)\nA.T(1347, 1)\nnp.array(Y)(1347,)\nA.T - Y.T:[[ 0.9320554 ]\n [-0.00547698]\n [-0.02276063]\n ...\n [-0.00174533]\n [ 0.2858019 ]\n [ 0.61807934]]\nnp.dot:[[ 0.00000000e+00]\n [ 2.48352269e+01]\n [ 5.97822025e+02]\n [ 1.47193062e+03]\n [ 1.38016297e+03]\n [ 6.50575329e+02]\n [ 9.46500500e+01]\n [ 1.30608601e+01]\n [-1.32401154e+00]\n [ 2.65923323e+02]\n [ 1.26028806e+03]\n [ 1.40231160e+03]\n [ 1.14904563e+03]\n [ 1.08421312e+03]\n [ 2.35048132e+02]\n [ 2.29048338e+01]\n [ 1.54480084e+00]\n [ 2.99940043e+02]\n [ 1.17639511e+03]\n [ 8.89848164e+02]\n [ 9.72356554e+02]\n [ 9.95939716e+02]\n [ 2.67782613e+02]\n [ 2.54679063e+01]\n [ 9.89297399e-01]\n [ 3.19034855e+02]\n [ 1.12433543e+03]\n [ 1.19956640e+03]\n [ 1.21549244e+03]\n [ 8.30598246e+02]\n [ 3.19244548e+02]\n [ 2.46698889e+00]\n [ 0.00000000e+00]\n [ 3.44111314e+02]\n [ 9.87932089e+02]\n [ 1.20052680e+03]\n [ 1.30983393e+03]\n [ 1.11893998e+03]\n [ 3.24504710e+02]\n [ 0.00000000e+00]\n [ 2.20013457e-01]\n [ 1.58930817e+02]\n [ 8.36954375e+02]\n [ 8.21462864e+02]\n [ 7.49640365e+02]\n [ 9.93431467e+02]\n [ 4.65514252e+02]\n [-2.82587373e-01]\n [ 1.70169795e-01]\n [ 7.56782911e+01]\n [ 9.28032606e+02]\n [ 1.14750782e+03]\n [ 1.09511796e+03]\n [ 1.07014927e+03]\n [ 4.63961941e+02]\n [ 1.97478858e+01]\n [ 5.12383271e-02]\n [ 2.20603881e+01]\n [ 6.38429766e+02]\n [ 1.54350880e+03]\n [ 1.51112928e+03]\n [ 8.55563962e+02]\n [ 2.17991928e+02]\n [ 4.44138228e+01]]\ndw(64, 1)\nw(64, 1)\ndb0.08948437028172197\nstart----\nm1347\nA:[[0.50067883 0.92474215 0.81391514 ... 0.98677846 0.04661981 0.12412142]]\nA(1, 1347)\nA.T:[[0.50067883]\n [0.92474215]\n [0.81391514]\n ...\n [0.98677846]\n [0.04661981]\n [0.12412142]]\nY:[0 1 1 ... 1 0 0]\ncost[0.33770988]\nX.T(64, 1347)\nA.T(1347, 1)\nnp.array(Y)(1347,)\nA.T - Y.T:[[ 0.50067883]\n [-0.07525785]\n [-0.18608486]\n ...\n [-0.01322154]\n [ 0.04661981]\n [ 0.12412142]]\nnp.dot:[[ 0.00000000e+00]\n [-3.00268901e+01]\n [-6.04993886e+02]\n [-1.41663279e+03]\n [-1.43466342e+03]\n [-5.90272411e+02]\n [-1.12418952e+02]\n [-1.31451344e+01]\n [-4.50917072e+00]\n [-2.19510332e+02]\n [-1.28317376e+03]\n [-1.48834370e+03]\n [-1.34656346e+03]\n [-9.85050466e+02]\n [-1.74475869e+02]\n [-1.94998367e+01]\n [ 9.14671329e-01]\n [-2.80114438e+02]\n [-1.18310183e+03]\n [-9.61078383e+02]\n [-9.50728085e+02]\n [-1.00712055e+03]\n [-1.72326996e+02]\n [ 1.86924757e+00]\n [ 9.18738162e-01]\n [-2.00288873e+02]\n [-9.68664005e+02]\n [-1.12956379e+03]\n [-1.18045067e+03]\n [-9.84921293e+02]\n [-2.05974025e+02]\n [ 1.39320941e+00]\n [ 0.00000000e+00]\n [-1.77264628e+02]\n [-9.21153710e+02]\n [-1.12475353e+03]\n [-1.11043118e+03]\n [-1.04475267e+03]\n [-3.78934291e+02]\n [ 0.00000000e+00]\n [ 2.60163533e-02]\n [-1.71303362e+02]\n [-9.54126350e+02]\n [-8.45249565e+02]\n [-1.00296656e+03]\n [-1.09279829e+03]\n [-4.55831786e+02]\n [-3.24440503e+00]\n [ 1.68795207e-02]\n [-8.11968995e+01]\n [-9.93819028e+02]\n [-1.07096397e+03]\n [-1.12519113e+03]\n [-1.16811183e+03]\n [-4.56682272e+02]\n [-1.20683135e+01]\n [ 5.12828297e-03]\n [-2.00387830e+01]\n [-6.47157450e+02]\n [-1.44191602e+03]\n [-1.45911401e+03]\n [-8.21895594e+02]\n [-1.78746970e+02]\n [ 3.20614122e+00]]\ndw(64, 1)\nw(64, 1)\ndb-0.08810219740141229\nstart----\nm1347\nA:[[0.93023528 0.9944491  0.97664685 ... 0.9981852  0.28111186 0.61464277]]\nA(1, 1347)\nA.T:[[0.93023528]\n [0.9944491 ]\n [0.97664685]\n ...\n [0.9981852 ]\n [0.28111186]\n [0.61464277]]\nY:[0 1 1 ... 1 0 0]\ncost[0.33645697]\nX.T(64, 1347)\nA.T(1347, 1)\nnp.array(Y)(1347,)\nA.T - Y.T:[[ 0.93023528]\n [-0.0055509 ]\n [-0.02335315]\n ...\n [-0.0018148 ]\n [ 0.28111186]\n [ 0.61464277]]\nnp.dot:[[ 0.00000000e+00]\n [ 2.46691134e+01]\n [ 5.94873036e+02]\n [ 1.46464538e+03]\n [ 1.37463761e+03]\n [ 6.47893471e+02]\n [ 9.42522475e+01]\n [ 1.29693402e+01]\n [-1.34759825e+00]\n [ 2.63818881e+02]\n [ 1.25399105e+03]\n [ 1.39771607e+03]\n [ 1.14852614e+03]\n [ 1.08043223e+03]\n [ 2.33254437e+02]\n [ 2.25527036e+01]\n [ 1.54334646e+00]\n [ 2.97446924e+02]\n [ 1.17175545e+03]\n [ 8.90244905e+02]\n [ 9.70011837e+02]\n [ 9.93556778e+02]\n [ 2.65458537e+02]\n [ 2.51544302e+01]\n [ 9.89036295e-01]\n [ 3.16139925e+02]\n [ 1.11908893e+03]\n [ 1.19647257e+03]\n [ 1.20972486e+03]\n [ 8.29068930e+02]\n [ 3.17131089e+02]\n [ 2.45468589e+00]\n [ 0.00000000e+00]\n [ 3.41269536e+02]\n [ 9.84308711e+02]\n [ 1.19533168e+03]\n [ 1.30229622e+03]\n [ 1.11367767e+03]\n [ 3.22907749e+02]\n [ 0.00000000e+00]\n [ 2.21962282e-01]\n [ 1.58542459e+02]\n [ 8.37233423e+02]\n [ 8.20117320e+02]\n [ 7.47634874e+02]\n [ 9.91256988e+02]\n [ 4.63471155e+02]\n [-2.86316231e-01]\n [ 1.73780583e-01]\n [ 7.57625995e+01]\n [ 9.26322974e+02]\n [ 1.14314154e+03]\n [ 1.09228297e+03]\n [ 1.06834209e+03]\n [ 4.61512856e+02]\n [ 1.95782251e+01]\n [ 5.23741319e-02]\n [ 2.20247097e+01]\n [ 6.35155963e+02]\n [ 1.53530318e+03]\n [ 1.50523156e+03]\n [ 8.53032990e+02]\n [ 2.16610284e+02]\n [ 4.39261272e+01]]\ndw(64, 1)\nw(64, 1)\ndb0.08913445172122249\nstart----\nm1347\nA:[[0.49612722 0.92442921 0.81116631 ... 0.98637186 0.04595043 0.1235324 ]]\nA(1, 1347)\nA.T:[[0.49612722]\n [0.92442921]\n [0.81116631]\n ...\n [0.98637186]\n [0.04595043]\n [0.1235324 ]]\nY:[0 1 1 ... 1 0 0]\ncost[0.33657822]\nX.T(64, 1347)\nA.T(1347, 1)\nnp.array(Y)(1347,)\nA.T - Y.T:[[ 0.49612722]\n [-0.07557079]\n [-0.18883369]\n ...\n [-0.01362814]\n [ 0.04595043]\n [ 0.1235324 ]]\nnp.dot:[[ 0.00000000e+00]\n [-3.00754186e+01]\n [-6.06601689e+02]\n [-1.42161998e+03]\n [-1.43800115e+03]\n [-5.92402314e+02]\n [-1.12975544e+02]\n [-1.32009620e+01]\n [-4.52271093e+00]\n [-2.21009217e+02]\n [-1.28727588e+03]\n [-1.49090117e+03]\n [-1.34518510e+03]\n [-9.86521806e+02]\n [-1.75327387e+02]\n [-1.97000717e+01]\n [ 9.12591998e-01]\n [-2.82691095e+02]\n [-1.18669343e+03]\n [-9.59177931e+02]\n [-9.50520204e+02]\n [-1.00690650e+03]\n [-1.73186436e+02]\n [ 1.71141790e+00]\n [ 9.17472833e-01]\n [-2.03248532e+02]\n [-9.74362314e+02]\n [-1.13071392e+03]\n [-1.18322588e+03]\n [-9.84960196e+02]\n [-2.07299656e+02]\n [ 1.38574308e+00]\n [ 0.00000000e+00]\n [-1.79717921e+02]\n [-9.25161313e+02]\n [-1.12904572e+03]\n [-1.11654140e+03]\n [-1.04921015e+03]\n [-3.79917734e+02]\n [ 0.00000000e+00]\n [ 2.64467965e-02]\n [-1.71564714e+02]\n [-9.53583887e+02]\n [-8.46255864e+02]\n [-1.00265990e+03]\n [-1.09396010e+03]\n [-4.58428178e+02]\n [-3.25597615e+00]\n [ 1.73851305e-02]\n [-8.09320591e+01]\n [-9.94441923e+02]\n [-1.07426843e+03]\n [-1.12530663e+03]\n [-1.16900693e+03]\n [-4.59413249e+02]\n [-1.21120006e+01]\n [ 5.28639725e-03]\n [-1.99938478e+01]\n [-6.48947717e+02]\n [-1.44709558e+03]\n [-1.46277862e+03]\n [-8.24052007e+02]\n [-1.79543158e+02]\n [ 3.08773272e+00]]\ndw(64, 1)\nw(64, 1)\ndb-0.08833869529327211\nstart----\nm1347\nA:[[0.92945391 0.99445716 0.97634024 ... 0.99813947 0.27900564 0.61460983]]\nA(1, 1347)\nA.T:[[0.92945391]\n [0.99445716]\n [0.97634024]\n ...\n [0.99813947]\n [0.27900564]\n [0.61460983]]\nY:[0 1 1 ... 1 0 0]\ncost[0.33604955]\nX.T(64, 1347)\nA.T(1347, 1)\nnp.array(Y)(1347,)\nA.T - Y.T:[[ 0.92945391]\n [-0.00554284]\n [-0.02365976]\n ...\n [-0.00186053]\n [ 0.27900564]\n [ 0.61460983]]\nnp.dot:[[ 0.00000000e+00]\n [ 2.48524459e+01]\n [ 5.98741626e+02]\n [ 1.47375071e+03]\n [ 1.38525819e+03]\n [ 6.51954524e+02]\n [ 9.47590547e+01]\n [ 1.29633113e+01]\n [-1.34682971e+00]\n [ 2.64594643e+02]\n [ 1.26162588e+03]\n [ 1.40965074e+03]\n [ 1.16280436e+03]\n [ 1.08834539e+03]\n [ 2.33626612e+02]\n [ 2.24014719e+01]\n [ 1.54614926e+00]\n [ 2.98363989e+02]\n [ 1.17992160e+03]\n [ 9.01276007e+02]\n [ 9.79224839e+02]\n [ 1.00256370e+03]\n [ 2.65827581e+02]\n [ 2.49817894e+01]\n [ 9.88907210e-01]\n [ 3.16537451e+02]\n [ 1.12522807e+03]\n [ 1.20548591e+03]\n [ 1.21733341e+03]\n [ 8.37761289e+02]\n [ 3.18343112e+02]\n [ 2.44809746e+00]\n [ 0.00000000e+00]\n [ 3.41969111e+02]\n [ 9.91229385e+02]\n [ 1.20235858e+03]\n [ 1.30817932e+03]\n [ 1.12061632e+03]\n [ 3.25453002e+02]\n [ 0.00000000e+00]\n [ 2.26607284e-01]\n [ 1.60372856e+02]\n [ 8.47767337e+02]\n [ 8.28267906e+02]\n [ 7.55758154e+02]\n [ 1.00092434e+03]\n [ 4.66382591e+02]\n [-2.82596964e-01]\n [ 1.79409884e-01]\n [ 7.68377734e+01]\n [ 9.35575639e+02]\n [ 1.15146605e+03]\n [ 1.10337834e+03]\n [ 1.07974940e+03]\n [ 4.64072571e+02]\n [ 1.96407731e+01]\n [ 5.41093056e-02]\n [ 2.22656655e+01]\n [ 6.39185109e+02]\n [ 1.54405731e+03]\n [ 1.51685442e+03]\n [ 8.60186965e+02]\n [ 2.17625016e+02]\n [ 4.37856096e+01]]\ndw(64, 1)\nw(64, 1)\ndb0.08979893191014601\nstart----\nm1347\nA:[[0.48831013 0.92302294 0.80641523 ... 0.98583457 0.04481085 0.12152674]]\nA(1, 1347)\nA.T:[[0.48831013]\n [0.92302294]\n [0.80641523]\n ...\n [0.98583457]\n [0.04481085]\n [0.12152674]]\nY:[0 1 1 ... 1 0 0]\ncost[0.33673699]\nX.T(64, 1347)\nA.T(1347, 1)\nnp.array(Y)(1347,)\nA.T - Y.T:[[ 0.48831013]\n [-0.07697706]\n [-0.19358477]\n ...\n [-0.01416543]\n [ 0.04481085]\n [ 0.12152674]]\nnp.dot:[[ 0.00000000e+00]\n [-3.04002788e+01]\n [-6.14789552e+02]\n [-1.44247946e+03]\n [-1.45684792e+03]\n [-6.01819857e+02]\n [-1.15001820e+02]\n [-1.34646049e+01]\n [-4.54667713e+00]\n [-2.25074735e+02]\n [-1.30588138e+03]\n [-1.50931105e+03]\n [-1.35690050e+03]\n [-9.99413782e+02]\n [-1.78598381e+02]\n [-2.01456299e+01]\n [ 9.07689965e-01]\n [-2.88454278e+02]\n [-1.20404067e+03]\n [-9.67085213e+02]\n [-9.59878759e+02]\n [-1.01758351e+03]\n [-1.76308845e+02]\n [ 1.45083488e+00]\n [ 9.15336761e-01]\n [-2.08907668e+02]\n [-9.92260309e+02]\n [-1.14541081e+03]\n [-1.19939335e+03]\n [-9.95139496e+02]\n [-2.11363739e+02]\n [ 1.37441034e+00]\n [ 0.00000000e+00]\n [-1.84609738e+02]\n [-9.39836300e+02]\n [-1.14683478e+03]\n [-1.13627812e+03]\n [-1.06569314e+03]\n [-3.84752090e+02]\n [ 0.00000000e+00]\n [ 2.65572374e-02]\n [-1.73384152e+02]\n [-9.62732764e+02]\n [-8.56363144e+02]\n [-1.01156226e+03]\n [-1.10660734e+03]\n [-4.66460487e+02]\n [-3.29734304e+00]\n [ 1.76295730e-02]\n [-8.14431002e+01]\n [-1.00559066e+03]\n [-1.08970025e+03]\n [-1.13622189e+03]\n [-1.18175713e+03]\n [-4.67607128e+02]\n [-1.23023249e+01]\n [ 5.36484702e-03]\n [-2.01626958e+01]\n [-6.57750694e+02]\n [-1.46863571e+03]\n [-1.48220130e+03]\n [-8.35443471e+02]\n [-1.82607102e+02]\n [ 2.84040148e+00]]\ndw(64, 1)\nw(64, 1)\ndb-0.08955090983188552\nstart----\nm1347\nA:[[0.92969168 0.99454264 0.97631733 ... 0.99811899 0.27927146 0.61775162]]\nA(1, 1347)\nA.T:[[0.92969168]\n [0.99454264]\n [0.97631733]\n ...\n [0.99811899]\n [0.27927146]\n [0.61775162]]\nY:[0 1 1 ... 1 0 0]\ncost[0.3368954]\nX.T(64, 1347)\nA.T(1347, 1)\nnp.array(Y)(1347,)\nA.T - Y.T:[[ 0.92969168]\n [-0.00545736]\n [-0.02368267]\n ...\n [-0.00188101]\n [ 0.27927146]\n [ 0.61775162]]\nnp.dot:[[ 0.00000000e+00]\n [ 2.53621782e+01]\n [ 6.08979468e+02]\n [ 1.49817871e+03]\n [ 1.41095136e+03]\n [ 6.62297867e+02]\n [ 9.61092398e+01]\n [ 1.30382070e+01]\n [-1.32335159e+00]\n [ 2.68073323e+02]\n [ 1.28229157e+03]\n [ 1.43701885e+03]\n [ 1.19085094e+03]\n [ 1.10715007e+03]\n [ 2.36020310e+02]\n [ 2.24406606e+01]\n [ 1.55290612e+00]\n [ 3.02492563e+02]\n [ 1.20006272e+03]\n [ 9.22173067e+02]\n [ 9.99191233e+02]\n [ 1.02218347e+03]\n [ 2.68714937e+02]\n [ 2.49423500e+01]\n [ 9.88909184e-01]\n [ 3.20042413e+02]\n [ 1.14201803e+03]\n [ 1.22574225e+03]\n [ 1.23741795e+03]\n [ 8.55985048e+02]\n [ 3.22673305e+02]\n [ 2.44701020e+00]\n [ 0.00000000e+00]\n [ 3.46002138e+02]\n [ 1.00799305e+03]\n [ 1.22077630e+03]\n [ 1.32661845e+03]\n [ 1.13897665e+03]\n [ 3.31875494e+02]\n [ 0.00000000e+00]\n [ 2.33869612e-01]\n [ 1.64279583e+02]\n [ 8.67837326e+02]\n [ 8.45269772e+02]\n [ 7.73317002e+02]\n [ 1.02164105e+03]\n [ 4.73947088e+02]\n [-2.71774370e-01]\n [ 1.87010270e-01]\n [ 7.88336801e+01]\n [ 9.55039140e+02]\n [ 1.17164678e+03]\n [ 1.12745934e+03]\n [ 1.10347381e+03]\n [ 4.71337443e+02]\n [ 1.99212455e+01]\n [ 5.64307975e-02]\n [ 2.27639339e+01]\n [ 6.50036431e+02]\n [ 1.56866428e+03]\n [ 1.54483725e+03]\n [ 8.76377627e+02]\n [ 2.20882193e+02]\n [ 4.39708263e+01]]\ndw(64, 1)\nw(64, 1)\ndb0.09141086786250004\n{'w': array([[ 0.00000000e+00],\n       [-3.34903379e-03],\n       [ 2.52248879e-03],\n       [-2.04030369e-02],\n       [ 3.24944709e-02],\n       [ 1.27098087e-01],\n       [ 9.69477172e-02],\n       [ 1.20236209e-02],\n       [ 1.56580532e-03],\n       [-4.20834000e-02],\n       [ 1.11115543e-01],\n       [ 8.24010417e-03],\n       [-6.40242120e-02],\n       [-2.30502596e-02],\n       [ 3.70625088e-02],\n       [ 2.20316760e-03],\n       [-8.89373059e-04],\n       [-1.83221999e-02],\n       [ 1.53054134e-01],\n       [-2.68972493e-02],\n       [-2.16686393e-01],\n       [-4.55408953e-02],\n       [-6.22031156e-02],\n       [-1.27833879e-02],\n       [-6.19757010e-04],\n       [-9.57112071e-02],\n       [ 6.81035950e-02],\n       [ 2.01474754e-01],\n       [ 3.03310388e-02],\n       [ 8.09813516e-02],\n       [-1.05390412e-01],\n       [-1.51473269e-03],\n       [ 0.00000000e+00],\n       [-1.82275035e-01],\n       [ 2.96846580e-02],\n       [ 1.71469321e-01],\n       [-3.11959652e-02],\n       [ 3.72151530e-03],\n       [-7.94299334e-03],\n       [ 0.00000000e+00],\n       [-1.04558480e-03],\n       [-8.20520657e-02],\n       [ 1.53512080e-02],\n       [-4.87398043e-03],\n       [-2.71381558e-03],\n       [ 3.08955114e-02],\n       [ 6.47101834e-02],\n       [ 4.15011796e-03],\n       [-8.50429041e-04],\n       [-1.49255376e-02],\n       [ 7.71940820e-03],\n       [-6.75755966e-02],\n       [-2.80280451e-01],\n       [-6.08773589e-02],\n       [ 4.74596512e-02],\n       [-1.20160311e-02],\n       [-9.99684164e-05],\n       [-5.20802950e-03],\n       [ 8.64658132e-03],\n       [-4.45120158e-02],\n       [-1.54391009e-01],\n       [-2.67762451e-02],\n       [-5.08416990e-02],\n       [-5.31040338e-02]]), 'b': -0.0015672059759574103, 'train_accuracy': 0.8708240534521158, 'test_accuracy': 0.8666666666666667, 'test_accuracy1': 0.8666666666666667, 'cost': [array(0.69314718)]}\n"
    }
   ],
   "source": [
    "d = model(X_train, y_train, X_test, y_test, num_iterations = 1000, learning_rate = 1e-2,print_cost = True)\n",
    "print(d)"
   ]
  },
  {
   "cell_type": "code",
   "execution_count": 182,
   "metadata": {},
   "outputs": [
    {
     "name": "stdout",
     "output_type": "stream",
     "text": "[array(0.69314718), array(0.33850634), array(0.29982244), array(0.26720397), array(0.25341832), array(0.24447168), array(0.24094277), array(0.23827086), array(0.23654737), array(0.23557732)]\n"
    },
    {
     "data": {
      "image/png": "[encoded data removed]",
      "image/svg+xml": "<?xml version=\"1.0\" encoding=\"utf-8\" standalone=\"no\"?>\r\n<!DOCTYPE svg PUBLIC \"-//W3C//DTD SVG 1.1//EN\"\r\n  \"http://www.w3.org/Graphics/SVG/1.1/DTD/svg11.dtd\">\r\n<!-- Created with matplotlib (https://matplotlib.org/) -->\r\n<svg height=\"248.518125pt\" version=\"1.1\" viewBox=\"0 0 372.103125 248.518125\" width=\"372.103125pt\" xmlns=\"http://www.w3.org/2000/svg\" xmlns:xlink=\"http://www.w3.org/1999/xlink\">\r\n <defs>\r\n  <style type=\"text/css\">\r\n*{stroke-linecap:butt;stroke-linejoin:round;}\r\n  </style>\r\n </defs>\r\n <g id=\"figure_1\">\r\n  <g id=\"patch_1\">\r\n   <path d=\"M 0 248.518125 \r\nL 372.103125 248.518125 \r\nL 372.103125 0 \r\nL 0 0 \r\nz\r\n\" style=\"fill:none;\"/>\r\n  </g>\r\n  <g id=\"axes_1\">\r\n   <g id=\"patch_2\">\r\n    <path d=\"M 30.103125 224.64 \r\nL 364.903125 224.64 \r\nL 364.903125 7.2 \r\nL 30.103125 7.2 \r\nz\r\n\" style=\"fill:#ffffff;\"/>\r\n   </g>\r\n   <g id=\"matplotlib.axis_1\">\r\n    <g id=\"xtick_1\">\r\n     <g id=\"line2d_1\">\r\n      <defs>\r\n       <path d=\"M 0 0 \r\nL 0 3.5 \r\n\" id=\"me8efc46981\" style=\"stroke:#000000;stroke-width:0.8;\"/>\r\n      </defs>\r\n      <g>\r\n       <use style=\"stroke:#000000;stroke-width:0.8;\" x=\"45.321307\" xlink:href=\"#me8efc46981\" y=\"224.64\"/>\r\n      </g>\r\n     </g>\r\n     <g id=\"text_1\">\r\n      <!-- 0 -->\r\n      <defs>\r\n       <path d=\"M 31.78125 66.40625 \r\nQ 24.171875 66.40625 20.328125 58.90625 \r\nQ 16.5 51.421875 16.5 36.375 \r\nQ 16.5 21.390625 20.328125 13.890625 \r\nQ 24.171875 6.390625 31.78125 6.390625 \r\nQ 39.453125 6.390625 43.28125 13.890625 \r\nQ 47.125 21.390625 47.125 36.375 \r\nQ 47.125 51.421875 43.28125 58.90625 \r\nQ 39.453125 66.40625 31.78125 66.40625 \r\nz\r\nM 31.78125 74.21875 \r\nQ 44.046875 74.21875 50.515625 64.515625 \r\nQ 56.984375 54.828125 56.984375 36.375 \r\nQ 56.984375 17.96875 50.515625 8.265625 \r\nQ 44.046875 -1.421875 31.78125 -1.421875 \r\nQ 19.53125 -1.421875 13.0625 8.265625 \r\nQ 6.59375 17.96875 6.59375 36.375 \r\nQ 6.59375 54.828125 13.0625 64.515625 \r\nQ 19.53125 74.21875 31.78125 74.21875 \r\nz\r\n\" id=\"DejaVuSans-48\"/>\r\n      </defs>\r\n      <g transform=\"translate(42.140057 239.238437)scale(0.1 -0.1)\">\r\n       <use xlink:href=\"#DejaVuSans-48\"/>\r\n      </g>\r\n     </g>\r\n    </g>\r\n    <g id=\"xtick_2\">\r\n     <g id=\"line2d_2\">\r\n      <g>\r\n       <use style=\"stroke:#000000;stroke-width:0.8;\" x=\"112.95767\" xlink:href=\"#me8efc46981\" y=\"224.64\"/>\r\n      </g>\r\n     </g>\r\n     <g id=\"text_2\">\r\n      <!-- 2 -->\r\n      <defs>\r\n       <path d=\"M 19.1875 8.296875 \r\nL 53.609375 8.296875 \r\nL 53.609375 0 \r\nL 7.328125 0 \r\nL 7.328125 8.296875 \r\nQ 12.9375 14.109375 22.625 23.890625 \r\nQ 32.328125 33.6875 34.8125 36.53125 \r\nQ 39.546875 41.84375 41.421875 45.53125 \r\nQ 43.3125 49.21875 43.3125 52.78125 \r\nQ 43.3125 58.59375 39.234375 62.25 \r\nQ 35.15625 65.921875 28.609375 65.921875 \r\nQ 23.96875 65.921875 18.8125 64.3125 \r\nQ 13.671875 62.703125 7.8125 59.421875 \r\nL 7.8125 69.390625 \r\nQ 13.765625 71.78125 18.9375 73 \r\nQ 24.125 74.21875 28.421875 74.21875 \r\nQ 39.75 74.21875 46.484375 68.546875 \r\nQ 53.21875 62.890625 53.21875 53.421875 \r\nQ 53.21875 48.921875 51.53125 44.890625 \r\nQ 49.859375 40.875 45.40625 35.40625 \r\nQ 44.1875 33.984375 37.640625 27.21875 \r\nQ 31.109375 20.453125 19.1875 8.296875 \r\nz\r\n\" id=\"DejaVuSans-50\"/>\r\n      </defs>\r\n      <g transform=\"translate(109.77642 239.238437)scale(0.1 -0.1)\">\r\n       <use xlink:href=\"#DejaVuSans-50\"/>\r\n      </g>\r\n     </g>\r\n    </g>\r\n    <g id=\"xtick_3\">\r\n     <g id=\"line2d_3\">\r\n      <g>\r\n       <use style=\"stroke:#000000;stroke-width:0.8;\" x=\"180.594034\" xlink:href=\"#me8efc46981\" y=\"224.64\"/>\r\n      </g>\r\n     </g>\r\n     <g id=\"text_3\">\r\n      <!-- 4 -->\r\n      <defs>\r\n       <path d=\"M 37.796875 64.3125 \r\nL 12.890625 25.390625 \r\nL 37.796875 25.390625 \r\nz\r\nM 35.203125 72.90625 \r\nL 47.609375 72.90625 \r\nL 47.609375 25.390625 \r\nL 58.015625 25.390625 \r\nL 58.015625 17.1875 \r\nL 47.609375 17.1875 \r\nL 47.609375 0 \r\nL 37.796875 0 \r\nL 37.796875 17.1875 \r\nL 4.890625 17.1875 \r\nL 4.890625 26.703125 \r\nz\r\n\" id=\"DejaVuSans-52\"/>\r\n      </defs>\r\n      <g transform=\"translate(177.412784 239.238437)scale(0.1 -0.1)\">\r\n       <use xlink:href=\"#DejaVuSans-52\"/>\r\n      </g>\r\n     </g>\r\n    </g>\r\n    <g id=\"xtick_4\">\r\n     <g id=\"line2d_4\">\r\n      <g>\r\n       <use style=\"stroke:#000000;stroke-width:0.8;\" x=\"248.230398\" xlink:href=\"#me8efc46981\" y=\"224.64\"/>\r\n      </g>\r\n     </g>\r\n     <g id=\"text_4\">\r\n      <!-- 6 -->\r\n      <defs>\r\n       <path d=\"M 33.015625 40.375 \r\nQ 26.375 40.375 22.484375 35.828125 \r\nQ 18.609375 31.296875 18.609375 23.390625 \r\nQ 18.609375 15.53125 22.484375 10.953125 \r\nQ 26.375 6.390625 33.015625 6.390625 \r\nQ 39.65625 6.390625 43.53125 10.953125 \r\nQ 47.40625 15.53125 47.40625 23.390625 \r\nQ 47.40625 31.296875 43.53125 35.828125 \r\nQ 39.65625 40.375 33.015625 40.375 \r\nz\r\nM 52.59375 71.296875 \r\nL 52.59375 62.3125 \r\nQ 48.875 64.0625 45.09375 64.984375 \r\nQ 41.3125 65.921875 37.59375 65.921875 \r\nQ 27.828125 65.921875 22.671875 59.328125 \r\nQ 17.53125 52.734375 16.796875 39.40625 \r\nQ 19.671875 43.65625 24.015625 45.921875 \r\nQ 28.375 48.1875 33.59375 48.1875 \r\nQ 44.578125 48.1875 50.953125 41.515625 \r\nQ 57.328125 34.859375 57.328125 23.390625 \r\nQ 57.328125 12.15625 50.6875 5.359375 \r\nQ 44.046875 -1.421875 33.015625 -1.421875 \r\nQ 20.359375 -1.421875 13.671875 8.265625 \r\nQ 6.984375 17.96875 6.984375 36.375 \r\nQ 6.984375 53.65625 15.1875 63.9375 \r\nQ 23.390625 74.21875 37.203125 74.21875 \r\nQ 40.921875 74.21875 44.703125 73.484375 \r\nQ 48.484375 72.75 52.59375 71.296875 \r\nz\r\n\" id=\"DejaVuSans-54\"/>\r\n      </defs>\r\n      <g transform=\"translate(245.049148 239.238437)scale(0.1 -0.1)\">\r\n       <use xlink:href=\"#DejaVuSans-54\"/>\r\n      </g>\r\n     </g>\r\n    </g>\r\n    <g id=\"xtick_5\">\r\n     <g id=\"line2d_5\">\r\n      <g>\r\n       <use style=\"stroke:#000000;stroke-width:0.8;\" x=\"315.866761\" xlink:href=\"#me8efc46981\" y=\"224.64\"/>\r\n      </g>\r\n     </g>\r\n     <g id=\"text_5\">\r\n      <!-- 8 -->\r\n      <defs>\r\n       <path d=\"M 31.78125 34.625 \r\nQ 24.75 34.625 20.71875 30.859375 \r\nQ 16.703125 27.09375 16.703125 20.515625 \r\nQ 16.703125 13.921875 20.71875 10.15625 \r\nQ 24.75 6.390625 31.78125 6.390625 \r\nQ 38.8125 6.390625 42.859375 10.171875 \r\nQ 46.921875 13.96875 46.921875 20.515625 \r\nQ 46.921875 27.09375 42.890625 30.859375 \r\nQ 38.875 34.625 31.78125 34.625 \r\nz\r\nM 21.921875 38.8125 \r\nQ 15.578125 40.375 12.03125 44.71875 \r\nQ 8.5 49.078125 8.5 55.328125 \r\nQ 8.5 64.0625 14.71875 69.140625 \r\nQ 20.953125 74.21875 31.78125 74.21875 \r\nQ 42.671875 74.21875 48.875 69.140625 \r\nQ 55.078125 64.0625 55.078125 55.328125 \r\nQ 55.078125 49.078125 51.53125 44.71875 \r\nQ 48 40.375 41.703125 38.8125 \r\nQ 48.828125 37.15625 52.796875 32.3125 \r\nQ 56.78125 27.484375 56.78125 20.515625 \r\nQ 56.78125 9.90625 50.3125 4.234375 \r\nQ 43.84375 -1.421875 31.78125 -1.421875 \r\nQ 19.734375 -1.421875 13.25 4.234375 \r\nQ 6.78125 9.90625 6.78125 20.515625 \r\nQ 6.78125 27.484375 10.78125 32.3125 \r\nQ 14.796875 37.15625 21.921875 38.8125 \r\nz\r\nM 18.3125 54.390625 \r\nQ 18.3125 48.734375 21.84375 45.5625 \r\nQ 25.390625 42.390625 31.78125 42.390625 \r\nQ 38.140625 42.390625 41.71875 45.5625 \r\nQ 45.3125 48.734375 45.3125 54.390625 \r\nQ 45.3125 60.0625 41.71875 63.234375 \r\nQ 38.140625 66.40625 31.78125 66.40625 \r\nQ 25.390625 66.40625 21.84375 63.234375 \r\nQ 18.3125 60.0625 18.3125 54.390625 \r\nz\r\n\" id=\"DejaVuSans-56\"/>\r\n      </defs>\r\n      <g transform=\"translate(312.685511 239.238437)scale(0.1 -0.1)\">\r\n       <use xlink:href=\"#DejaVuSans-56\"/>\r\n      </g>\r\n     </g>\r\n    </g>\r\n   </g>\r\n   <g id=\"matplotlib.axis_2\">\r\n    <g id=\"ytick_1\">\r\n     <g id=\"line2d_6\">\r\n      <defs>\r\n       <path d=\"M 0 0 \r\nL -3.5 0 \r\n\" id=\"m3ef07a01c5\" style=\"stroke:#000000;stroke-width:0.8;\"/>\r\n      </defs>\r\n      <g>\r\n       <use style=\"stroke:#000000;stroke-width:0.8;\" x=\"30.103125\" xlink:href=\"#m3ef07a01c5\" y=\"186.925406\"/>\r\n      </g>\r\n     </g>\r\n     <g id=\"text_6\">\r\n      <!-- 0.3 -->\r\n      <defs>\r\n       <path d=\"M 10.6875 12.40625 \r\nL 21 12.40625 \r\nL 21 0 \r\nL 10.6875 0 \r\nz\r\n\" id=\"DejaVuSans-46\"/>\r\n       <path d=\"M 40.578125 39.3125 \r\nQ 47.65625 37.796875 51.625 33 \r\nQ 55.609375 28.21875 55.609375 21.1875 \r\nQ 55.609375 10.40625 48.1875 4.484375 \r\nQ 40.765625 -1.421875 27.09375 -1.421875 \r\nQ 22.515625 -1.421875 17.65625 -0.515625 \r\nQ 12.796875 0.390625 7.625 2.203125 \r\nL 7.625 11.71875 \r\nQ 11.71875 9.328125 16.59375 8.109375 \r\nQ 21.484375 6.890625 26.8125 6.890625 \r\nQ 36.078125 6.890625 40.9375 10.546875 \r\nQ 45.796875 14.203125 45.796875 21.1875 \r\nQ 45.796875 27.640625 41.28125 31.265625 \r\nQ 36.765625 34.90625 28.71875 34.90625 \r\nL 20.21875 34.90625 \r\nL 20.21875 43.015625 \r\nL 29.109375 43.015625 \r\nQ 36.375 43.015625 40.234375 45.921875 \r\nQ 44.09375 48.828125 44.09375 54.296875 \r\nQ 44.09375 59.90625 40.109375 62.90625 \r\nQ 36.140625 65.921875 28.71875 65.921875 \r\nQ 24.65625 65.921875 20.015625 65.03125 \r\nQ 15.375 64.15625 9.8125 62.3125 \r\nL 9.8125 71.09375 \r\nQ 15.4375 72.65625 20.34375 73.4375 \r\nQ 25.25 74.21875 29.59375 74.21875 \r\nQ 40.828125 74.21875 47.359375 69.109375 \r\nQ 53.90625 64.015625 53.90625 55.328125 \r\nQ 53.90625 49.265625 50.4375 45.09375 \r\nQ 46.96875 40.921875 40.578125 39.3125 \r\nz\r\n\" id=\"DejaVuSans-51\"/>\r\n      </defs>\r\n      <g transform=\"translate(7.2 190.724625)scale(0.1 -0.1)\">\r\n       <use xlink:href=\"#DejaVuSans-48\"/>\r\n       <use x=\"63.623047\" xlink:href=\"#DejaVuSans-46\"/>\r\n       <use x=\"95.410156\" xlink:href=\"#DejaVuSans-51\"/>\r\n      </g>\r\n     </g>\r\n    </g>\r\n    <g id=\"ytick_2\">\r\n     <g id=\"line2d_7\">\r\n      <g>\r\n       <use style=\"stroke:#000000;stroke-width:0.8;\" x=\"30.103125\" xlink:href=\"#m3ef07a01c5\" y=\"143.72485\"/>\r\n      </g>\r\n     </g>\r\n     <g id=\"text_7\">\r\n      <!-- 0.4 -->\r\n      <g transform=\"translate(7.2 147.524068)scale(0.1 -0.1)\">\r\n       <use xlink:href=\"#DejaVuSans-48\"/>\r\n       <use x=\"63.623047\" xlink:href=\"#DejaVuSans-46\"/>\r\n       <use x=\"95.410156\" xlink:href=\"#DejaVuSans-52\"/>\r\n      </g>\r\n     </g>\r\n    </g>\r\n    <g id=\"ytick_3\">\r\n     <g id=\"line2d_8\">\r\n      <g>\r\n       <use style=\"stroke:#000000;stroke-width:0.8;\" x=\"30.103125\" xlink:href=\"#m3ef07a01c5\" y=\"100.524293\"/>\r\n      </g>\r\n     </g>\r\n     <g id=\"text_8\">\r\n      <!-- 0.5 -->\r\n      <defs>\r\n       <path d=\"M 10.796875 72.90625 \r\nL 49.515625 72.90625 \r\nL 49.515625 64.59375 \r\nL 19.828125 64.59375 \r\nL 19.828125 46.734375 \r\nQ 21.96875 47.46875 24.109375 47.828125 \r\nQ 26.265625 48.1875 28.421875 48.1875 \r\nQ 40.625 48.1875 47.75 41.5 \r\nQ 54.890625 34.8125 54.890625 23.390625 \r\nQ 54.890625 11.625 47.5625 5.09375 \r\nQ 40.234375 -1.421875 26.90625 -1.421875 \r\nQ 22.3125 -1.421875 17.546875 -0.640625 \r\nQ 12.796875 0.140625 7.71875 1.703125 \r\nL 7.71875 11.625 \r\nQ 12.109375 9.234375 16.796875 8.0625 \r\nQ 21.484375 6.890625 26.703125 6.890625 \r\nQ 35.15625 6.890625 40.078125 11.328125 \r\nQ 45.015625 15.765625 45.015625 23.390625 \r\nQ 45.015625 31 40.078125 35.4375 \r\nQ 35.15625 39.890625 26.703125 39.890625 \r\nQ 22.75 39.890625 18.8125 39.015625 \r\nQ 14.890625 38.140625 10.796875 36.28125 \r\nz\r\n\" id=\"DejaVuSans-53\"/>\r\n      </defs>\r\n      <g transform=\"translate(7.2 104.323512)scale(0.1 -0.1)\">\r\n       <use xlink:href=\"#DejaVuSans-48\"/>\r\n       <use x=\"63.623047\" xlink:href=\"#DejaVuSans-46\"/>\r\n       <use x=\"95.410156\" xlink:href=\"#DejaVuSans-53\"/>\r\n      </g>\r\n     </g>\r\n    </g>\r\n    <g id=\"ytick_4\">\r\n     <g id=\"line2d_9\">\r\n      <g>\r\n       <use style=\"stroke:#000000;stroke-width:0.8;\" x=\"30.103125\" xlink:href=\"#m3ef07a01c5\" y=\"57.323737\"/>\r\n      </g>\r\n     </g>\r\n     <g id=\"text_9\">\r\n      <!-- 0.6 -->\r\n      <g transform=\"translate(7.2 61.122955)scale(0.1 -0.1)\">\r\n       <use xlink:href=\"#DejaVuSans-48\"/>\r\n       <use x=\"63.623047\" xlink:href=\"#DejaVuSans-46\"/>\r\n       <use x=\"95.410156\" xlink:href=\"#DejaVuSans-54\"/>\r\n      </g>\r\n     </g>\r\n    </g>\r\n    <g id=\"ytick_5\">\r\n     <g id=\"line2d_10\">\r\n      <g>\r\n       <use style=\"stroke:#000000;stroke-width:0.8;\" x=\"30.103125\" xlink:href=\"#m3ef07a01c5\" y=\"14.12318\"/>\r\n      </g>\r\n     </g>\r\n     <g id=\"text_10\">\r\n      <!-- 0.7 -->\r\n      <defs>\r\n       <path d=\"M 8.203125 72.90625 \r\nL 55.078125 72.90625 \r\nL 55.078125 68.703125 \r\nL 28.609375 0 \r\nL 18.3125 0 \r\nL 43.21875 64.59375 \r\nL 8.203125 64.59375 \r\nz\r\n\" id=\"DejaVuSans-55\"/>\r\n      </defs>\r\n      <g transform=\"translate(7.2 17.922399)scale(0.1 -0.1)\">\r\n       <use xlink:href=\"#DejaVuSans-48\"/>\r\n       <use x=\"63.623047\" xlink:href=\"#DejaVuSans-46\"/>\r\n       <use x=\"95.410156\" xlink:href=\"#DejaVuSans-55\"/>\r\n      </g>\r\n     </g>\r\n    </g>\r\n   </g>\r\n   <g id=\"line2d_11\">\r\n    <path clip-path=\"url(#p6f8f212b76)\" d=\"M 45.321307 17.083636 \r\nL 79.139489 170.290453 \r\nL 112.95767 187.002112 \r\nL 146.775852 201.093475 \r\nL 180.594034 207.048952 \r\nL 214.412216 210.913947 \r\nL 248.230398 212.438457 \r\nL 282.04858 213.592739 \r\nL 315.866761 214.337293 \r\nL 349.684943 214.756364 \r\n\" style=\"fill:none;stroke:#1f77b4;stroke-linecap:square;stroke-width:1.5;\"/>\r\n   </g>\r\n   <g id=\"patch_3\">\r\n    <path d=\"M 30.103125 224.64 \r\nL 30.103125 7.2 \r\n\" style=\"fill:none;stroke:#000000;stroke-linecap:square;stroke-linejoin:miter;stroke-width:0.8;\"/>\r\n   </g>\r\n   <g id=\"patch_4\">\r\n    <path d=\"M 364.903125 224.64 \r\nL 364.903125 7.2 \r\n\" style=\"fill:none;stroke:#000000;stroke-linecap:square;stroke-linejoin:miter;stroke-width:0.8;\"/>\r\n   </g>\r\n   <g id=\"patch_5\">\r\n    <path d=\"M 30.103125 224.64 \r\nL 364.903125 224.64 \r\n\" style=\"fill:none;stroke:#000000;stroke-linecap:square;stroke-linejoin:miter;stroke-width:0.8;\"/>\r\n   </g>\r\n   <g id=\"patch_6\">\r\n    <path d=\"M 30.103125 7.2 \r\nL 364.903125 7.2 \r\n\" style=\"fill:none;stroke:#000000;stroke-linecap:square;stroke-linejoin:miter;stroke-width:0.8;\"/>\r\n   </g>\r\n  </g>\r\n </g>\r\n <defs>\r\n  <clipPath id=\"p6f8f212b76\">\r\n   <rect height=\"217.44\" width=\"334.8\" x=\"30.103125\" y=\"7.2\"/>\r\n  </clipPath>\r\n </defs>\r\n</svg>\r\n",
      "text/plain": "<Figure size 432x288 with 1 Axes>"
     },
     "metadata": {
      "needs_background": "light"
     },
     "output_type": "display_data"
    }
   ],
   "source": [
    "print((d['cost']))\n",
    "plt.plot(d['cost'])\n",
    "plt.show()"
   ]
  },
  {
   "cell_type": "markdown",
   "metadata": {},
   "source": [
    "### 4.选做题"
   ]
  },
  {
   "cell_type": "markdown",
   "metadata": {},
   "source": [
    "Congratulations on building your first logistic regression model. It is your time to analyze it further."
   ]
  },
  {
   "cell_type": "markdown",
   "metadata": {},
   "source": [
    "##### 4.1 Observe the effect of learning rate on the leraning process.   \n",
    "Hits: plot the learning curve with different learning rate"
   ]
  },
  {
   "cell_type": "markdown",
   "metadata": {},
   "source": [
    "##### 4.2 Observe the effect of iteration_num on the test accuracy."
   ]
  },
  {
   "cell_type": "markdown",
   "metadata": {},
   "source": [
    "# Challenge ! ! !\n",
    "\n",
    "The original data have images labeled 0,1,2,3,4,5,6,7,8,9. In our logistic model, we only detect if the digit in the image is larger or smaller than 5. Now, Let's go for a more challenging problem. Try to use softmax function to build a model to recognize which digit (0,1,2,3,4,5,6,7,8,9) is in the image."
   ]
  },
  {
   "cell_type": "markdown",
   "metadata": {},
   "source": [
    "# Congratulations ! You have completed assigment 4. "
   ]
  },
  {
   "cell_type": "code",
   "execution_count": null,
   "metadata": {},
   "outputs": [],
   "source": []
  }
 ],
 "metadata": {
  "kernelspec": {
   "display_name": "Python 3",
   "language": "python",
   "name": "python3"
  },
  "language_info": {
   "codemirror_mode": {
    "name": "ipython",
    "version": 3
   },
   "file_extension": ".py",
   "mimetype": "text/x-python",
   "name": "python",
   "nbconvert_exporter": "python",
   "pygments_lexer": "ipython3",
   "version": "3.7.6-final"
  }
 },
 "nbformat": 4,
 "nbformat_minor": 2
}